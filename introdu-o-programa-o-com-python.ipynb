{
  "nbformat": 4,
  "nbformat_minor": 0,
  "metadata": {
    "colab": {
      "name": "Introdução à programação com Python",
      "provenance": [],
      "collapsed_sections": [],
      "toc_visible": true,
      "authorship_tag": "ABX9TyNOkGriMM0bncmOe2wxLdor",
      "include_colab_link": true
    },
    "kernelspec": {
      "name": "python3",
      "display_name": "Python 3"
    },
    "language_info": {
      "name": "python"
    }
  },
  "cells": [
    {
      "cell_type": "markdown",
      "metadata": {
        "id": "view-in-github",
        "colab_type": "text"
      },
      "source": [
        "<a href=\"https://colab.research.google.com/gist/rayane-barbosa/ffaa45d209110d10014d3303f9ebe2f3/introdu-o-programa-o-com-python.ipynb\" target=\"_parent\"><img src=\"https://colab.research.google.com/assets/colab-badge.svg\" alt=\"Open In Colab\"/></a>"
      ]
    },
    {
      "cell_type": "code",
      "metadata": {
        "colab": {
          "base_uri": "https://localhost:8080/"
        },
        "id": "IB08juODY2Vt",
        "outputId": "3e7e32a4-0eff-4c44-ab55-8e38523f59b6"
      },
      "source": [
        "var = \"Hello World\"\n",
        "print (var)"
      ],
      "execution_count": null,
      "outputs": [
        {
          "output_type": "stream",
          "text": [
            "Hello World\n"
          ],
          "name": "stdout"
        }
      ]
    },
    {
      "cell_type": "markdown",
      "metadata": {
        "id": "lOV54pp-39V5"
      },
      "source": [
        "#O que é o Python\n",
        "\n",
        "*   Linguagem de alto nível\n",
        "*   Criada em 1989\n",
        "*   Fortemente tipada\n",
        "* Interpretada e orientada À objetos\n",
        "* Linguagem de scripts\n",
        "* LInguagem multiparadigma \n"
      ]
    },
    {
      "cell_type": "markdown",
      "metadata": {
        "id": "sc05ia2g449v"
      },
      "source": [
        "#Onde Python pode ser usado\n",
        "\n",
        "* Desenvolvimento web\n",
        "  (Django, Flask, Pyramid, Tornado ...)\n",
        "\n",
        "* Desenvolvimento Desktop( SciPy, Pandas, IPython ... )\n",
        "\n",
        "* Automação\n",
        "  (Desenvolvimento de scripts para automação de tarefas.)\n"
      ]
    },
    {
      "cell_type": "markdown",
      "metadata": {
        "id": "--f3FuaT5X_4"
      },
      "source": [
        "#Terminal Python\n",
        "\n",
        "Ao instalar é necessário verificar se foi instalado no path para realizar comandos a partir de cmd e power shell\n",
        "\n",
        "digitar python no terminal ou cmd\n",
        "\n",
        "sendo possivel executar programas no terminal \n",
        "\n"
      ]
    },
    {
      "cell_type": "markdown",
      "metadata": {
        "id": "ntoA-bnR8cU7"
      },
      "source": [
        "#O que é uma IDE\n",
        "\n",
        "* Ambiente de desenvolvimento integrado (Integrated Development Enviroment)\n",
        "\n",
        "* Possui enormes recursos que facilitam o desenvolvimento de aplicações\n",
        "\n",
        "* Simplifica ações\n",
        "\n",
        "* Comodidade para o programador e deixa o desenvolvimento mais rápido"
      ]
    },
    {
      "cell_type": "markdown",
      "metadata": {
        "id": "r6gy-VFf8jWO"
      },
      "source": [
        "Pycharm versão gratuita da jetbrains\n"
      ]
    },
    {
      "cell_type": "markdown",
      "metadata": {
        "id": "m4DwNLo49PEw"
      },
      "source": [
        "* Variáeis\n",
        "* Manipulação das variáveis\n",
        "* Conversões\n",
        "* Operadores aritméticos\n",
        "* Strings\n",
        "* Interação com usuário\n",
        "\n",
        "\n",
        "\n",
        "\n",
        "\n",
        "\n"
      ]
    },
    {
      "cell_type": "code",
      "metadata": {
        "colab": {
          "base_uri": "https://localhost:8080/"
        },
        "id": "jqXsj7cxedN5",
        "outputId": "9d17103f-d639-41c7-d208-5f158ec83892"
      },
      "source": [
        "a = 10\n",
        "b = 5\n",
        "soma = a+b\n",
        "print (soma)"
      ],
      "execution_count": null,
      "outputs": [
        {
          "output_type": "stream",
          "text": [
            "15\n"
          ],
          "name": "stdout"
        }
      ]
    },
    {
      "cell_type": "code",
      "metadata": {
        "colab": {
          "base_uri": "https://localhost:8080/"
        },
        "id": "HgNmVIc7ekMt",
        "outputId": "00989598-b93d-4776-c321-3b27b5b13a1b"
      },
      "source": [
        "subtracao = a - b\n",
        "multiplicacao = a * b\n",
        "divisao = a / b\n",
        "print(subtracao)\n",
        "print(multiplicacao)\n",
        "print(divisao)"
      ],
      "execution_count": null,
      "outputs": [
        {
          "output_type": "stream",
          "text": [
            "5\n",
            "50\n",
            "2.0\n"
          ],
          "name": "stdout"
        }
      ]
    },
    {
      "cell_type": "code",
      "metadata": {
        "colab": {
          "base_uri": "https://localhost:8080/"
        },
        "id": "6etYhsrseyE5",
        "outputId": "0969cff9-4db9-4ab6-f571-138b9b1d31ad"
      },
      "source": [
        "resto = a % b\n",
        "print (resto)"
      ],
      "execution_count": null,
      "outputs": [
        {
          "output_type": "stream",
          "text": [
            "0\n"
          ],
          "name": "stdout"
        }
      ]
    },
    {
      "cell_type": "code",
      "metadata": {
        "colab": {
          "base_uri": "https://localhost:8080/"
        },
        "id": "GTCj9UIifFkz",
        "outputId": "f285caa2-2670-4fb1-bea8-23c8ba4b4c8a"
      },
      "source": [
        "print(type(soma))"
      ],
      "execution_count": null,
      "outputs": [
        {
          "output_type": "stream",
          "text": [
            "<class 'int'>\n"
          ],
          "name": "stdout"
        }
      ]
    },
    {
      "cell_type": "code",
      "metadata": {
        "id": "fd82UoskfcV-"
      },
      "source": [
        "soma = str(soma)"
      ],
      "execution_count": null,
      "outputs": []
    },
    {
      "cell_type": "code",
      "metadata": {
        "colab": {
          "base_uri": "https://localhost:8080/"
        },
        "id": "D1eVXYxnfjho",
        "outputId": "238c209f-5756-4dca-96db-6731fed273a5"
      },
      "source": [
        "print(type(soma))"
      ],
      "execution_count": null,
      "outputs": [
        {
          "output_type": "stream",
          "text": [
            "<class 'str'>\n"
          ],
          "name": "stdout"
        }
      ]
    },
    {
      "cell_type": "code",
      "metadata": {
        "colab": {
          "base_uri": "https://localhost:8080/"
        },
        "id": "0M_LywR-fmvt",
        "outputId": "e2e7de8d-7d3e-443f-b6b3-cf1c6c5ab3d0"
      },
      "source": [
        "print ('soma: '  + str(soma))"
      ],
      "execution_count": null,
      "outputs": [
        {
          "output_type": "stream",
          "text": [
            "soma: 15\n"
          ],
          "name": "stdout"
        }
      ]
    },
    {
      "cell_type": "code",
      "metadata": {
        "colab": {
          "base_uri": "https://localhost:8080/"
        },
        "id": "zBNS8AHWfyEJ",
        "outputId": "8e473d0d-2e2e-4f57-fc57-cb0ee024ba93"
      },
      "source": [
        "print (type(divisao))"
      ],
      "execution_count": null,
      "outputs": [
        {
          "output_type": "stream",
          "text": [
            "<class 'float'>\n"
          ],
          "name": "stdout"
        }
      ]
    },
    {
      "cell_type": "code",
      "metadata": {
        "colab": {
          "base_uri": "https://localhost:8080/"
        },
        "id": "o_9RgBicf63t",
        "outputId": "1233aca2-0aea-4036-a65d-5b8b3744e4bc"
      },
      "source": [
        "print(int(divisao))"
      ],
      "execution_count": null,
      "outputs": [
        {
          "output_type": "stream",
          "text": [
            "2\n"
          ],
          "name": "stdout"
        }
      ]
    },
    {
      "cell_type": "code",
      "metadata": {
        "colab": {
          "base_uri": "https://localhost:8080/"
        },
        "id": "oCRDvDO9f_k6",
        "outputId": "25b7aa9b-01d2-40e5-f30a-9a4850c183be"
      },
      "source": [
        "print ('subtração: ' + str(subtracao))"
      ],
      "execution_count": null,
      "outputs": [
        {
          "output_type": "stream",
          "text": [
            "subtração: 5\n"
          ],
          "name": "stdout"
        }
      ]
    },
    {
      "cell_type": "code",
      "metadata": {
        "colab": {
          "base_uri": "https://localhost:8080/"
        },
        "id": "sEjnWCuIgWMj",
        "outputId": "015dc0eb-aa46-478f-9e8e-291b2a1fed09"
      },
      "source": [
        "print ('soma: {}' .format(soma))"
      ],
      "execution_count": null,
      "outputs": [
        {
          "output_type": "stream",
          "text": [
            "soma: 15\n"
          ],
          "name": "stdout"
        }
      ]
    },
    {
      "cell_type": "code",
      "metadata": {
        "colab": {
          "base_uri": "https://localhost:8080/"
        },
        "id": "c3gmhv-Og3mB",
        "outputId": "ff4ae60d-1a72-40fe-b14b-b57fd29e861b"
      },
      "source": [
        "print('Soma: {} \\nSubtração: {} \\nDivisao {} \\nMultiplicação: {} \\nResto: {} ' .format(soma, subtracao, divisao, multiplicacao, resto))"
      ],
      "execution_count": null,
      "outputs": [
        {
          "output_type": "stream",
          "text": [
            "Soma: 15 \n",
            "Subtração: 5 \n",
            "Divisao 2.0 \n",
            "Multiplicação: 50 \n",
            "Resto: 0 \n"
          ],
          "name": "stdout"
        }
      ]
    },
    {
      "cell_type": "markdown",
      "metadata": {
        "id": "7JmL5papibW2"
      },
      "source": [
        "#Interação com usuário"
      ]
    },
    {
      "cell_type": "code",
      "metadata": {
        "colab": {
          "base_uri": "https://localhost:8080/"
        },
        "id": "-xpPhMotiVSW",
        "outputId": "66f3bbfc-5091-48b7-d4ea-8e3089270611"
      },
      "source": [
        "a = int(input('Entre com o primeiro valor: '))\n",
        "b = int(input('Entre com o segundo valor: '))\n",
        "\n",
        "soma = a + b\n",
        "subtracao = a - b\n",
        "multiplicacao = a * b\n",
        "divisao = a / b \n",
        "resto = a % b \n",
        "\n",
        "print('Soma: {} \\nSubtração: {} \\nDivisao {} \\nMultiplicação: {} \\nResto: {} ' .format(soma, subtracao, divisao, multiplicacao, resto))"
      ],
      "execution_count": null,
      "outputs": [
        {
          "output_type": "stream",
          "text": [
            "Entre com o primeiro valor: 1\n",
            "Entre com o segundo valor: 3\n",
            "Soma: 4 \n",
            "Subtração: -2 \n",
            "Divisao 0.3333333333333333 \n",
            "Multiplicação: 3 \n",
            "Resto: 1 \n"
          ],
          "name": "stdout"
        }
      ]
    },
    {
      "cell_type": "markdown",
      "metadata": {
        "id": "DtH1lgq1x2p8"
      },
      "source": [
        "**Notações**\n",
        "\n",
        "\n",
        "\n",
        "---\n",
        "\n",
        "\n",
        "Variaveis do tipo *int* são usadas para declarar números inteiros.\n",
        "\n",
        "variaveis do tipo *float* são usadas para declarar números reais.\n",
        "\n",
        "variaveis do tipo *str* são usadas para declarar \"textos\".\n",
        "\n",
        "*input* é usado para interações com o usuário de forma que seja solicitada alguma informação para o mesmo que será armazenada e poderá ser utilizada depois, seja para imprimir (*print*) alguma informação na tela ou realizar operações matemáticas\n"
      ]
    },
    {
      "cell_type": "markdown",
      "metadata": {
        "id": "5coTQwCXuLXT"
      },
      "source": [
        "Exemplo variaveis  FIAP"
      ]
    },
    {
      "cell_type": "code",
      "metadata": {
        "id": "KmWrXo0ujPKF",
        "colab": {
          "base_uri": "https://localhost:8080/"
        },
        "outputId": "ef37b51b-c269-4399-a8a0-73086ef2476a"
      },
      "source": [
        "nome= input('Digite um funcionário: ')\n",
        "empresa= input('Digite a instituição: ')\n",
        "qtde_funcionarios= int(input('Digite a qtde de funcionários: '))\n",
        "mediaMensalidade= float(input('Digite a média da mensalidade: '))\n",
        "print(nome+ ' trabalha na empresa: ' + empresa)\n",
        "print('Possui: ', qtde_funcionarios, ' funcionarios.')\n",
        "print('A média da mensalidade é de: R$' + str(mediaMensalidade))"
      ],
      "execution_count": null,
      "outputs": [
        {
          "output_type": "stream",
          "text": [
            "Digite um funcionário: Rayane\n",
            "Digite a instituição: USF swift\n",
            "Digite a qtde de funcionários: 200\n",
            "Digite a média da mensalidade: 700.00\n",
            "Rayane trabalha na empresa: USF swift\n",
            "Possui:  200  funcionarios.\n",
            "A média da mensalidade é de: R$700.0\n"
          ],
          "name": "stdout"
        }
      ]
    },
    {
      "cell_type": "code",
      "metadata": {
        "id": "8KPyTbhyt-bG",
        "colab": {
          "base_uri": "https://localhost:8080/"
        },
        "outputId": "9592d4a7-c0eb-4d7d-f79b-bdfd9ecc34ca"
      },
      "source": [
        "nome= input('Digite um funcionário: ')\n",
        "empresa= input('Digite a instituição: ')\n",
        "qtde_funcionarios= int(input('Digite a qtde de funcionários: '))\n",
        "mediaMensalidade= float(input('Digite a média da mensalidade: '))\n",
        "print(nome+ ' trabalha na empresa ' + empresa)\n",
        "print('Possui: ', qtde_funcionarios, ' funcionarios.')\n",
        "print('A média da mensalidade é de: ' + str(mediaMensalidade))\n",
        "print('========================================Verifique os tipos de dados abaixo =====================')\n",
        "print(\"O tipo de dado da variavel [nome] é: \",type(nome))\n",
        "print(\"O tipo de dado da variavel [empresa] é: \",type(empresa))\n",
        "print(\"O tipo de dado da variavel [qtde_funcionarios] é: \",type(qtde_funcionarios))\n",
        "print(\"O tipo de dado da variavel [mediaMensalidade] é: \",type(mediaMensalidade))"
      ],
      "execution_count": null,
      "outputs": [
        {
          "output_type": "stream",
          "text": [
            "Digite um funcionário: Rayane\n",
            "Digite a instituição: USF swift\n",
            "Digite a qtde de funcionários: 200\n",
            "Digite a média da mensalidade: 700.00\n",
            "Rayane trabalha na empresa USF swift\n",
            "Possui:  200  funcionarios.\n",
            "A média da mensalidade é de: 700.0\n",
            "========================================Verifique os tipos de dados abaixo =====================\n",
            "O tipo de dado da variavel [nome] é:  <class 'str'>\n",
            "O tipo de dado da variavel [empresa] é:  <class 'str'>\n",
            "O tipo de dado da variavel [qtde_funcionarios] é:  <class 'int'>\n",
            "O tipo de dado da variavel [mediaMensalidade] é:  <class 'float'>\n"
          ],
          "name": "stdout"
        }
      ]
    },
    {
      "cell_type": "markdown",
      "metadata": {
        "id": "uEI-tEly0K2E"
      },
      "source": [
        "#**Tomadas de decisões**\n",
        "\n",
        "\n",
        "---\n",
        "\n",
        "\n",
        "\n",
        "**Comandos if, elif e else**\n"
      ]
    },
    {
      "cell_type": "code",
      "metadata": {
        "colab": {
          "base_uri": "https://localhost:8080/"
        },
        "id": "CEI_NKpu0lD_",
        "outputId": "9a567117-c7db-40e0-c387-af4900ad984f"
      },
      "source": [
        "nome=input(\"Digite o nome: \")\n",
        "idade=int(input(\"Digite a idade: \"))\n",
        "prioridade=\"N\"\n",
        "if idade>=65:\n",
        "  prioridade=\"S\"\n",
        "print(\"O paciente \" + nome + \" possui atendimento prioritário? \" + prioridade)"
      ],
      "execution_count": null,
      "outputs": [
        {
          "output_type": "stream",
          "text": [
            "Digite o nome: Roseli\n",
            "Digite a idade: 70\n",
            "O paciente Roseli possui atendimento prioritário? S\n"
          ],
          "name": "stdout"
        }
      ]
    },
    {
      "cell_type": "code",
      "metadata": {
        "colab": {
          "base_uri": "https://localhost:8080/"
        },
        "id": "KAvprVVL6T6R",
        "outputId": "46115856-cb0b-47e1-adbb-9c340c8317e2"
      },
      "source": [
        "idade = int(input('Digite a idade: '))\n",
        "if idade >= 18:\n",
        "  print('Pode assistir o filme')\n",
        "else:\n",
        "  print('Não pode assistir o filme')"
      ],
      "execution_count": null,
      "outputs": [
        {
          "output_type": "stream",
          "text": [
            "Digite a idade: 20\n",
            "Pode assistir o filme\n"
          ],
          "name": "stdout"
        }
      ]
    },
    {
      "cell_type": "code",
      "metadata": {
        "colab": {
          "base_uri": "https://localhost:8080/"
        },
        "id": "PoBS2VdR6pUo",
        "outputId": "cd02a3ed-af7e-4ed0-a360-50e38026318d"
      },
      "source": [
        "nome=input(\"Digite o nome: \")\n",
        "idade=int(input(\"Digite a idade: \"))\n",
        "doenca_infectocontagiosa=input(\"Suspeita de doença infecto-contagiosa? \").upper()\n",
        "if idade>=65:\n",
        "  print(\"O paciente \" + nome + \" POSSUI atendimento prioritário!\")\n",
        "elif doenca_infectocontagiosa==\"S\":\n",
        "    print(\"O paciente \" + nome + \" deve ser direcionado para sala de espera reservada.\")\n",
        "else:\n",
        "  print(\"O paciente \" + nome + \" NÃO possui atendimento prioritário e pode aguardar na sala comum!\")"
      ],
      "execution_count": null,
      "outputs": [
        {
          "output_type": "stream",
          "text": [
            "Digite o nome: José\n",
            "Digite a idade: 65\n",
            "Suspeita de doença infecto-contagiosa?S\n",
            "O paciente José POSSUI atendimento prioritário!\n"
          ],
          "name": "stdout"
        }
      ]
    },
    {
      "cell_type": "code",
      "metadata": {
        "id": "-ou8ESyko0s8"
      },
      "source": [
        "nome=input(\"Digite o nome: \")\n",
        "idade=int(input(\"Digite a idade: \"))\n",
        "doenca_infectocontagiosa=input(\"Suspeita de doença infecto-contagiosa? \").upper()\n",
        "if idade>=65 and doenca_infectocontagiosa==\"S\":\n",
        "  print(\"O paciente \" + nome  + \" será direcionado para sala AMARELA - COM prioridade\")\n",
        "elif idade < 65 and doenca_infectocontagiosa == \"S\":\n",
        "  print(\"O paciente \" + nome + \" será direcionado para sala AMARELA - SEM prioridade\")\n",
        "elif idade >= 65 and doenca_infectocontagiosa == \"N\":\n",
        "  print(\"O paciente \" + nome + \" será direcionado para sala BRANCA - COM prioridade\")\n",
        "elif idade < 65 and doenca_infectocontagiosa == \"N\":\n",
        "  print(\"O paciente \" + nome + \" será direcionado para sala BRANCA - SEM prioridade\")\n",
        "else:\n",
        "  print(\"Responda a suspeita de doença infectocontagiosa com S ou N\")"
      ],
      "execution_count": null,
      "outputs": []
    },
    {
      "cell_type": "code",
      "metadata": {
        "colab": {
          "base_uri": "https://localhost:8080/"
        },
        "id": "Qimfp6_Q-LH7",
        "outputId": "82bf16ef-734a-4ef9-d9ff-268bb4924eb7"
      },
      "source": [
        "a = int(input('Primeiro valor: '))\n",
        "b = int(input('Segundo valor: ')) \n",
        "if a > b:\n",
        "  print('O maior número é:  {}' .format(a))\n",
        "print(\"Final do programa\") \n"
      ],
      "execution_count": null,
      "outputs": [
        {
          "output_type": "stream",
          "text": [
            "Primeiro valor: 16\n",
            "Segundo valor: 10\n",
            "O maior número é:  16\n",
            "Final do programa\n"
          ],
          "name": "stdout"
        }
      ]
    },
    {
      "cell_type": "code",
      "metadata": {
        "colab": {
          "base_uri": "https://localhost:8080/"
        },
        "id": "ub89JeSfDXAD",
        "outputId": "ca1f1fe9-7311-461b-c106-8773bdea1697"
      },
      "source": [
        "a = int(input('Primeiro valor: '))\n",
        "b = int(input('Segundo valor: '))\n",
        "if a > b:\n",
        "  print('O maior numero é: {}' . format(a))\n",
        "else:\n",
        "  print('O maior numero é: {}' .format(b))\n",
        "print('Final do programa') "
      ],
      "execution_count": null,
      "outputs": [
        {
          "output_type": "stream",
          "text": [
            "Primeiro valor20\n",
            "Segundo valor30\n",
            "O maior numero é: 30\n",
            "Final do programa\n"
          ],
          "name": "stdout"
        }
      ]
    },
    {
      "cell_type": "code",
      "metadata": {
        "colab": {
          "base_uri": "https://localhost:8080/"
        },
        "id": "VVDLpGgHFFi3",
        "outputId": "b41b0ce1-99e6-400d-b7cb-c091bea06c61"
      },
      "source": [
        "a = int(input('Primeiro valor: '))\n",
        "b = int(input('Segundo valor: '))\n",
        "c = int(input('Terceiro valor: '))\n",
        "\n",
        "if a > b and a > c:\n",
        "  print('O maior número é: {}' .format(a))\n",
        "elif b > a and b > c:\n",
        "    print('O maior número é: {}' .format(b))\n",
        "else:\n",
        "  print('O maior número é: {}' .format(c))\n",
        "print('Fim do programa')     "
      ],
      "execution_count": null,
      "outputs": [
        {
          "output_type": "stream",
          "text": [
            "Primeiro valor: 20\n",
            "Segundo valor: 10\n",
            "Terceiro valor: 30\n",
            "O maior número é: 30\n",
            "Fim do programa\n"
          ],
          "name": "stdout"
        }
      ]
    },
    {
      "cell_type": "code",
      "metadata": {
        "colab": {
          "base_uri": "https://localhost:8080/"
        },
        "id": "go47Z2fyGuuy",
        "outputId": "ee7d9159-7ea7-4cc4-b55c-f050375eb537"
      },
      "source": [
        "a = int(input('Entre com um valor: '))\n",
        "resto = a % 2\n",
        "if resto == 0:\n",
        "  print('Numero é par')\n",
        "else:\n",
        "  print ('Numero é ímpar')"
      ],
      "execution_count": null,
      "outputs": [
        {
          "output_type": "stream",
          "text": [
            "Entre com um valor: 43\n",
            "Numero é ímpar\n"
          ],
          "name": "stdout"
        }
      ]
    },
    {
      "cell_type": "code",
      "metadata": {
        "colab": {
          "base_uri": "https://localhost:8080/"
        },
        "id": "PcjY0l76HzzK",
        "outputId": "48ed33df-be7e-434a-a483-34083e512f99"
      },
      "source": [
        "a = int(input('Entre com o primeiro valor: '))\n",
        "b = int(input('Entre com o segundo valor: '))\n",
        "resto_a = a % 2\n",
        "resto_b = b % 2\n",
        "if resto_a == 0 or resto_b == 0:\n",
        "  print('Foi digitado um número par')\n",
        "else:\n",
        "  print('Nenhum numero par foi digitado')"
      ],
      "execution_count": null,
      "outputs": [
        {
          "output_type": "stream",
          "text": [
            "Entre com o primeiro valor: 1\n",
            "Entre com o segundo valor: 3\n",
            "Nenhum numero par foi digitado\n"
          ],
          "name": "stdout"
        }
      ]
    },
    {
      "cell_type": "code",
      "metadata": {
        "colab": {
          "base_uri": "https://localhost:8080/"
        },
        "id": "yOUpS-N0IsIj",
        "outputId": "e0831950-3324-4313-a986-1b6784e9702e"
      },
      "source": [
        "a = int(input('Entre com o primeiro valor: '))\n",
        "b = int(input('Entre com o segundo valor: '))\n",
        "resto_a = a % 2\n",
        "resto_b = b % 2\n",
        "if resto_a == 0 or not resto_b > 0:\n",
        "  print('Foi digitado um número par')\n",
        "else:\n",
        "  print('Nenhum numero par foi digitado')"
      ],
      "execution_count": null,
      "outputs": [
        {
          "output_type": "stream",
          "text": [
            "Entre com o primeiro valor: 1\n",
            "Entre com o segundo valor: 3\n",
            "Nenhum numero par foi digitado\n"
          ],
          "name": "stdout"
        }
      ]
    },
    {
      "cell_type": "code",
      "metadata": {
        "colab": {
          "base_uri": "https://localhost:8080/"
        },
        "id": "bm2K7vrBNmfY",
        "outputId": "a8b61714-bda9-40f0-e821-867607dbd305"
      },
      "source": [
        "a = int(input('Primeiro bimestre: '))\n",
        "b = int(input('Segundo bimestre: '))\n",
        "c = int(input('Terceiro bimestre: '))\n",
        "d = int(input('Quarto bimestre: '))\n",
        "media = (a + b + c + d) /4\n",
        "if a <= 10 and b <= 10 and c <=10 and d <= 10:\n",
        "  print('media: {}' .format(media))\n",
        "else:\n",
        "  print('Foi informado alfuma nota errada')\n"
      ],
      "execution_count": null,
      "outputs": [
        {
          "output_type": "stream",
          "text": [
            "Primeiro bimestre: 10\n",
            "Segundo bimestre: 7\n",
            "Terceiro bimestre: 8\n",
            "Quarto bimestre: 6\n",
            "media: 7.75\n"
          ],
          "name": "stdout"
        }
      ]
    },
    {
      "cell_type": "code",
      "metadata": {
        "colab": {
          "base_uri": "https://localhost:8080/"
        },
        "id": "oQsVslsOOgPE",
        "outputId": "823ed2f9-bc01-4339-f9c2-905a1bdb25b2"
      },
      "source": [
        "a = int(input('Primeiro bimestre: '))\n",
        "if a > 10:\n",
        "  a = int(input('Erro digitação. Digite novamente. Primeiro Bimestre: ')) \n",
        "b = int(input('Segundo bimestre: '))\n",
        "if b > 10:\n",
        "  b = int(input('Erro digitação. Digite novamente. Segundo Bimestre: ')) \n",
        "c = int(input('Terceiro bimestre: '))\n",
        "if c > 10:\n",
        "  c = int(input('Erro digitação. Digite novamente. Terceiro Bimestre: ')) \n",
        "d = int(input('Quarto bimestre: '))\n",
        "if d > 10:\n",
        "  d = int(input('Erro digitação. Digite novamente. Primeiro Bimestre: ')) \n",
        "media = (a + b + c + d) /4\n",
        "print('media: {}' .format(media))"
      ],
      "execution_count": null,
      "outputs": [
        {
          "output_type": "stream",
          "text": [
            "Primeiro bimestre: 8\n",
            "Segundo bimestre: 9\n",
            "Terceiro bimestre: 7\n",
            "Quarto bimestre: 10\n",
            "media: 8.5\n"
          ],
          "name": "stdout"
        }
      ]
    },
    {
      "cell_type": "markdown",
      "metadata": {
        "id": "pO4FrbZAdDg7"
      },
      "source": [
        "#Laços de repetição"
      ]
    },
    {
      "cell_type": "code",
      "metadata": {
        "colab": {
          "base_uri": "https://localhost:8080/"
        },
        "id": "-hcwX3fVQZMo",
        "outputId": "95dbc8a5-ee79-4ce6-fbb6-5c87f34c9a9d"
      },
      "source": [
        "for x in range (100):\n",
        "  print(x)"
      ],
      "execution_count": null,
      "outputs": [
        {
          "output_type": "stream",
          "text": [
            "0\n",
            "1\n",
            "2\n",
            "3\n",
            "4\n",
            "5\n",
            "6\n",
            "7\n",
            "8\n",
            "9\n",
            "10\n",
            "11\n",
            "12\n",
            "13\n",
            "14\n",
            "15\n",
            "16\n",
            "17\n",
            "18\n",
            "19\n",
            "20\n",
            "21\n",
            "22\n",
            "23\n",
            "24\n",
            "25\n",
            "26\n",
            "27\n",
            "28\n",
            "29\n",
            "30\n",
            "31\n",
            "32\n",
            "33\n",
            "34\n",
            "35\n",
            "36\n",
            "37\n",
            "38\n",
            "39\n",
            "40\n",
            "41\n",
            "42\n",
            "43\n",
            "44\n",
            "45\n",
            "46\n",
            "47\n",
            "48\n",
            "49\n",
            "50\n",
            "51\n",
            "52\n",
            "53\n",
            "54\n",
            "55\n",
            "56\n",
            "57\n",
            "58\n",
            "59\n",
            "60\n",
            "61\n",
            "62\n",
            "63\n",
            "64\n",
            "65\n",
            "66\n",
            "67\n",
            "68\n",
            "69\n",
            "70\n",
            "71\n",
            "72\n",
            "73\n",
            "74\n",
            "75\n",
            "76\n",
            "77\n",
            "78\n",
            "79\n",
            "80\n",
            "81\n",
            "82\n",
            "83\n",
            "84\n",
            "85\n",
            "86\n",
            "87\n",
            "88\n",
            "89\n",
            "90\n",
            "91\n",
            "92\n",
            "93\n",
            "94\n",
            "95\n",
            "96\n",
            "97\n",
            "98\n",
            "99\n"
          ],
          "name": "stdout"
        }
      ]
    },
    {
      "cell_type": "code",
      "metadata": {
        "colab": {
          "base_uri": "https://localhost:8080/"
        },
        "id": "W2QaslNSdVRj",
        "outputId": "641a3be8-a8ee-475d-c870-8028d28e82f7"
      },
      "source": [
        "a =int(input('Entre com um número: '))\n",
        "div = 0 \n",
        "for x in range(1, a):\n",
        "  if a % x == 0:\n",
        "      div+=1\n",
        "  \n",
        "if div == 0:\n",
        "    print('O número {} é um número primo' .format(a))\n",
        "else:\n",
        "    print('O número {} não é um número primo' .format(a))\n",
        "    "
      ],
      "execution_count": null,
      "outputs": [
        {
          "output_type": "stream",
          "text": [
            "Entre com um número: 31\n",
            "O número 31 não é um número primo\n"
          ],
          "name": "stdout"
        }
      ]
    },
    {
      "cell_type": "code",
      "metadata": {
        "colab": {
          "base_uri": "https://localhost:8080/"
        },
        "id": "XH8L61kZeA4i",
        "outputId": "3a02a561-88d8-4ff3-f872-ccb336d3207c"
      },
      "source": [
        "for num in range (101):\n",
        "  div = 0\n",
        "  for x in range (1, num+1):\n",
        "    resto = num % x\n",
        "    if resto == 0:\n",
        "      div = div + 1\n",
        "\n",
        "  if div == 2:\n",
        "    print(num)\n"
      ],
      "execution_count": null,
      "outputs": [
        {
          "output_type": "stream",
          "text": [
            "2\n",
            "3\n",
            "5\n",
            "7\n",
            "11\n",
            "13\n",
            "17\n",
            "19\n",
            "23\n",
            "29\n",
            "31\n",
            "37\n",
            "41\n",
            "43\n",
            "47\n",
            "53\n",
            "59\n",
            "61\n",
            "67\n",
            "71\n",
            "73\n",
            "79\n",
            "83\n",
            "89\n",
            "97\n"
          ],
          "name": "stdout"
        }
      ]
    },
    {
      "cell_type": "code",
      "metadata": {
        "colab": {
          "base_uri": "https://localhost:8080/"
        },
        "id": "4BkYk5JMgeEI",
        "outputId": "2b27eda1-c5d2-4ca9-98e0-d84a0dbbc5e8"
      },
      "source": [
        "a = int(input('Entre com um valor: '))\n",
        "for num in range (a+1):\n",
        "  div = 0\n",
        "  for x in range (1, num+1):\n",
        "    resto = num % x\n",
        "    if resto == 0:\n",
        "      div = div + 1\n",
        "\n",
        "  if div == 2:\n",
        "    print(num)\n"
      ],
      "execution_count": null,
      "outputs": [
        {
          "output_type": "stream",
          "text": [
            "Entre com um valor: 30\n",
            "2\n",
            "3\n",
            "5\n",
            "7\n",
            "11\n",
            "13\n",
            "17\n",
            "19\n",
            "23\n",
            "29\n"
          ],
          "name": "stdout"
        }
      ]
    },
    {
      "cell_type": "code",
      "metadata": {
        "colab": {
          "base_uri": "https://localhost:8080/"
        },
        "id": "wsWzsjOQg0AM",
        "outputId": "b4b88101-f8b9-48b8-9870-96fde639d4d5"
      },
      "source": [
        "a = 0\n",
        "while a <= 10:\n",
        "  print(a)\n",
        "  a+=1"
      ],
      "execution_count": null,
      "outputs": [
        {
          "output_type": "stream",
          "text": [
            "0\n",
            "1\n",
            "2\n",
            "3\n",
            "4\n",
            "5\n",
            "6\n",
            "7\n",
            "8\n",
            "9\n",
            "10\n"
          ],
          "name": "stdout"
        }
      ]
    },
    {
      "cell_type": "code",
      "metadata": {
        "colab": {
          "base_uri": "https://localhost:8080/"
        },
        "id": "QgWUWSn4hMuo",
        "outputId": "7bcd8b0f-7d28-4551-c3b2-898591010302"
      },
      "source": [
        "nota = int(input('Entre com uma nota: '))\n",
        "while nota > 10:\n",
        "  nota = int(input('Nota inválida. Entre com a nota: '))\n",
        "print('A nota informada é : {}'.format(nota))  "
      ],
      "execution_count": null,
      "outputs": [
        {
          "output_type": "stream",
          "text": [
            "Entre com uma nota: 11\n",
            "Nota inválida. Entre com a nota: 8\n",
            "A nota informada é : 8\n"
          ],
          "name": "stdout"
        }
      ]
    },
    {
      "cell_type": "code",
      "metadata": {
        "colab": {
          "base_uri": "https://localhost:8080/"
        },
        "id": "Crg3kQq6nxQL",
        "outputId": "9151d5f1-a87f-4600-8ca6-809eb80a26e7"
      },
      "source": [
        "a = int(input('Primeiro bimestre: '))\n",
        "while a > 10:\n",
        "  a = int(input('Erro digitação. Digite novamente. Primeiro Bimestre: ')) \n",
        "b = int(input('Segundo bimestre: '))\n",
        "while b > 10:\n",
        "  b = int(input('Erro digitação. Digite novamente. Segundo Bimestre: ')) \n",
        "c = int(input('Terceiro bimestre: '))\n",
        "while c > 10:\n",
        "  c = int(input('Erro digitação. Digite novamente. Terceiro Bimestre: ')) \n",
        "d = int(input('Quarto bimestre: '))\n",
        "while d > 10:\n",
        "  d = int(input('Erro digitação. Digite novamente. Primeiro Bimestre: ')) \n",
        "media = (a + b + c + d) /4\n",
        "print('Média: {}' .format(media))"
      ],
      "execution_count": null,
      "outputs": [
        {
          "output_type": "stream",
          "text": [
            "Primeiro bimestre: 11\n",
            "Erro digitação. Digite novamente. Primeiro Bimestre: 10\n",
            "Segundo bimestre: 18\n",
            "Erro digitação. Digite novamente. Segundo Bimestre: 8\n",
            "Terceiro bimestre: 7\n",
            "Quarto bimestre: 10\n",
            "media: 8.75\n"
          ],
          "name": "stdout"
        }
      ]
    },
    {
      "cell_type": "code",
      "metadata": {
        "id": "eCBCTdAooRwv",
        "colab": {
          "base_uri": "https://localhost:8080/"
        },
        "outputId": "1cad9367-0f34-490a-ca41-9280eb24c318"
      },
      "source": [
        "numero=int(input(\"Digite um numero: \"))\n",
        "while numero<100:\n",
        "  print(\"\\t\" + str(numero))\n",
        "  numero=numero+1\n",
        "print(\"Laço encerrado....\")"
      ],
      "execution_count": null,
      "outputs": [
        {
          "output_type": "stream",
          "text": [
            "Digite um numero: 10\n",
            "\t10\n",
            "\t11\n",
            "\t12\n",
            "\t13\n",
            "\t14\n",
            "\t15\n",
            "\t16\n",
            "\t17\n",
            "\t18\n",
            "\t19\n",
            "\t20\n",
            "\t21\n",
            "\t22\n",
            "\t23\n",
            "\t24\n",
            "\t25\n",
            "\t26\n",
            "\t27\n",
            "\t28\n",
            "\t29\n",
            "\t30\n",
            "\t31\n",
            "\t32\n",
            "\t33\n",
            "\t34\n",
            "\t35\n",
            "\t36\n",
            "\t37\n",
            "\t38\n",
            "\t39\n",
            "\t40\n",
            "\t41\n",
            "\t42\n",
            "\t43\n",
            "\t44\n",
            "\t45\n",
            "\t46\n",
            "\t47\n",
            "\t48\n",
            "\t49\n",
            "\t50\n",
            "\t51\n",
            "\t52\n",
            "\t53\n",
            "\t54\n",
            "\t55\n",
            "\t56\n",
            "\t57\n",
            "\t58\n",
            "\t59\n",
            "\t60\n",
            "\t61\n",
            "\t62\n",
            "\t63\n",
            "\t64\n",
            "\t65\n",
            "\t66\n",
            "\t67\n",
            "\t68\n",
            "\t69\n",
            "\t70\n",
            "\t71\n",
            "\t72\n",
            "\t73\n",
            "\t74\n",
            "\t75\n",
            "\t76\n",
            "\t77\n",
            "\t78\n",
            "\t79\n",
            "\t80\n",
            "\t81\n",
            "\t82\n",
            "\t83\n",
            "\t84\n",
            "\t85\n",
            "\t86\n",
            "\t87\n",
            "\t88\n",
            "\t89\n",
            "\t90\n",
            "\t91\n",
            "\t92\n",
            "\t93\n",
            "\t94\n",
            "\t95\n",
            "\t96\n",
            "\t97\n",
            "\t98\n",
            "\t99\n",
            "Laço encerrado....\n"
          ],
          "name": "stdout"
        }
      ]
    },
    {
      "cell_type": "code",
      "metadata": {
        "colab": {
          "base_uri": "https://localhost:8080/"
        },
        "id": "-lRDrOEePUNg",
        "outputId": "a60cbfaa-cd16-4ed7-8c80-95d77585ba43"
      },
      "source": [
        "numero=int(input(\"Digite um numero: \"))\n",
        "while numero<100:\n",
        "  print(\"\\t\" + str(numero))\n",
        "  numero+=2\n",
        "print(\"Laço encerrado....\")"
      ],
      "execution_count": null,
      "outputs": [
        {
          "output_type": "stream",
          "text": [
            "Digite um numero: 10\n",
            "\t10\n",
            "\t12\n",
            "\t14\n",
            "\t16\n",
            "\t18\n",
            "\t20\n",
            "\t22\n",
            "\t24\n",
            "\t26\n",
            "\t28\n",
            "\t30\n",
            "\t32\n",
            "\t34\n",
            "\t36\n",
            "\t38\n",
            "\t40\n",
            "\t42\n",
            "\t44\n",
            "\t46\n",
            "\t48\n",
            "\t50\n",
            "\t52\n",
            "\t54\n",
            "\t56\n",
            "\t58\n",
            "\t60\n",
            "\t62\n",
            "\t64\n",
            "\t66\n",
            "\t68\n",
            "\t70\n",
            "\t72\n",
            "\t74\n",
            "\t76\n",
            "\t78\n",
            "\t80\n",
            "\t82\n",
            "\t84\n",
            "\t86\n",
            "\t88\n",
            "\t90\n",
            "\t92\n",
            "\t94\n",
            "\t96\n",
            "\t98\n",
            "Laço encerrado....\n"
          ],
          "name": "stdout"
        }
      ]
    },
    {
      "cell_type": "code",
      "metadata": {
        "colab": {
          "base_uri": "https://localhost:8080/"
        },
        "id": "GwCJyHIJacyq",
        "outputId": "dbd2a07c-2092-400a-f8d6-5116f36e5a75"
      },
      "source": [
        "numero=int(input(\"Digite um numero: \"))\n",
        "while numero<100:\n",
        "  print(\"\\t\" + str(numero))\n",
        "  numero+=5\n",
        "print(\"Laço encerrado....\")"
      ],
      "execution_count": null,
      "outputs": [
        {
          "output_type": "stream",
          "text": [
            "Digite um numero: 20\n",
            "\t20\n",
            "\t25\n",
            "\t30\n",
            "\t35\n",
            "\t40\n",
            "\t45\n",
            "\t50\n",
            "\t55\n",
            "\t60\n",
            "\t65\n",
            "\t70\n",
            "\t75\n",
            "\t80\n",
            "\t85\n",
            "\t90\n",
            "\t95\n",
            "Laço encerrado....\n"
          ],
          "name": "stdout"
        }
      ]
    },
    {
      "cell_type": "code",
      "metadata": {
        "colab": {
          "base_uri": "https://localhost:8080/"
        },
        "id": "wcqWzD2fahuo",
        "outputId": "a2328976-c5b7-4b2b-b485-5fc9eb1812f3"
      },
      "source": [
        "resposta = \"SIM\"\n",
        "while resposta ==\"SIM\":\n",
        "  nivel = input(\"DIgite o nivel de acesso: \").upper()\n",
        "  if nivel == \"ADM\" or nivel ==\"USR\":\n",
        "    genero=input(\"Digite o seu genero: \").upper()\n",
        "    if nivel == \"ADM\":\n",
        "      if genero == \"FEMININO\":\n",
        "        print(\"Olá administradora\")\n",
        "      else: \n",
        "        print(\"Olá adminitrador\")   \n",
        "    else: \n",
        "        if genero == \"FEMININO\":\n",
        "          print(\"Olá usuária\")\n",
        "        else:\n",
        "          print(\"Olá usuário\")\n",
        "  elif nivel ==\"GUEST\" :\n",
        "    print(\"Olá visitante\")\n",
        "  else:\n",
        "    print(\"Olá desconhecido(a)\")  \n",
        "  resposta = input(\"Digite SIM para continuar: \").upper()      "
      ],
      "execution_count": null,
      "outputs": [
        {
          "output_type": "stream",
          "text": [
            "DIgite o nivel de acesso: ADM\n",
            "Digite o seu genero: feminino\n",
            "Olá administradora\n",
            "Digite SIM para continuar: sim\n",
            "DIgite o nivel de acesso: usr\n",
            "Digite o seu genero: masculino\n",
            "Olá usuário\n",
            "Digite SIM para continuar: n\n"
          ],
          "name": "stdout"
        }
      ]
    },
    {
      "cell_type": "code",
      "metadata": {
        "colab": {
          "base_uri": "https://localhost:8080/"
        },
        "id": "yk4aUeCeiQ5s",
        "outputId": "d01da1ae-778f-4652-c8de-51757f79239e"
      },
      "source": [
        "nome =input(\"Digite o nome: \")\n",
        "idade=int(input(\"Digite a idade: \"))\n",
        "doenca_infectoContagiosa = input(\"Suspeita de doença infecto-contagiosa? \").upper()\n",
        "while doenca_infectoContagiosa !=\"SIM\" and doenca_infectoContagiosa !=\"NÃO\":\n",
        "  print(\"Digite SIM ou NÃO\")\n",
        "  doenca_infectoContagiosa = input(\"Suspeita de doença infecto-contgiosa? \").upper()\n",
        "\n",
        "if doenca_infectoContagiosa ==\"SIM\":\n",
        "  print(\"Encaminhe o paciente para a SALA AMARELA\")\n",
        "else: \n",
        "  print(\"Encaminhe o paciente para a SALA BRANCA\")\n",
        "\n",
        "if idade >= 65:\n",
        "  print(\"Paciente COM prioridade\")\n",
        "else: \n",
        "  genero=input(\"Digite o gênero do paciente: \").upper()\n",
        "  if genero ==\"FEMININO\" and idade > 10:\n",
        "    gravidez= input(\"A paciente está grávida: \").upper()\n",
        "    if gravidez == \"SIM\":\n",
        "      print(\"Paciente COM prioridade\")\n",
        "    else:\n",
        "      print(\"Paciente SEM prioridade\")\n",
        "  else:\n",
        "    print(\"Paciente SEM prioridade\")      \n"
      ],
      "execution_count": null,
      "outputs": [
        {
          "output_type": "stream",
          "text": [
            "Digite o nome: Caroline\n",
            "Digite a idade: 70\n",
            "Suspeita de doença infecto-contagiosa? Não\n",
            "Encaminhe o paciente para a SALA BRANCA\n",
            "Paciente COM prioridade\n"
          ],
          "name": "stdout"
        }
      ]
    },
    {
      "cell_type": "code",
      "metadata": {
        "colab": {
          "base_uri": "https://localhost:8080/"
        },
        "id": "jOcMkMSQuzPr",
        "outputId": "d28e01ae-77ec-469c-f41e-7f4809296613"
      },
      "source": [
        "for numero in range(1, int(input(\"Digite um numero para determinar o fim: \")), 1):\n",
        "  print(\"\\t\" + str(numero))"
      ],
      "execution_count": null,
      "outputs": [
        {
          "output_type": "stream",
          "text": [
            "Digite um numero para determinar o fim: 20\n",
            "\t1\n",
            "\t2\n",
            "\t3\n",
            "\t4\n",
            "\t5\n",
            "\t6\n",
            "\t7\n",
            "\t8\n",
            "\t9\n",
            "\t10\n",
            "\t11\n",
            "\t12\n",
            "\t13\n",
            "\t14\n",
            "\t15\n",
            "\t16\n",
            "\t17\n",
            "\t18\n",
            "\t19\n"
          ],
          "name": "stdout"
        }
      ]
    },
    {
      "cell_type": "markdown",
      "metadata": {
        "id": "vEFSp1V36iE9"
      },
      "source": [
        "Tabuada *for*"
      ]
    },
    {
      "cell_type": "code",
      "metadata": {
        "colab": {
          "base_uri": "https://localhost:8080/"
        },
        "id": "zX5MDX3s4AeD",
        "outputId": "d88de13c-2b3c-429b-b4ab-7091f30af690"
      },
      "source": [
        "tabuada=int(input(\"Digite um número para exibir a tabuada: \"))\n",
        "print(\"Tabuada do número:  \", tabuada)\n",
        "for valor in range (1, 11, 1):\n",
        "  print(str(tabuada) + \" x \" + str(valor) + \" = \" + str((tabuada*valor)))"
      ],
      "execution_count": null,
      "outputs": [
        {
          "output_type": "stream",
          "text": [
            "Digite um número para exibir a tabuada: 6\n",
            "Tabuada do número:   6\n",
            "6 x 1 = 6\n",
            "6 x 2 = 12\n",
            "6 x 3 = 18\n",
            "6 x 4 = 24\n",
            "6 x 5 = 30\n",
            "6 x 6 = 36\n",
            "6 x 7 = 42\n",
            "6 x 8 = 48\n",
            "6 x 9 = 54\n",
            "6 x 10 = 60\n"
          ],
          "name": "stdout"
        }
      ]
    },
    {
      "cell_type": "markdown",
      "metadata": {
        "id": "oshqC0D6DIau"
      },
      "source": [
        "#Listas e tuplas"
      ]
    },
    {
      "cell_type": "markdown",
      "metadata": {
        "id": "c97TEDkKKOPb"
      },
      "source": [
        "Listas\n",
        "\n",
        "---\n",
        "\n",
        "Listas são mutáveis"
      ]
    },
    {
      "cell_type": "code",
      "metadata": {
        "colab": {
          "base_uri": "https://localhost:8080/"
        },
        "id": "f7_NJwimOTuz",
        "outputId": "6e00819b-e4eb-4b32-f74c-df522ac4d0f9"
      },
      "source": [
        "#lista preenchida estaticamente\n",
        "lista_estatica = ['xpto' , True]\n",
        "\n",
        "#lista preenchida dinamicammente\n",
        "lista_dinamica = [input('Digite o usuário: '), bool (int(input('Está logado? ')))]\n",
        "#lista vazia\n",
        "lista_vazia = []"
      ],
      "execution_count": null,
      "outputs": [
        {
          "output_type": "stream",
          "text": [
            "Digite o usuário: rayane\n",
            "Está logado?1\n"
          ],
          "name": "stdout"
        }
      ]
    },
    {
      "cell_type": "code",
      "metadata": {
        "colab": {
          "base_uri": "https://localhost:8080/"
        },
        "id": "68NuDda47Mva",
        "outputId": "e0f08bd8-b003-4169-e89a-aa6d63afbd6c"
      },
      "source": [
        "lista = [1, 3, 5, 7]\n",
        "lista_animais = ['cachorro', 'gato', 'elefante']\n",
        "print(lista)"
      ],
      "execution_count": null,
      "outputs": [
        {
          "output_type": "stream",
          "text": [
            "[1, 3, 5, 7]\n"
          ],
          "name": "stdout"
        }
      ]
    },
    {
      "cell_type": "code",
      "metadata": {
        "colab": {
          "base_uri": "https://localhost:8080/"
        },
        "id": "NQ927FXbDkOh",
        "outputId": "3c4ed20b-935a-41f4-9c2b-d843f81b191a"
      },
      "source": [
        "print(lista_animais)"
      ],
      "execution_count": null,
      "outputs": [
        {
          "output_type": "stream",
          "text": [
            "['cachorro', 'gato', 'elefante']\n"
          ],
          "name": "stdout"
        }
      ]
    },
    {
      "cell_type": "code",
      "metadata": {
        "colab": {
          "base_uri": "https://localhost:8080/"
        },
        "id": "H8Xqwd2QDnaw",
        "outputId": "febc39d9-3a4b-4d3e-851c-9281f9831d33"
      },
      "source": [
        "print(type(lista))"
      ],
      "execution_count": null,
      "outputs": [
        {
          "output_type": "stream",
          "text": [
            "<class 'list'>\n"
          ],
          "name": "stdout"
        }
      ]
    },
    {
      "cell_type": "code",
      "metadata": {
        "colab": {
          "base_uri": "https://localhost:8080/"
        },
        "id": "-oPewVp-Dwde",
        "outputId": "a9fe7762-819d-4fcc-dd3e-5b0835055cdb"
      },
      "source": [
        "print(lista_animais[1])"
      ],
      "execution_count": null,
      "outputs": [
        {
          "output_type": "stream",
          "text": [
            "gato\n"
          ],
          "name": "stdout"
        }
      ]
    },
    {
      "cell_type": "code",
      "metadata": {
        "colab": {
          "base_uri": "https://localhost:8080/"
        },
        "id": "UEUMiagDD0vH",
        "outputId": "0ab7868c-f227-4e10-aaa6-fb93c7436bd5"
      },
      "source": [
        "for x in lista_animais:\n",
        "  print(x)"
      ],
      "execution_count": null,
      "outputs": [
        {
          "output_type": "stream",
          "text": [
            "cachorro\n",
            "gato\n",
            "elefante\n"
          ],
          "name": "stdout"
        }
      ]
    },
    {
      "cell_type": "code",
      "metadata": {
        "colab": {
          "base_uri": "https://localhost:8080/"
        },
        "id": "ql7FgzS2Eizz",
        "outputId": "83561c16-8956-4645-ea90-f3ff35702f99"
      },
      "source": [
        "soma = 0\n",
        "for x in lista:\n",
        "  print(x)\n",
        "  soma+=x\n",
        "print(soma)  "
      ],
      "execution_count": null,
      "outputs": [
        {
          "output_type": "stream",
          "text": [
            "1\n",
            "3\n",
            "5\n",
            "7\n",
            "16\n"
          ],
          "name": "stdout"
        }
      ]
    },
    {
      "cell_type": "code",
      "metadata": {
        "colab": {
          "base_uri": "https://localhost:8080/"
        },
        "id": "OCRN6_cNFgwc",
        "outputId": "a2f52e31-8292-4016-b830-0378c873f7fb"
      },
      "source": [
        "print(sum(lista))"
      ],
      "execution_count": null,
      "outputs": [
        {
          "output_type": "stream",
          "text": [
            "16\n"
          ],
          "name": "stdout"
        }
      ]
    },
    {
      "cell_type": "code",
      "metadata": {
        "colab": {
          "base_uri": "https://localhost:8080/"
        },
        "id": "dakUyOeRF9fr",
        "outputId": "8fb656c0-c9f9-4d06-f628-fb688e0b7474"
      },
      "source": [
        "print(max(lista))"
      ],
      "execution_count": null,
      "outputs": [
        {
          "output_type": "stream",
          "text": [
            "7\n"
          ],
          "name": "stdout"
        }
      ]
    },
    {
      "cell_type": "code",
      "metadata": {
        "colab": {
          "base_uri": "https://localhost:8080/"
        },
        "id": "NovgZm2vGHWV",
        "outputId": "a9f3526c-a313-4991-ec96-109be90ec286"
      },
      "source": [
        "print(min(lista))"
      ],
      "execution_count": null,
      "outputs": [
        {
          "output_type": "stream",
          "text": [
            "1\n"
          ],
          "name": "stdout"
        }
      ]
    },
    {
      "cell_type": "code",
      "metadata": {
        "colab": {
          "base_uri": "https://localhost:8080/"
        },
        "id": "YHSbzG3HGLPC",
        "outputId": "abe04661-a5da-46f5-8442-1d2017653680"
      },
      "source": [
        "print(max(lista_animais))"
      ],
      "execution_count": null,
      "outputs": [
        {
          "output_type": "stream",
          "text": [
            "gato\n"
          ],
          "name": "stdout"
        }
      ]
    },
    {
      "cell_type": "code",
      "metadata": {
        "colab": {
          "base_uri": "https://localhost:8080/"
        },
        "id": "FJ5GeoS7GVXA",
        "outputId": "b1202fc9-ed2d-42e9-b710-fd08744310a1"
      },
      "source": [
        "print(min(lista_animais))"
      ],
      "execution_count": null,
      "outputs": [
        {
          "output_type": "stream",
          "text": [
            "cachorro\n"
          ],
          "name": "stdout"
        }
      ]
    },
    {
      "cell_type": "code",
      "metadata": {
        "colab": {
          "base_uri": "https://localhost:8080/"
        },
        "id": "mg3FcoMOGYpM",
        "outputId": "02fd398f-e090-4c5c-a01d-3b99c5dc60d5"
      },
      "source": [
        "if 'gato' in lista_animais:\n",
        "  print('Existe um gato na lista')\n",
        "else:\n",
        "   print('Não existe um gato na lista') "
      ],
      "execution_count": null,
      "outputs": [
        {
          "output_type": "stream",
          "text": [
            "Existe um gato na lista\n"
          ],
          "name": "stdout"
        }
      ]
    },
    {
      "cell_type": "code",
      "metadata": {
        "colab": {
          "base_uri": "https://localhost:8080/"
        },
        "id": "VYIXyzpMGgT5",
        "outputId": "45b1ebcf-1243-4a01-deec-8e9de0ec8031"
      },
      "source": [
        "if 'lobo' in lista_animais:\n",
        " print('Existe um lobo na lista')\n",
        "else:\n",
        "   print('Não existe um lobo na lista') "
      ],
      "execution_count": null,
      "outputs": [
        {
          "output_type": "stream",
          "text": [
            "Não existe um lobo na lista\n"
          ],
          "name": "stdout"
        }
      ]
    },
    {
      "cell_type": "code",
      "metadata": {
        "colab": {
          "base_uri": "https://localhost:8080/"
        },
        "id": "eAeF9c1sGzHG",
        "outputId": "2b12d822-ec50-4fb7-efe3-aaaabee275b7"
      },
      "source": [
        "novo_lista = lista_animais * 3 \n",
        "print(novo_lista)"
      ],
      "execution_count": null,
      "outputs": [
        {
          "output_type": "stream",
          "text": [
            "['cachorro', 'gato', 'elefante', 'cachorro', 'gato', 'elefante', 'cachorro', 'gato', 'elefante']\n"
          ],
          "name": "stdout"
        }
      ]
    },
    {
      "cell_type": "code",
      "metadata": {
        "colab": {
          "base_uri": "https://localhost:8080/"
        },
        "id": "m_jdGxXnHN4l",
        "outputId": "c910b8f5-d897-439c-93fa-8136b38c1e40"
      },
      "source": [
        "if 'lobo' in lista_animais:\n",
        " print('Existe um lobo na lista')\n",
        "else:\n",
        "   print('Não existe um lobo na lista. Será incluido.')\n",
        "   lista_animais.append('lobo')"
      ],
      "execution_count": null,
      "outputs": [
        {
          "output_type": "stream",
          "text": [
            "Não existe um lobo na lista. Será incluido.\n"
          ],
          "name": "stdout"
        }
      ]
    },
    {
      "cell_type": "code",
      "metadata": {
        "colab": {
          "base_uri": "https://localhost:8080/"
        },
        "id": "1RNLClNBG98f",
        "outputId": "459d209e-006e-4b3d-da20-6c8040d72654"
      },
      "source": [
        "print(lista_animais)"
      ],
      "execution_count": null,
      "outputs": [
        {
          "output_type": "stream",
          "text": [
            "['cachorro', 'gato', 'elefante', 'lobo']\n"
          ],
          "name": "stdout"
        }
      ]
    },
    {
      "cell_type": "code",
      "metadata": {
        "colab": {
          "base_uri": "https://localhost:8080/",
          "height": 35
        },
        "id": "XVt4cXC1HdaW",
        "outputId": "983a229e-6c92-4864-893c-e710d1dc7721"
      },
      "source": [
        "lista_animais.pop()"
      ],
      "execution_count": null,
      "outputs": [
        {
          "output_type": "execute_result",
          "data": {
            "application/vnd.google.colaboratory.intrinsic+json": {
              "type": "string"
            },
            "text/plain": [
              "'lobo'"
            ]
          },
          "metadata": {
            "tags": []
          },
          "execution_count": 41
        }
      ]
    },
    {
      "cell_type": "code",
      "metadata": {
        "colab": {
          "base_uri": "https://localhost:8080/"
        },
        "id": "Ia4WIj5wHkS7",
        "outputId": "37d46151-c901-4684-afbf-23f4b25cd68b"
      },
      "source": [
        "print(lista_animais)"
      ],
      "execution_count": null,
      "outputs": [
        {
          "output_type": "stream",
          "text": [
            "['cachorro', 'gato', 'elefante']\n"
          ],
          "name": "stdout"
        }
      ]
    },
    {
      "cell_type": "code",
      "metadata": {
        "colab": {
          "base_uri": "https://localhost:8080/",
          "height": 35
        },
        "id": "1feXDS2WHmy2",
        "outputId": "f44aafa4-e3fc-41b2-8c6d-9e3edbebef33"
      },
      "source": [
        "lista_animais.pop(0)"
      ],
      "execution_count": null,
      "outputs": [
        {
          "output_type": "execute_result",
          "data": {
            "application/vnd.google.colaboratory.intrinsic+json": {
              "type": "string"
            },
            "text/plain": [
              "'cachorro'"
            ]
          },
          "metadata": {
            "tags": []
          },
          "execution_count": 43
        }
      ]
    },
    {
      "cell_type": "code",
      "metadata": {
        "colab": {
          "base_uri": "https://localhost:8080/"
        },
        "id": "SYGbTgyzHq0_",
        "outputId": "792609d7-ecfe-4708-a369-721308a8dfba"
      },
      "source": [
        "print(lista_animais)"
      ],
      "execution_count": null,
      "outputs": [
        {
          "output_type": "stream",
          "text": [
            "['gato', 'elefante']\n"
          ],
          "name": "stdout"
        }
      ]
    },
    {
      "cell_type": "code",
      "metadata": {
        "colab": {
          "base_uri": "https://localhost:8080/"
        },
        "id": "mXYrzQ3oHt16",
        "outputId": "96667543-5976-4b6e-a291-6d766ae1e872"
      },
      "source": [
        "novo_lista.remove('elefante')\n",
        "print(novo_lista)"
      ],
      "execution_count": null,
      "outputs": [
        {
          "output_type": "stream",
          "text": [
            "['cachorro', 'gato', 'cachorro', 'gato', 'cachorro', 'gato', 'elefante']\n"
          ],
          "name": "stdout"
        }
      ]
    },
    {
      "cell_type": "code",
      "metadata": {
        "colab": {
          "base_uri": "https://localhost:8080/"
        },
        "id": "oRXLwSEYH39p",
        "outputId": "1b133d98-6c1f-48f9-a1f0-0d84ab3c9d11"
      },
      "source": [
        "lista = [12, 10, 7, 5]\n",
        "lista_animais = ['cachorro', 'gato', 'elefante', 'arara']\n",
        "lista.sort()\n",
        "lista_animais.sort()\n",
        "print(lista)\n",
        "print(lista_animais)\n"
      ],
      "execution_count": null,
      "outputs": [
        {
          "output_type": "stream",
          "text": [
            "[5, 7, 10, 12]\n",
            "['arara', 'cachorro', 'elefante', 'gato']\n"
          ],
          "name": "stdout"
        }
      ]
    },
    {
      "cell_type": "code",
      "metadata": {
        "colab": {
          "base_uri": "https://localhost:8080/"
        },
        "id": "NIPsEm4QItsK",
        "outputId": "f152dd90-8fb6-45b8-ad7d-cb6c01cb4012"
      },
      "source": [
        "lista_animais.reverse()\n",
        "print(lista_animais)"
      ],
      "execution_count": null,
      "outputs": [
        {
          "output_type": "stream",
          "text": [
            "['gato', 'elefante', 'cachorro', 'arara']\n"
          ],
          "name": "stdout"
        }
      ]
    },
    {
      "cell_type": "code",
      "metadata": {
        "id": "0bEFkvDrI11F"
      },
      "source": [
        "lista_animais.append('lobo')"
      ],
      "execution_count": null,
      "outputs": []
    },
    {
      "cell_type": "code",
      "metadata": {
        "colab": {
          "base_uri": "https://localhost:8080/"
        },
        "id": "MgqJ2GFjI_KK",
        "outputId": "40f7fdc9-8c39-48ae-82dd-a4fc7ee98227"
      },
      "source": [
        "print(lista_animais)"
      ],
      "execution_count": null,
      "outputs": [
        {
          "output_type": "stream",
          "text": [
            "['gato', 'elefante', 'cachorro', 'arara', 'lobo']\n"
          ],
          "name": "stdout"
        }
      ]
    },
    {
      "cell_type": "code",
      "metadata": {
        "colab": {
          "base_uri": "https://localhost:8080/"
        },
        "id": "qhbtzdXgJCjd",
        "outputId": "cc9635ae-9f58-4047-ad69-280d80c710fc"
      },
      "source": [
        "lista_animais[0] = 'macaco'\n",
        "print(lista_animais)"
      ],
      "execution_count": null,
      "outputs": [
        {
          "output_type": "stream",
          "text": [
            "['macaco', 'elefante', 'cachorro', 'arara', 'lobo']\n"
          ],
          "name": "stdout"
        }
      ]
    },
    {
      "cell_type": "markdown",
      "metadata": {
        "id": "kyDGsttISOp-"
      },
      "source": [
        "**Armazenando dados**"
      ]
    },
    {
      "cell_type": "code",
      "metadata": {
        "colab": {
          "base_uri": "https://localhost:8080/"
        },
        "id": "JWG7SRzVNIMg",
        "outputId": "690024e0-0c1e-49ca-c023-5508fbddce4b"
      },
      "source": [
        "inventario = []\n",
        "resposta = 'S'\n",
        "while resposta == 'S':\n",
        "  inventario.append(input(\"Equipamento: \"))\n",
        "  inventario.append(float(input('Valor: ')))\n",
        "  inventario.append(int(input('Numero Serial: ')))\n",
        "  inventario.append(input('Departamento: '))\n",
        "  resposta = input('Digite \\\"s\\\" para continuar: ').upper()\n",
        "print('Programa encerrado')"
      ],
      "execution_count": null,
      "outputs": [
        {
          "output_type": "stream",
          "text": [
            "Equipamento: mouse usb\n",
            "Valor: 70\n",
            "Numero Serial: 090890\n",
            "Departamento: ti\n",
            "Digite \"s\" para continuar: s\n",
            "Equipamento: teclado usb\n",
            "Valor: 150\n",
            "Numero Serial: 0916863\n",
            "Departamento: ti\n",
            "Digite \"s\" para continuar: n\n",
            "Programa encerrado\n"
          ],
          "name": "stdout"
        }
      ]
    },
    {
      "cell_type": "markdown",
      "metadata": {
        "id": "IXOB_pYySd6M"
      },
      "source": [
        "**Exibindo dados da lista**"
      ]
    },
    {
      "cell_type": "code",
      "metadata": {
        "colab": {
          "base_uri": "https://localhost:8080/"
        },
        "id": "v38Fl2K1Sjgl",
        "outputId": "9b44744e-4e90-4804-9aa7-2547d4256be4"
      },
      "source": [
        "inventario = []\n",
        "resposta = 'S'\n",
        "while resposta == 'S':\n",
        "  inventario.append(input('Equipamento: '))\n",
        "  inventario.append(float(input('Valor: ')))\n",
        "  inventario.append(int(input('Numero Serial: ')))\n",
        "  inventario.append(input('Departamento: '))\n",
        "  resposta = input('Digite \\\"s\\\" para continuar: ').upper()\n",
        "\n",
        "for elemento in inventario:\n",
        "   print(elemento) "
      ],
      "execution_count": null,
      "outputs": [
        {
          "output_type": "stream",
          "text": [
            "Equipamento: mouse usb\n",
            "Valor: 75.50\n",
            "Numero Serial: 00001\n",
            "Departamento: ti\n",
            "Digite \"s\" para continuar: s\n",
            "Equipamento: teclado usb\n",
            "Valor: 120.00\n",
            "Numero Serial: 00002\n",
            "Departamento: ti\n",
            "Digite \"s\" para continuar: s\n",
            "Equipamento: fonte atx\n",
            "Valor: 540.00\n",
            "Numero Serial: 00003\n",
            "Departamento: ti\n",
            "Digite \"s\" para continuar: s\n",
            "Equipamento: mamoria ram\n",
            "Valor: 450.00\n",
            "Numero Serial: 00004\n",
            "Departamento: coordenação\n",
            "Digite \"s\" para continuar: n\n",
            "mouse usb\n",
            "75.5\n",
            "1\n",
            "ti\n",
            "teclado usb\n",
            "120.0\n",
            "2\n",
            "ti\n",
            "fonte atx\n",
            "540.0\n",
            "3\n",
            "ti\n",
            "mamoria ram\n",
            "450.0\n",
            "4\n",
            "coordenação\n"
          ],
          "name": "stdout"
        }
      ]
    },
    {
      "cell_type": "code",
      "metadata": {
        "colab": {
          "base_uri": "https://localhost:8080/"
        },
        "id": "YcSkvy3hHtlb",
        "outputId": "cdf7ac59-f7d4-46d3-f4c6-5e7fefda5aad"
      },
      "source": [
        "equipamentos = []\n",
        "valor = []\n",
        "numero_serial = []\n",
        "departamento = []\n",
        "resposta = 'S'\n",
        "while resposta == 'S':\n",
        "  equipamentos.append(input('Equipamento: '))\n",
        "  valor.append(float(input('Valor: ')))\n",
        "  numero_serial.append(int(input('Numero Serial: ')))\n",
        "  departamento.append(input('Departamento: '))\n",
        "  resposta = input('Digite \\\"s\\\" para continuar: ').upper()\n",
        "\n",
        "for equipamento in equipamentos:\n",
        "   print('Equipamento: ' , equipamento) "
      ],
      "execution_count": null,
      "outputs": [
        {
          "output_type": "stream",
          "text": [
            "Equipamento: mouse usb\n",
            "Valor: 70.00\n",
            "Numero Serial: 0001\n",
            "Departamento: ti\n",
            "Digite \"s\" para continuar: s\n",
            "Equipamento: adaptador wirelles usb\n",
            "Valor: 200.00\n",
            "Numero Serial: 0002\n",
            "Departamento: clinica\n",
            "Digite \"s\" para continuar: s\n",
            "Equipamento: alicate de corte\n",
            "Valor: 40.00\n",
            "Numero Serial: 0003\n",
            "Departamento: manutenção\n",
            "Digite \"s\" para continuar: s\n",
            "Equipamento: adaptador ethernet\n",
            "Valor: 70.00\n",
            "Numero Serial: 0004\n",
            "Departamento: central de atendimento\n",
            "Digite \"s\" para continuar: n\n",
            "Equipamentos:  mouse usb\n",
            "Equipamentos:  adaptador wirelles usb\n",
            "Equipamentos:  alicate de corte\n",
            "Equipamentos:  adaptador ethernet\n"
          ],
          "name": "stdout"
        }
      ]
    },
    {
      "cell_type": "code",
      "metadata": {
        "colab": {
          "base_uri": "https://localhost:8080/"
        },
        "id": "pbke0Y8KLkGi",
        "outputId": "fd93e878-0d0a-4175-d1e9-e2cd38a8c0dc"
      },
      "source": [
        "equipamentos = []\n",
        "valores = []\n",
        "numero_serial = []\n",
        "departamento = []\n",
        "resultado = 'S'\n",
        "while resultado == 'S':\n",
        "  equipamentos.append(input('Equipamento: '))\n",
        "  valores.append(float(input('Valor: R$')))\n",
        "  numero_serial.append(int(input('Numero Serial: ')))\n",
        "  departamento.append(input('Departamento: '))\n",
        "  resultado = input('Digite \\\"s\\\" para continuar: ').upper()\n",
        "\n",
        "for indice in range (0, len(equipamentos)):\n",
        "   print(\"\\nEquipamento  : \" , (indice+1))\n",
        "   print('Nome  : ' , equipamentos[indice])\n",
        "   print('Valor  :' , valores[indice])\n",
        "   print('Numero Serial:  ' , numero_serial[indice])\n",
        "   print('Departamento:  ' , departamento[indice])"
      ],
      "execution_count": null,
      "outputs": [
        {
          "output_type": "stream",
          "text": [
            "Equipamento: Mouse USB\n",
            "Valor: R$75.00\n",
            "Numero Serial: 0001\n",
            "Departamento: TI\n",
            "Digite \"s\" para continuar: s\n",
            "Equipamento: Teclado USB\n",
            "Valor: R$120.00\n",
            "Numero Serial: 0002\n",
            "Departamento: laboratório\n",
            "Digite \"s\" para continuar: s\n",
            "Equipamento: HD\n",
            "Valor: R$300.00\n",
            "Numero Serial: 0003\n",
            "Departamento: Coordenação\n",
            "Digite \"s\" para continuar: s\n",
            "Equipamento: Memria RAM 4GB\n",
            "Valor: R$300.00\n",
            "Numero Serial: 0004\n",
            "Departamento: DI\n",
            "Digite \"s\" para continuar: n\n",
            "\n",
            "Equipamento  :  1\n",
            "Nome  :  Mouse USB\n",
            "Valor  : 75.0\n",
            "Numero Serial:   1\n",
            "Departamento:   TI\n",
            "\n",
            "Equipamento  :  2\n",
            "Nome  :  Teclado USB\n",
            "Valor  : 120.0\n",
            "Numero Serial:   2\n",
            "Departamento:   laboratório\n",
            "\n",
            "Equipamento  :  3\n",
            "Nome  :  HD\n",
            "Valor  : 300.0\n",
            "Numero Serial:   3\n",
            "Departamento:   Coordenação\n",
            "\n",
            "Equipamento  :  4\n",
            "Nome  :  Memria RAM 4GB\n",
            "Valor  : 300.0\n",
            "Numero Serial:   4\n",
            "Departamento:   DI\n"
          ],
          "name": "stdout"
        }
      ]
    },
    {
      "cell_type": "code",
      "metadata": {
        "colab": {
          "base_uri": "https://localhost:8080/"
        },
        "id": "X1_fWLzqPOyp",
        "outputId": "d5d0fc70-4e0b-4d5a-bccd-dba199b3d1c2"
      },
      "source": [
        "busca = input('\\nDigite o nome do equipamento que deseja buscar: ')\n",
        "for indice in  range(0, len(equipamentos)):\n",
        "  if busca  == equipamentos[indice]:\n",
        "    print('Valor: ', valores[indice])\n",
        "    print('Serial: ' , numero_serial[indice])\n"
      ],
      "execution_count": null,
      "outputs": [
        {
          "output_type": "stream",
          "text": [
            "\n",
            "Digite o nome do equipamento que deseja buscar: Mouse USB\n",
            "Valor:  75.0\n",
            "Serial:  1\n"
          ],
          "name": "stdout"
        }
      ]
    },
    {
      "cell_type": "markdown",
      "metadata": {
        "id": "Bt73CtaFRGmO"
      },
      "source": [
        "**Situação   1:** todos  os  equipamentos  “Teclado USB”  receberão uma depreciação (desvalorização após certo período) de 10%.Monte o código que  seria  responsável  por  alterar  o  valor  de  todos  os  equipamentos \"Teclado USB”."
      ]
    },
    {
      "cell_type": "code",
      "metadata": {
        "colab": {
          "base_uri": "https://localhost:8080/"
        },
        "id": "Yz38sYgxRR9R",
        "outputId": "4912197b-7403-4211-c403-a8e7e007deed"
      },
      "source": [
        "depreciacao =input('\\nDigite o nome do equipamento que será depreciado: ')\n",
        "for indice in range(0, len(equipamentos)):\n",
        "  if busca == equipamentos[indice]:\n",
        "    print('Valor antigo: R$' , valores[indice])\n",
        "    valores[indice] = valores[indice] * 0.9\n",
        "    print('Valor atual: R$' , valores[indice])\n"
      ],
      "execution_count": null,
      "outputs": [
        {
          "output_type": "stream",
          "text": [
            "\n",
            "Digite o nome do equipamento que será depreciado: Teclado USB\n",
            "Valor antigo: R$ 75.0\n",
            "Valor atual: R$ 67.5\n"
          ],
          "name": "stdout"
        }
      ]
    },
    {
      "cell_type": "markdown",
      "metadata": {
        "id": "tcPdNr9DXsSR"
      },
      "source": [
        "**Situação  2**: um  equipamento  com  um  determinado  número  serial  foi danificado  e  será  descartado.  Precisamos  eliminar  esseequipamento.Dica:para eliminar um  itemde  uma  lista,você utilizará o comando “*del”*."
      ]
    },
    {
      "cell_type": "code",
      "metadata": {
        "colab": {
          "base_uri": "https://localhost:8080/"
        },
        "id": "0rZnv7QnXdRV",
        "outputId": "59a439e2-5252-4d71-9835-5f4fc7f02f88"
      },
      "source": [
        "serial=int(input('\\nDigite o Serial do equipamento que será excluido:  '))\n",
        "for indice in range(0, len(equipamentos)):\n",
        "  if numero_serial[indice] == serial:\n",
        "    del departamento[indice]\n",
        "    del equipamentos[indice]\n",
        "    del valores[indice]\n",
        "    del numero_serial[indice]\n",
        "    break\n",
        "\n",
        "for indice in range (0, len(equipamentos)):\n",
        "   print(\"\\nEquipamento  : \" , (indice+1))\n",
        "   print('Nome  : ' , equipamentos[indice])\n",
        "   print('Valor  :' , valores[indice])\n",
        "   print('Numero Serial:  ' , numero_serial[indice])\n",
        "   print('Departamento:  ' , departamento[indice])   \n"
      ],
      "execution_count": null,
      "outputs": [
        {
          "output_type": "stream",
          "text": [
            "\n",
            "Digite o Serial do equipamento que será excluido2\n",
            "\n",
            "Equipamento  :  1\n",
            "Nome  :  Mouse USB\n",
            "Valor  : 67.5\n",
            "Numero Serial:   1\n",
            "Departamento:   TI\n",
            "\n",
            "Equipamento  :  2\n",
            "Nome  :  HD\n",
            "Valor  : 300.0\n",
            "Numero Serial:   3\n",
            "Departamento:   Coordenação\n",
            "\n",
            "Equipamento  :  3\n",
            "Nome  :  Memria RAM 4GB\n",
            "Valor  : 300.0\n",
            "Numero Serial:   4\n",
            "Departamento:   DI\n"
          ],
          "name": "stdout"
        }
      ]
    },
    {
      "cell_type": "markdown",
      "metadata": {
        "id": "hk7HwlzBJ8I4"
      },
      "source": [
        "Tuplas\n",
        "\n",
        "---\n",
        "Tuplas são imutáveis, não é possivel alterar objetos dentro da tupla\n"
      ]
    },
    {
      "cell_type": "code",
      "metadata": {
        "colab": {
          "base_uri": "https://localhost:8080/"
        },
        "id": "aRTsviY_J3KV",
        "outputId": "0512fd04-afb1-4a33-e7e3-314726854eae"
      },
      "source": [
        "tupla = (1 ,10, 12, 14)\n",
        "print(tupla)"
      ],
      "execution_count": null,
      "outputs": [
        {
          "output_type": "stream",
          "text": [
            "(1, 10, 12, 14)\n"
          ],
          "name": "stdout"
        }
      ]
    },
    {
      "cell_type": "code",
      "metadata": {
        "colab": {
          "base_uri": "https://localhost:8080/"
        },
        "id": "Cz_aeqv0K8q5",
        "outputId": "7a7b24b9-738f-49e1-fe54-8971101b6184"
      },
      "source": [
        "print(tupla[2])"
      ],
      "execution_count": null,
      "outputs": [
        {
          "output_type": "stream",
          "text": [
            "12\n"
          ],
          "name": "stdout"
        }
      ]
    },
    {
      "cell_type": "code",
      "metadata": {
        "colab": {
          "base_uri": "https://localhost:8080/"
        },
        "id": "ddudNV_tLKGT",
        "outputId": "951dd6ec-6430-4bed-dafe-03f841cdcce6"
      },
      "source": [
        "print(len(tupla))"
      ],
      "execution_count": null,
      "outputs": [
        {
          "output_type": "stream",
          "text": [
            "4\n"
          ],
          "name": "stdout"
        }
      ]
    },
    {
      "cell_type": "code",
      "metadata": {
        "colab": {
          "base_uri": "https://localhost:8080/"
        },
        "id": "nRW3uY39LWQn",
        "outputId": "ead2a137-31d1-4e6f-8681-5fff1a0d621f"
      },
      "source": [
        "tupla_animal = tuple(lista_animais)\n",
        "print(type(tupla_animal))\n",
        "print(tupla_animal)"
      ],
      "execution_count": null,
      "outputs": [
        {
          "output_type": "stream",
          "text": [
            "<class 'tuple'>\n",
            "('macaco', 'elefante', 'cachorro', 'arara', 'lobo')\n"
          ],
          "name": "stdout"
        }
      ]
    },
    {
      "cell_type": "code",
      "metadata": {
        "colab": {
          "base_uri": "https://localhost:8080/"
        },
        "id": "nr_Wy5maLsc7",
        "outputId": "0408e796-2344-432f-f400-db88df9ad905"
      },
      "source": [
        "lista_numerica = list(tupla)\n",
        "print(type(lista_numerica))\n",
        "lista_numerica[0] = 100\n",
        "print(lista_numerica)"
      ],
      "execution_count": null,
      "outputs": [
        {
          "output_type": "stream",
          "text": [
            "<class 'list'>\n",
            "[100, 10, 12, 14]\n"
          ],
          "name": "stdout"
        }
      ]
    },
    {
      "cell_type": "markdown",
      "metadata": {
        "id": "e2RxF5FJYwU3"
      },
      "source": [
        "#Conjuntos e subconjuntos de elementos em Python"
      ]
    },
    {
      "cell_type": "markdown",
      "metadata": {
        "id": "Md3Y-UgZY_Vh"
      },
      "source": [
        ""
      ]
    },
    {
      "cell_type": "code",
      "metadata": {
        "colab": {
          "base_uri": "https://localhost:8080/"
        },
        "id": "hA5LyzzfY94l",
        "outputId": "f9f591f7-b126-4913-8244-9e6315b12997"
      },
      "source": [
        "#conjunto \n",
        "conjunto = {1, 2 , 3, 4}\n",
        "print(conjunto)"
      ],
      "execution_count": null,
      "outputs": [
        {
          "output_type": "stream",
          "text": [
            "{1, 2, 3, 4}\n"
          ],
          "name": "stdout"
        }
      ]
    },
    {
      "cell_type": "code",
      "metadata": {
        "colab": {
          "base_uri": "https://localhost:8080/"
        },
        "id": "gjoexI8WZ-YJ",
        "outputId": "525cfa93-ab14-4de5-96d3-ea3e6447844f"
      },
      "source": [
        "#tipo\n",
        "print(type(conjunto))"
      ],
      "execution_count": null,
      "outputs": [
        {
          "output_type": "stream",
          "text": [
            "<class 'set'>\n"
          ],
          "name": "stdout"
        }
      ]
    },
    {
      "cell_type": "code",
      "metadata": {
        "colab": {
          "base_uri": "https://localhost:8080/"
        },
        "id": "-i6pEwjbaEr3",
        "outputId": "394815ac-544f-4fb9-fb7c-bd2dbae35064"
      },
      "source": [
        "#adicionar item ao conjunto\n",
        "conjunto.add(5)\n",
        "print(conjunto)"
      ],
      "execution_count": null,
      "outputs": [
        {
          "output_type": "stream",
          "text": [
            "{1, 2, 3, 4, 5}\n"
          ],
          "name": "stdout"
        }
      ]
    },
    {
      "cell_type": "code",
      "metadata": {
        "colab": {
          "base_uri": "https://localhost:8080/"
        },
        "id": "uOd2UXH9aMnC",
        "outputId": "b8b54468-3d24-4df0-8727-eea92d1b69ae"
      },
      "source": [
        "#remover item de conjunto\n",
        "conjunto.discard(2)\n",
        "print(conjunto)"
      ],
      "execution_count": null,
      "outputs": [
        {
          "output_type": "stream",
          "text": [
            "{1, 3, 4, 5}\n"
          ],
          "name": "stdout"
        }
      ]
    },
    {
      "cell_type": "code",
      "metadata": {
        "colab": {
          "base_uri": "https://localhost:8080/"
        },
        "id": "acD84AY5aUcI",
        "outputId": "55a8cfd9-19f7-442b-ee98-184be6c6b4b4"
      },
      "source": [
        "#união de conjuntos\n",
        "conjunto = {1, 2, 3, 4, 5}\n",
        "conjunto2 = {5, 6, 7, 8}\n",
        "conjunto_uniao = conjunto.union(conjunto2)\n",
        "print(conjunto_uniao)"
      ],
      "execution_count": null,
      "outputs": [
        {
          "output_type": "stream",
          "text": [
            "{1, 2, 3, 4, 5, 6, 7, 8}\n"
          ],
          "name": "stdout"
        }
      ]
    },
    {
      "cell_type": "code",
      "metadata": {
        "colab": {
          "base_uri": "https://localhost:8080/"
        },
        "id": "AhtzS_VSan7n",
        "outputId": "413973ae-bfd1-4b17-e114-a70c0fdae589"
      },
      "source": [
        "#intersecção identifica e imprime elemento pertencente a ambos os conjuntos\n",
        "conjunto_interseccao = conjunto.intersection(conjunto2)\n",
        "print(conjunto_interseccao)"
      ],
      "execution_count": null,
      "outputs": [
        {
          "output_type": "stream",
          "text": [
            "{5}\n"
          ],
          "name": "stdout"
        }
      ]
    },
    {
      "cell_type": "code",
      "metadata": {
        "colab": {
          "base_uri": "https://localhost:8080/"
        },
        "id": "dbndFizMa2Gf",
        "outputId": "035ccfef-90d8-457e-e3b6-f821ddae2f17"
      },
      "source": [
        "#identifica e imprime a diferença entre os conjuntos chamados \n",
        "conjunto_diferenca = conjunto.difference(conjunto2)\n",
        "print(conjunto_diferenca)"
      ],
      "execution_count": null,
      "outputs": [
        {
          "output_type": "stream",
          "text": [
            "{1, 2, 3, 4}\n"
          ],
          "name": "stdout"
        }
      ]
    },
    {
      "cell_type": "code",
      "metadata": {
        "colab": {
          "base_uri": "https://localhost:8080/"
        },
        "id": "4wyXbrunbCMo",
        "outputId": "2313dfce-aba6-45e5-87ff-ee76c23b13d5"
      },
      "source": [
        "conjunto_diferenca2 = conjunto2.difference(conjunto)\n",
        "print(conjunto_diferenca2)"
      ],
      "execution_count": null,
      "outputs": [
        {
          "output_type": "stream",
          "text": [
            "{8, 6, 7}\n"
          ],
          "name": "stdout"
        }
      ]
    },
    {
      "cell_type": "code",
      "metadata": {
        "colab": {
          "base_uri": "https://localhost:8080/"
        },
        "id": "T7bO3XaObbJw",
        "outputId": "19f4e10c-85e5-4066-91da-4441332e1bd9"
      },
      "source": [
        "#verifica a diferença simetrica entre conjuntos, imprimindo os valores de desigualdade\n",
        "conjunto_dif_simetrica = conjunto.symmetric_difference(conjunto2)\n",
        "print(conjunto_dif_simetrica)"
      ],
      "execution_count": null,
      "outputs": [
        {
          "output_type": "stream",
          "text": [
            "{1, 2, 3, 4, 6, 7, 8}\n"
          ],
          "name": "stdout"
        }
      ]
    },
    {
      "cell_type": "code",
      "metadata": {
        "colab": {
          "base_uri": "https://localhost:8080/"
        },
        "id": "v00O6dzUb9ef",
        "outputId": "6634dbaf-89be-402b-a003-5d95c77ef01a"
      },
      "source": [
        "#confirma se um conjunto é um subconjunto de outro\n",
        "conjunto_a = {1, 2, 3}\n",
        "conjunto_b = {1, 2, 3, 4, 5}\n",
        "conjunto_subset = conjunto_a.issubset(conjunto_b)\n",
        "print(conjunto_subset)"
      ],
      "execution_count": null,
      "outputs": [
        {
          "output_type": "stream",
          "text": [
            "True\n"
          ],
          "name": "stdout"
        }
      ]
    },
    {
      "cell_type": "code",
      "metadata": {
        "colab": {
          "base_uri": "https://localhost:8080/"
        },
        "id": "zADctDA-cpCO",
        "outputId": "ffddb217-73a8-46b0-99e1-8b7b1291b4b1"
      },
      "source": [
        "#confirma se o conjunto é um superconjunto de outro\n",
        "conjunto_superset = conjunto_b.issuperset(conjunto_a)\n",
        "print(conjunto_superset)"
      ],
      "execution_count": null,
      "outputs": [
        {
          "output_type": "stream",
          "text": [
            "True\n"
          ],
          "name": "stdout"
        }
      ]
    },
    {
      "cell_type": "code",
      "metadata": {
        "colab": {
          "base_uri": "https://localhost:8080/"
        },
        "id": "HJRwU8UcdVoJ",
        "outputId": "c8766375-b79e-4675-ab64-a985db7b31b1"
      },
      "source": [
        "#converter lista em conjunto para remover duplicidade\n",
        "\n",
        "lista = ['cachorro' , 'cachorro' , 'gato' , 'gato' , 'elefante']\n",
        "print(lista)"
      ],
      "execution_count": null,
      "outputs": [
        {
          "output_type": "stream",
          "text": [
            "['cachorro', 'cachorro', 'gato', 'gato', 'elefante']\n"
          ],
          "name": "stdout"
        }
      ]
    },
    {
      "cell_type": "code",
      "metadata": {
        "colab": {
          "base_uri": "https://localhost:8080/"
        },
        "id": "VjWGmAvMdnha",
        "outputId": "21ae22c4-2274-46d9-ae3c-432b8f5e06bc"
      },
      "source": [
        "conjunto_animais = set(lista)\n",
        "print(conjunto_animais)"
      ],
      "execution_count": null,
      "outputs": [
        {
          "output_type": "stream",
          "text": [
            "{'elefante', 'cachorro', 'gato'}\n"
          ],
          "name": "stdout"
        }
      ]
    },
    {
      "cell_type": "code",
      "metadata": {
        "colab": {
          "base_uri": "https://localhost:8080/"
        },
        "id": "xB2iNZbadu98",
        "outputId": "1e2547d6-40d5-4ddc-e00f-1c1778eaed69"
      },
      "source": [
        "#conversão de conjunto em lista sem a duplicidade\n",
        "lista_animais = list(conjunto_animais)\n",
        "print(lista_animais)"
      ],
      "execution_count": null,
      "outputs": [
        {
          "output_type": "stream",
          "text": [
            "['elefante', 'cachorro', 'gato']\n"
          ],
          "name": "stdout"
        }
      ]
    },
    {
      "cell_type": "code",
      "metadata": {
        "colab": {
          "base_uri": "https://localhost:8080/"
        },
        "id": "qgPB34X3f1hE",
        "outputId": "703965dc-5dcd-4083-acc2-1c38de8c43fe"
      },
      "source": [
        "conjunto_ex = {1, 2, 2, 1, 4, 5}\n",
        "print(conjunto_ex)"
      ],
      "execution_count": null,
      "outputs": [
        {
          "output_type": "stream",
          "text": [
            "{1, 2, 4, 5}\n"
          ],
          "name": "stdout"
        }
      ]
    },
    {
      "cell_type": "markdown",
      "metadata": {
        "id": "WZtJhq0wmaRP"
      },
      "source": [
        "#Métodos, funções e classes"
      ]
    },
    {
      "cell_type": "code",
      "metadata": {
        "id": "GzDbXg1Nmep3"
      },
      "source": [
        "#método\n",
        "def soma (a, b):\n",
        "  return a + b"
      ],
      "execution_count": null,
      "outputs": []
    },
    {
      "cell_type": "code",
      "metadata": {
        "colab": {
          "base_uri": "https://localhost:8080/"
        },
        "id": "y3xbdZXTmrzy",
        "outputId": "2b9fba38-298a-49da-f298-4c893a21c7d6"
      },
      "source": [
        "print(soma(1, 2))"
      ],
      "execution_count": null,
      "outputs": [
        {
          "output_type": "stream",
          "text": [
            "3\n"
          ],
          "name": "stdout"
        }
      ]
    },
    {
      "cell_type": "code",
      "metadata": {
        "colab": {
          "base_uri": "https://localhost:8080/"
        },
        "id": "uAcgINMrmxlW",
        "outputId": "445f28c9-c5c5-41be-d90a-6eb4ed38687b"
      },
      "source": [
        "print(soma(3, 4))"
      ],
      "execution_count": null,
      "outputs": [
        {
          "output_type": "stream",
          "text": [
            "7\n"
          ],
          "name": "stdout"
        }
      ]
    },
    {
      "cell_type": "code",
      "metadata": {
        "id": "aaRJmLgUm4e-"
      },
      "source": [
        "def subtracao (a, b):\n",
        "  return a - b"
      ],
      "execution_count": null,
      "outputs": []
    },
    {
      "cell_type": "code",
      "metadata": {
        "colab": {
          "base_uri": "https://localhost:8080/"
        },
        "id": "eYzillHwnC2e",
        "outputId": "6c1e9453-5e3b-45aa-b81b-326b461ce170"
      },
      "source": [
        "print(subtracao(10, 5))"
      ],
      "execution_count": null,
      "outputs": [
        {
          "output_type": "stream",
          "text": [
            "5\n"
          ],
          "name": "stdout"
        }
      ]
    },
    {
      "cell_type": "code",
      "metadata": {
        "colab": {
          "base_uri": "https://localhost:8080/"
        },
        "id": "GMTtsLYJnIc0",
        "outputId": "1d4f43a1-b790-4222-9850-4fdb8038b2b8"
      },
      "source": [
        "print(subtracao(10, 2))"
      ],
      "execution_count": null,
      "outputs": [
        {
          "output_type": "stream",
          "text": [
            "8\n"
          ],
          "name": "stdout"
        }
      ]
    },
    {
      "cell_type": "code",
      "metadata": {
        "id": "aCzQMEBxnPly"
      },
      "source": [
        "def multiplicacao (a, b):\n",
        "  return a * b"
      ],
      "execution_count": null,
      "outputs": []
    },
    {
      "cell_type": "code",
      "metadata": {
        "colab": {
          "base_uri": "https://localhost:8080/"
        },
        "id": "7WkUZ2Ydnn-M",
        "outputId": "6c4a9a74-d235-476f-c7fa-918fd8aff71b"
      },
      "source": [
        "print(multiplicacao(10, 2))"
      ],
      "execution_count": null,
      "outputs": [
        {
          "output_type": "stream",
          "text": [
            "20\n"
          ],
          "name": "stdout"
        }
      ]
    },
    {
      "cell_type": "code",
      "metadata": {
        "id": "JEuCKEYrntV5"
      },
      "source": [
        "def divisao (a, b):\n",
        "  return a / b"
      ],
      "execution_count": null,
      "outputs": []
    },
    {
      "cell_type": "code",
      "metadata": {
        "colab": {
          "base_uri": "https://localhost:8080/"
        },
        "id": "pqbZWgmMn1cp",
        "outputId": "ab97c291-c5e5-4156-ca4f-51edf577f292"
      },
      "source": [
        "print(divisao(10, 2))"
      ],
      "execution_count": null,
      "outputs": [
        {
          "output_type": "stream",
          "text": [
            "5.0\n"
          ],
          "name": "stdout"
        }
      ]
    },
    {
      "cell_type": "code",
      "metadata": {
        "id": "gqZAUNN8n8jk"
      },
      "source": [
        "# classe \n",
        "class Calculadora1:\n",
        "    def __init__(self, num1, num2):\n",
        "      self.a = num1\n",
        "      self.b = num2\n",
        "    def soma (self):\n",
        "      return self.a + self.b\n",
        "\n",
        "    def subtracao (self):\n",
        "      return self.a - self.b\n",
        "\n",
        "    def multiplicacao (self):\n",
        "      return self.a * self.b\n",
        "\n",
        "    def divisao (self):\n",
        "      return self.a / self.b\n"
      ],
      "execution_count": null,
      "outputs": []
    },
    {
      "cell_type": "code",
      "metadata": {
        "colab": {
          "base_uri": "https://localhost:8080/"
        },
        "id": "lr3yUqp6pSNI",
        "outputId": "afc18d6e-715c-42ec-d34b-188397aaaecb"
      },
      "source": [
        "calculadora1 = Calculadora1(10, 2)\n",
        "print(calculadora1.soma())\n",
        "print(calculadora1.subtracao())\n",
        "print(calculadora1.multiplicacao())\n",
        "print(calculadora1.divisao())"
      ],
      "execution_count": null,
      "outputs": [
        {
          "output_type": "stream",
          "text": [
            "12\n",
            "8\n",
            "20\n",
            "5.0\n"
          ],
          "name": "stdout"
        }
      ]
    },
    {
      "cell_type": "code",
      "metadata": {
        "colab": {
          "base_uri": "https://localhost:8080/"
        },
        "id": "F5X0TBmQs2P9",
        "outputId": "762d1a8b-72b1-4ae0-8dac-c720e6248a4e"
      },
      "source": [
        "print(calculadora1.a)"
      ],
      "execution_count": null,
      "outputs": [
        {
          "output_type": "stream",
          "text": [
            "10\n"
          ],
          "name": "stdout"
        }
      ]
    },
    {
      "cell_type": "code",
      "metadata": {
        "colab": {
          "base_uri": "https://localhost:8080/"
        },
        "id": "WcLgX_55s6K7",
        "outputId": "d7103fed-c1bf-4baa-da6e-1778cf7c8ec3"
      },
      "source": [
        "print(calculadora1.b)"
      ],
      "execution_count": null,
      "outputs": [
        {
          "output_type": "stream",
          "text": [
            "2\n"
          ],
          "name": "stdout"
        }
      ]
    },
    {
      "cell_type": "code",
      "metadata": {
        "id": "NcB_qfA-tmxQ"
      },
      "source": [
        ""
      ],
      "execution_count": null,
      "outputs": []
    },
    {
      "cell_type": "code",
      "metadata": {
        "id": "QZcChCZWuzWL"
      },
      "source": [
        "# classe \n",
        "class Calculadora2:\n",
        "    def __init__(self):\n",
        "      pass\n",
        "      \n",
        "    def soma(self, valor_a, valor_b):\n",
        "      return valor_a + valor_b\n",
        "\n",
        "    def subtracao(self, valor_a, valor_b):\n",
        "      return valor_a - valor_b\n",
        "\n",
        "    def multiplicacao(self, valor_a, valor_b):\n",
        "      return valor_a * valor_b\n",
        "\n",
        "    def divisao(self, valor_a, valor_b):\n",
        "      return valor_a / valor_b\n"
      ],
      "execution_count": null,
      "outputs": []
    },
    {
      "cell_type": "code",
      "metadata": {
        "id": "UQj9Hm9BweTM"
      },
      "source": [
        ""
      ],
      "execution_count": null,
      "outputs": []
    },
    {
      "cell_type": "code",
      "metadata": {
        "colab": {
          "base_uri": "https://localhost:8080/"
        },
        "id": "gUGOui5OwewG",
        "outputId": "dd3697e3-3ebb-44e1-e58b-0cecc49205d5"
      },
      "source": [
        "calculadora2 = Calculadora2()\n",
        "print(calculadora2.soma(10, 8))\n",
        "print(calculadora2.subtracao(20, 5))\n",
        "print(calculadora2.multiplicacao(10, 6))\n",
        "print(calculadora2.divisao(200, 5))"
      ],
      "execution_count": null,
      "outputs": [
        {
          "output_type": "stream",
          "text": [
            "18\n",
            "15\n",
            "60\n",
            "40.0\n"
          ],
          "name": "stdout"
        }
      ]
    },
    {
      "cell_type": "code",
      "metadata": {
        "id": "fyvQE9Bzw7H_"
      },
      "source": [
        "#classe televisao v1\n",
        "\n",
        "class Televisao:\n",
        "  def __init__(self):\n",
        "    self.ligada = False\n",
        "    self.canal = 5\n",
        "  def power(self):\n",
        "    if self.ligada:\n",
        "      self.ligada = False\n",
        "\n",
        "    else:\n",
        "      self.ligada = True\n",
        "\n",
        "  def aumenta_canal(self): \n",
        "    self.canal +=1\n",
        "\n",
        "  def diminui_canal(self):\n",
        "    self.canal -=1 \n"
      ],
      "execution_count": null,
      "outputs": []
    },
    {
      "cell_type": "code",
      "metadata": {
        "colab": {
          "base_uri": "https://localhost:8080/"
        },
        "id": "Dn1jrbEwxqPe",
        "outputId": "e99603a6-c2f1-4ef4-cea7-2164f73bec5f"
      },
      "source": [
        "#esse trecho verifica se a televisao está ligada de acordo com o método power\n",
        "televisao = Televisao()\n",
        "print('Televisao está ligada: {}' .format(televisao.ligada))\n",
        "televisao.power()\n",
        "print('Televisao está ligada: {}' .format(televisao.ligada))\n",
        "televisao.power()\n",
        "print('Televisao está ligada: {}' .format(televisao.ligada))"
      ],
      "execution_count": null,
      "outputs": [
        {
          "output_type": "stream",
          "text": [
            "Televisao está ligada: False\n",
            "Televisao está ligada: True\n",
            "Televisao está ligada: False\n"
          ],
          "name": "stdout"
        }
      ]
    },
    {
      "cell_type": "code",
      "metadata": {
        "colab": {
          "base_uri": "https://localhost:8080/"
        },
        "id": "n_UfRUBSzqah",
        "outputId": "300cd3fd-4da7-4d8b-98da-a77b411a67df"
      },
      "source": [
        "#esse trecho aumenta o canal de acordo com o método\n",
        "print('Canal: {} ' .format(televisao.canal))\n",
        "televisao.aumenta_canal()\n",
        "televisao.aumenta_canal()\n",
        "print('Canal: {} ' .format(televisao.canal))"
      ],
      "execution_count": null,
      "outputs": [
        {
          "output_type": "stream",
          "text": [
            "Canal: 5 \n",
            "Canal: 7 \n"
          ],
          "name": "stdout"
        }
      ]
    },
    {
      "cell_type": "code",
      "metadata": {
        "colab": {
          "base_uri": "https://localhost:8080/"
        },
        "id": "WZ645g2W01bx",
        "outputId": "bdf90607-b696-4556-cce8-d1aaa5db4cb1"
      },
      "source": [
        "#esse trecho diminui o canal de acordo com o método\n",
        "print('Canal: {} ' .format(televisao.canal))\n",
        "televisao.diminui_canal()\n",
        "televisao.diminui_canal()\n",
        "televisao.diminui_canal()\n",
        "print('Canal: {} ' .format(televisao.canal))"
      ],
      "execution_count": null,
      "outputs": [
        {
          "output_type": "stream",
          "text": [
            "Canal: 7 \n",
            "Canal: 4 \n"
          ],
          "name": "stdout"
        }
      ]
    },
    {
      "cell_type": "markdown",
      "metadata": {
        "id": "7M2yxMjd181-"
      },
      "source": [
        "no trecho acima não há a condição de a tv estar ligada para troca de canal, o mesmo será apresentado abaixo\n"
      ]
    },
    {
      "cell_type": "code",
      "metadata": {
        "id": "bpArTC-k12KY"
      },
      "source": [
        "#classe televisao v1.1\n",
        "\n",
        "class Televisao:\n",
        "  def __init__(self):\n",
        "    self.ligada = False\n",
        "    self.canal = 5\n",
        "  def power(self):\n",
        "    if self.ligada:\n",
        "      self.ligada = False\n",
        "\n",
        "    else:\n",
        "      self.ligada = True\n",
        "\n",
        "  def aumenta_canal(self): \n",
        "    if self.ligada:\n",
        "     self.canal +=1\n",
        "    else:\n",
        "      print('Aparelho desligado')\n",
        "\n",
        "  def diminui_canal(self):\n",
        "    if self.ligada:\n",
        "     self.canal -=1 \n",
        "\n",
        "    else:\n",
        "      print('Aparelho desligado')\n",
        " \n"
      ],
      "execution_count": null,
      "outputs": []
    },
    {
      "cell_type": "code",
      "metadata": {
        "colab": {
          "base_uri": "https://localhost:8080/"
        },
        "id": "oQgYA1BN2VTF",
        "outputId": "7e25cdad-5749-4fd2-b4c0-3ff52f0b08cb"
      },
      "source": [
        "#ligar a televisao\n",
        "televisao = Televisao()\n",
        "print('Televisao está ligada: {}' .format(televisao.ligada))\n",
        "televisao.power()\n",
        "print('Televisao está ligada: {}' .format(televisao.ligada))\n",
        "\n",
        "#aumentar os canais\n",
        "print('Canal: {} ' .format(televisao.canal))\n",
        "televisao.aumenta_canal()\n",
        "televisao.aumenta_canal()\n",
        "print('Canal: {} ' .format(televisao.canal))\n",
        "\n",
        "#diminuir os canais\n",
        "print('Canal: {} ' .format(televisao.canal))\n",
        "televisao.diminui_canal()\n",
        "televisao.diminui_canal()\n",
        "televisao.diminui_canal()\n",
        "print('Canal: {} ' .format(televisao.canal))\n"
      ],
      "execution_count": null,
      "outputs": [
        {
          "output_type": "stream",
          "text": [
            "Televisao está ligada: False\n",
            "Televisao está ligada: True\n",
            "Canal: 5 \n",
            "Canal: 7 \n",
            "Canal: 7 \n",
            "Canal: 4 \n"
          ],
          "name": "stdout"
        }
      ]
    },
    {
      "cell_type": "code",
      "metadata": {
        "colab": {
          "base_uri": "https://localhost:8080/"
        },
        "id": "GwwDmaSw21RN",
        "outputId": "8726df63-3d82-4c78-b2a9-27c34b1cf9e1"
      },
      "source": [
        "#identifica se o aparelho está deligado, e exibe alerta em caso de tentativa de troca de canal\n",
        "televisao.power()\n",
        "print('Televisao está ligada: {}' .format(televisao.ligada))\n",
        "print('Canal: {} ' .format(televisao.canal))\n",
        "televisao.diminui_canal()"
      ],
      "execution_count": null,
      "outputs": [
        {
          "output_type": "stream",
          "text": [
            "Televisao está ligada: False\n",
            "Canal: 4 \n",
            "Aparelho desligado\n"
          ],
          "name": "stdout"
        }
      ]
    },
    {
      "cell_type": "markdown",
      "metadata": {
        "id": "nFuaPzlieHjo"
      },
      "source": [
        "#Módulo\n",
        "\n",
        "São arquivos .py com os quais é possível interagir entre si artravés da função *import*. Pode acessar qualquer classe e qualquer método "
      ]
    },
    {
      "cell_type": "code",
      "metadata": {
        "id": "R9YIF1x7fJ3Y"
      },
      "source": [
        "#import modulo_importado\n",
        "#if __name__ == __main__ (executa somente se for chamada pleo nome)\n",
        "#from módulo_que_possui_a_classe import classe_que_vamos_chamar\n",
        "#é possivel importar tanto pelo terminal quando dentro de um novo módulo\n",
        "#é possível importar também o método dentro do main\n",
        "#from módulo_que_possui_a_classe import metodo_que_vamos_chamar"
      ],
      "execution_count": null,
      "outputs": []
    },
    {
      "cell_type": "markdown",
      "metadata": {
        "id": "ZjMj0Xx8iOv0"
      },
      "source": [
        "#Lambda (função anônima)"
      ]
    },
    {
      "cell_type": "code",
      "metadata": {
        "colab": {
          "base_uri": "https://localhost:8080/"
        },
        "id": "1SLS1icOiUG8",
        "outputId": "097c5c24-7267-4660-c2b3-50e96011236b"
      },
      "source": [
        "contador_letras = lambda lista:[len(x) for x in lista]\n",
        "\n",
        "lista_animais = ['cachorro' , 'gato', 'elefante' , 'lobo']\n",
        "print(contador_letras(lista_animais))\n"
      ],
      "execution_count": null,
      "outputs": [
        {
          "output_type": "stream",
          "text": [
            "[8, 4, 8, 4]\n"
          ],
          "name": "stdout"
        }
      ]
    },
    {
      "cell_type": "code",
      "metadata": {
        "colab": {
          "base_uri": "https://localhost:8080/"
        },
        "id": "nR5-gtZijHZO",
        "outputId": "26c9f65b-6b59-4338-c198-f2e4e9d7d5d7"
      },
      "source": [
        "soma = lambda a, b: a + b\n",
        "subtracao = lambda a, b: a - b\n",
        "\n",
        "print(soma(5,15))\n",
        "print(subtracao(10, 5))"
      ],
      "execution_count": null,
      "outputs": [
        {
          "output_type": "stream",
          "text": [
            "20\n",
            "5\n"
          ],
          "name": "stdout"
        }
      ]
    },
    {
      "cell_type": "code",
      "metadata": {
        "colab": {
          "base_uri": "https://localhost:8080/"
        },
        "id": "Pn2dEcCZjbQW",
        "outputId": "e050c026-2614-488f-fb82-8e775a976647"
      },
      "source": [
        "#dicionario em lambda\n",
        "\n",
        "calculadora = {\n",
        "    'soma' : lambda a, b: a + b,\n",
        "    'subtracao' : lambda a, b: a - b,\n",
        "    'multiplicacao' : lambda a, b: a * b,\n",
        "    'divisao' : lambda a, b: a/b,\n",
        "\n",
        "}\n",
        "\n",
        "print(type(calculadora))"
      ],
      "execution_count": null,
      "outputs": [
        {
          "output_type": "stream",
          "text": [
            "<class 'dict'>\n"
          ],
          "name": "stdout"
        }
      ]
    },
    {
      "cell_type": "code",
      "metadata": {
        "colab": {
          "base_uri": "https://localhost:8080/"
        },
        "id": "5FX7feglj9dc",
        "outputId": "5a17a499-7c4f-46e4-a527-e18627de5732"
      },
      "source": [
        "soma = calculadora['soma']\n",
        "multiplicacao = calculadora['multiplicacao']\n",
        "subtracao = calculadora['subtracao']\n",
        "divisao = calculadora['divisao']\n",
        "print('A soma é: {}' .format(soma(10,10)))\n",
        "print('A multiplicação é: {}' .format(multiplicacao(10, 4)))\n",
        "print('A subtração é: {} ' .format(subtracao(20, 18)))\n",
        "print('A divisao é : {}' .format(divisao(100, 3)))"
      ],
      "execution_count": null,
      "outputs": [
        {
          "output_type": "stream",
          "text": [
            "A soma é: 20\n",
            "A multiplicação é: 40\n",
            "A subtração é: 2 \n",
            "A divisao é : 33.333333333333336\n"
          ],
          "name": "stdout"
        }
      ]
    },
    {
      "cell_type": "code",
      "metadata": {
        "colab": {
          "base_uri": "https://localhost:8080/"
        },
        "id": "Vq6yU4AeoF7r",
        "outputId": "16617693-19b7-4453-b2d3-a92843747588"
      },
      "source": [
        "v_n = {\n",
        "    'par': lambda a: True if a % 2 ==0 else False,\n",
        "    'impar': lambda b: True if b % 2 ==0 else False\n",
        "}\n",
        "\n",
        "resultado = v_n['par'](10)\n",
        "print(resultado)"
      ],
      "execution_count": null,
      "outputs": [
        {
          "output_type": "stream",
          "text": [
            "True\n"
          ],
          "name": "stdout"
        }
      ]
    },
    {
      "cell_type": "markdown",
      "metadata": {
        "id": "X9gPvjh5rz-D"
      },
      "source": [
        "#Manipulação de arquivos externos\n",
        "\n",
        "\n",
        "---\n",
        "\n",
        "* Como gerar e escrever em um arquivo   \n",
        "* Como ler informações de um arquivo\n",
        "* Como trabalhar com as informações dos arquivos\n",
        "* Como trabalhar melhor com Strings\n",
        "* Mais um pouco de lambda\n",
        "* Como copiar e mover arquivos\n",
        "\n",
        "\n",
        "\n"
      ]
    },
    {
      "cell_type": "code",
      "metadata": {
        "colab": {
          "base_uri": "https://localhost:8080/"
        },
        "id": "EuTpiodxs_4L",
        "outputId": "8b1497fb-a319-4634-874e-204af5545a11"
      },
      "source": [
        "#escreve em um novo arquivo, extensão txt\n",
        "#write\n",
        "#arquivo = open('teste.txt' , 'w')\n",
        "#arquivo.write('Minha primeiro escrita')\n",
        "#arquivo.close()\n"
      ],
      "execution_count": null,
      "outputs": [
        {
          "output_type": "stream",
          "text": [
            "<_io.TextIOWrapper name='teste.txt' mode='w' encoding='UTF-8'>\n"
          ],
          "name": "stdout"
        }
      ]
    },
    {
      "cell_type": "code",
      "metadata": {
        "colab": {
          "base_uri": "https://localhost:8080/"
        },
        "id": "7WUqacgtubim",
        "outputId": "67f8bd3b-e51f-4b7d-b91f-0443318a29dc"
      },
      "source": [
        "#atualiza um arquivo \n",
        "#arquivo = open('teste.txt' , 'a')\n",
        "#arquivo.write('\\nSegunda linha')\n",
        "#arquivo.close()"
      ],
      "execution_count": null,
      "outputs": [
        {
          "output_type": "stream",
          "text": [
            "<_io.TextIOWrapper name='teste.txt' mode='a' encoding='UTF-8'>\n"
          ],
          "name": "stdout"
        }
      ]
    },
    {
      "cell_type": "code",
      "metadata": {
        "id": "5Tf1ZJQpvxWX"
      },
      "source": [
        "#definindo uma função(método) para escrita e atualização do arquivo\n",
        "#def escrever_arquivo(texto):\n",
        "#  arquivo = open('teste.txt' , 'w')\n",
        "#  arquivo.write('texto')\n",
        "#  arquivo.close()\n",
        "\n",
        "#def atualizar_arquivo(texto):\n",
        "#  arquivo = open('teste.txt' , 'a') \n",
        "#  arquivo.write('texto')\n",
        "#  arquivo.close()\n",
        "\n",
        "#if __name__ == '__main__':\n",
        "#  escrever_arquivo('Primeira linha. \\n') \n",
        "#  atualizar_arquivo('Segunda linha. \\n')"
      ],
      "execution_count": null,
      "outputs": []
    },
    {
      "cell_type": "code",
      "metadata": {
        "id": "6_r4P8yl4LXf"
      },
      "source": [
        "#leitura do arquivo\n",
        "\n",
        "#def ler_arquivo(nome_arquivo):\n",
        "# arquivo = opne(nome_arquivo, 'r')\n",
        "# texto = arquivo.read()\n",
        "# print(texto)  \n",
        "\n",
        "#if __name__ == '__main__':\n",
        "# ler_arquivo('teste.txt')"
      ],
      "execution_count": null,
      "outputs": []
    },
    {
      "cell_type": "code",
      "metadata": {
        "id": "axSeyj-z7KYo"
      },
      "source": [
        "#é possível determinar o local onde o arquivo será salvo\n",
        "# diretorio = 'C:/teste.txt'\n",
        "# arquivo = open(diretorio, 'w')"
      ],
      "execution_count": null,
      "outputs": []
    },
    {
      "cell_type": "code",
      "metadata": {
        "id": "jvRB9qyb_ijq"
      },
      "source": [
        "#comando.split('\\n') realiza uma quebra no texto transformando cada '\\n' em itens de uma lista\n",
        "#comando.split(',') reaiza uma quebra no texto transformando cada ',' em itens de uma lista"
      ],
      "execution_count": null,
      "outputs": []
    },
    {
      "cell_type": "code",
      "metadata": {
        "id": "j4fRClHiB_gk"
      },
      "source": [
        "#copiando um arquivo\n",
        "#def copia_arquivo(nome_arquivo):\n",
        "#   import shutil\n",
        "#   shutil.copy(nome_arquivo, 'C:/')"
      ],
      "execution_count": null,
      "outputs": []
    },
    {
      "cell_type": "code",
      "metadata": {
        "id": "ATljnDNICiSe"
      },
      "source": [
        "#movendo um arquivo\n",
        "#def move_arquivo(nome_arquivo):\n",
        "# import shutil\n",
        "# shutil.move(nome_arquivo, 'C:/')"
      ],
      "execution_count": null,
      "outputs": []
    },
    {
      "cell_type": "markdown",
      "metadata": {
        "id": "iVSOnZhyI2SF"
      },
      "source": [
        "#Manipulação de data de hora \n",
        "\n",
        "---\n",
        "*  Como recuperar a data atual (DATE)\n",
        "*  Como trabalhar com a data, alterando sua formatação  \n",
        "*  Como gerar um horário (TIME)\n",
        "*  Retornar data e hora atual (DATETIME)\n",
        "*  Alterar formatação do DATETIME\n",
        "*  Realizar soma e subtração de datas com TIMEDELTA\n",
        "\n"
      ]
    },
    {
      "cell_type": "code",
      "metadata": {
        "id": "pDSYl0KDJqKt"
      },
      "source": [
        "from datetime import date, time, datetime, timedelta"
      ],
      "execution_count": null,
      "outputs": []
    },
    {
      "cell_type": "code",
      "metadata": {
        "colab": {
          "base_uri": "https://localhost:8080/"
        },
        "id": "Uzj8ve8ZKIQD",
        "outputId": "cf20d065-0abf-4f9b-b87a-9f61c2aad638"
      },
      "source": [
        "data_atual = date.today()\n",
        "print(data_atual)"
      ],
      "execution_count": null,
      "outputs": [
        {
          "output_type": "stream",
          "text": [
            "2021-04-13\n"
          ],
          "name": "stdout"
        }
      ]
    },
    {
      "cell_type": "code",
      "metadata": {
        "colab": {
          "base_uri": "https://localhost:8080/"
        },
        "id": "4J7i3LVtKShI",
        "outputId": "2afb1365-0b16-4611-bc9b-16882d8533fe"
      },
      "source": [
        "print(data_atual.strftime('%d/%m/%y'))"
      ],
      "execution_count": null,
      "outputs": [
        {
          "output_type": "stream",
          "text": [
            "13/04/21\n"
          ],
          "name": "stdout"
        }
      ]
    },
    {
      "cell_type": "code",
      "metadata": {
        "colab": {
          "base_uri": "https://localhost:8080/"
        },
        "id": "tsyxK-ZzKucD",
        "outputId": "59054a46-1798-448a-a693-6d8a4c1cc960"
      },
      "source": [
        "print(data_atual.strftime('%A %B %Y'))"
      ],
      "execution_count": null,
      "outputs": [
        {
          "output_type": "stream",
          "text": [
            "Tuesday April 2021\n"
          ],
          "name": "stdout"
        }
      ]
    },
    {
      "cell_type": "code",
      "metadata": {
        "colab": {
          "base_uri": "https://localhost:8080/"
        },
        "id": "Lq12yBYdLQ6D",
        "outputId": "358986c8-c290-4f01-a81b-6007377a56c2"
      },
      "source": [
        "def trabalhando_com_date():\n",
        "  data_atual = date.today()\n",
        "  print(data_atual)\n",
        "  print(data_atual.strftime('%d/%m/%y'))\n",
        "  print(data_atual.strftime('%A %B %Y\\n'))\n",
        "\n",
        "def trabalhando_com_time():\n",
        "    horario = time(hour= 15, minute=18, second=30)\n",
        "    print(horario)\n",
        "\n",
        "def trabalhando_com_datetime():\n",
        "  data_atual = datetime.now()\n",
        "  print(data_atual)\n",
        "  print(data_atual.strftime('%d / %m/ %Y - %H: %M: %S'))    \n",
        "  print(data_atual.strftime('%c'))\n",
        "  print(data_atual.weekday())\n",
        "  tupla =('Segunda' , 'Terça' , 'Quarta' , 'Quinta' , 'Sexta' 'Sábado' , 'Domingo')\n",
        "  print(tupla[data_atual.weekday()])\n",
        "  data_criada = datetime(2020, 6, 20, 15, 30, 20)\n",
        "  print(data_criada)\n",
        "  print(data_criada.strftime('%c'))\n",
        "  data_string = '19/9/2020 17:32:47'\n",
        "  data_convertida = datetime.strptime(data_string, '%d/%m/%Y %H:%M:%S')\n",
        "  print(data_convertida)\n",
        "  nova_data = data_convertida - timedelta(days=365, hours=2)\n",
        "  print(nova_data)\n",
        "  nova_data = data_convertida + timedelta(days=505, hours=2)\n",
        "  print(nova_data)\n",
        "\n",
        "\n",
        "if __name__ == '__main__':\n",
        "   # trabalhando_com_date()  \n",
        "    #trabalhando_com_time()\n",
        "    trabalhando_com_datetime()"
      ],
      "execution_count": null,
      "outputs": [
        {
          "output_type": "stream",
          "text": [
            "2021-04-13 13:02:35.673003\n",
            "13 / 04/ 2021 - 13: 02: 35\n",
            "Tue Apr 13 13:02:35 2021\n",
            "1\n",
            "Terça\n",
            "2020-06-20 15:30:20\n",
            "Sat Jun 20 15:30:20 2020\n",
            "2020-09-19 17:32:47\n",
            "2019-09-20 15:32:47\n",
            "2022-02-06 19:32:47\n"
          ],
          "name": "stdout"
        }
      ]
    },
    {
      "cell_type": "code",
      "metadata": {
        "colab": {
          "base_uri": "https://localhost:8080/"
        },
        "id": "OEWlxBP8FgiX",
        "outputId": "0821bee1-6bb2-4022-81ff-6faaa975d7b8"
      },
      "source": [
        "data_digitada = input('Digite uma data: ')\n",
        "data_exibida = datetime.strptime(data_digitada, '%d/%m/%Y')\n",
        "print(data_exibida)"
      ],
      "execution_count": null,
      "outputs": [
        {
          "output_type": "stream",
          "text": [
            "Digite uma data: 17/10/1994\n",
            "1994-10-17 00:00:00\n"
          ],
          "name": "stdout"
        }
      ]
    },
    {
      "cell_type": "code",
      "metadata": {
        "colab": {
          "base_uri": "https://localhost:8080/",
          "height": 215
        },
        "id": "o715y6gVMQyd",
        "outputId": "e6a94da6-f481-4929-f573-d6f25839e104"
      },
      "source": [
        "#não é possivel soma time e int\n",
        "hour = timedelta(hours=15)\n",
        "soma = hour+1\n",
        "print(soma)"
      ],
      "execution_count": null,
      "outputs": [
        {
          "output_type": "error",
          "ename": "TypeError",
          "evalue": "ignored",
          "traceback": [
            "\u001b[0;31m---------------------------------------------------------------------------\u001b[0m",
            "\u001b[0;31mTypeError\u001b[0m                                 Traceback (most recent call last)",
            "\u001b[0;32m<ipython-input-43-bd44e7517523>\u001b[0m in \u001b[0;36m<module>\u001b[0;34m()\u001b[0m\n\u001b[1;32m      1\u001b[0m \u001b[0;34m\u001b[0m\u001b[0m\n\u001b[1;32m      2\u001b[0m \u001b[0mhour\u001b[0m \u001b[0;34m=\u001b[0m \u001b[0mtimedelta\u001b[0m\u001b[0;34m(\u001b[0m\u001b[0mhours\u001b[0m\u001b[0;34m=\u001b[0m\u001b[0;36m15\u001b[0m\u001b[0;34m)\u001b[0m\u001b[0;34m\u001b[0m\u001b[0;34m\u001b[0m\u001b[0m\n\u001b[0;32m----> 3\u001b[0;31m \u001b[0msoma\u001b[0m \u001b[0;34m=\u001b[0m \u001b[0mhour\u001b[0m\u001b[0;34m+\u001b[0m\u001b[0;36m1\u001b[0m\u001b[0;34m\u001b[0m\u001b[0;34m\u001b[0m\u001b[0m\n\u001b[0m\u001b[1;32m      4\u001b[0m \u001b[0mprint\u001b[0m\u001b[0;34m(\u001b[0m\u001b[0msoma\u001b[0m\u001b[0;34m)\u001b[0m\u001b[0;34m\u001b[0m\u001b[0;34m\u001b[0m\u001b[0m\n",
            "\u001b[0;31mTypeError\u001b[0m: unsupported operand type(s) for +: 'datetime.timedelta' and 'int'"
          ]
        }
      ]
    },
    {
      "cell_type": "markdown",
      "metadata": {
        "id": "RiS-6yKIdXsr"
      },
      "source": [
        "#Exceções\n",
        "\n",
        "\n",
        "---\n",
        "\n",
        "\n",
        "\n",
        "*   Como lançar uma exceção genérica\n",
        "*   Utilizar exceções específicas\n",
        "*   Encadeamento \n",
        "\n",
        "de exceções\n",
        "*   Else e Finaly\n",
        "*   Criação de exceções customizadas\n",
        "\n",
        "\n",
        "\n",
        "\n"
      ]
    },
    {
      "cell_type": "markdown",
      "metadata": {
        "id": "zMOYU8Drj5jm"
      },
      "source": [
        "Lista de exceções em https://docs.python.org/3/library/exceptions.html"
      ]
    },
    {
      "cell_type": "markdown",
      "metadata": {
        "id": "k8uQ8xyAldKR"
      },
      "source": [
        "Ordem hierárquica reversa"
      ]
    },
    {
      "cell_type": "code",
      "metadata": {
        "colab": {
          "base_uri": "https://localhost:8080/"
        },
        "id": "7LiOOMBZdyka",
        "outputId": "824d39b2-b6e5-4d21-a921-09b218997bf8"
      },
      "source": [
        "try:\n",
        "  divisao = 10 /0\n",
        "except ZeroDivisionError:\n",
        "  print('Não é possivel realizar uma divisão por 0')\n"
      ],
      "execution_count": null,
      "outputs": [
        {
          "output_type": "stream",
          "text": [
            "Não é possivel realizar uma divisão por 0\n"
          ],
          "name": "stdout"
        }
      ]
    },
    {
      "cell_type": "code",
      "metadata": {
        "colab": {
          "base_uri": "https://localhost:8080/"
        },
        "id": "AovI5KVmfO0K",
        "outputId": "19ed3ead-f438-4a08-dd20-870f8d5d4756"
      },
      "source": [
        "lista = [1, 10]\n",
        "try: \n",
        "  numero = lista[3]\n",
        "except:\n",
        "  print('Erro desconhecido')"
      ],
      "execution_count": null,
      "outputs": [
        {
          "output_type": "stream",
          "text": [
            "Erro desconhecido\n"
          ],
          "name": "stdout"
        }
      ]
    },
    {
      "cell_type": "code",
      "metadata": {
        "colab": {
          "base_uri": "https://localhost:8080/"
        },
        "id": "XQCGPFtwgNLA",
        "outputId": "b46608ea-d2e1-409a-87ac-b6cf7e99bb3e"
      },
      "source": [
        "lista = [1, 10]\n",
        "try: \n",
        "  numero = lista[3]\n",
        "except IndexError:\n",
        "  print('Erro ao acessar um indice inválido da lista')"
      ],
      "execution_count": null,
      "outputs": [
        {
          "output_type": "stream",
          "text": [
            "Erro ao acessar um indice inválido da lista\n"
          ],
          "name": "stdout"
        }
      ]
    },
    {
      "cell_type": "code",
      "metadata": {
        "colab": {
          "base_uri": "https://localhost:8080/"
        },
        "id": "796ICniki6Vw",
        "outputId": "2c806914-a039-4bd7-c218-6b56a4b99880"
      },
      "source": [
        "try:\n",
        "  x = a \n",
        "except BaseException as ex:\n",
        "  print('Erro descohecido. Erro: {} ' .format(ex))"
      ],
      "execution_count": null,
      "outputs": [
        {
          "output_type": "stream",
          "text": [
            "Erro descohecido. Erro: name 'a' is not defined \n"
          ],
          "name": "stdout"
        }
      ]
    },
    {
      "cell_type": "code",
      "metadata": {
        "colab": {
          "base_uri": "https://localhost:8080/"
        },
        "id": "Wq_QhtSJlXej",
        "outputId": "7c4ed76f-48fb-4b7b-fb81-cefb0ee1a3ac"
      },
      "source": [
        "lista = [1, 10]\n",
        "try:\n",
        "  divisao = 10 /1\n",
        "  numero = lista[1]\n",
        "  x = 1\n",
        "except ZeroDivisionError:\n",
        "  print('Não é possivel realizar uma divisão por 0')\n",
        "except IndexError:\n",
        "  print('Erro ao acessar um indice inválido da lista')\n",
        "except Exception as ex:\n",
        "  print('Erro descohecido. Erro: {} ' .format(ex)) \n",
        "\n",
        "else: \n",
        "  print('Executa quando não ocorre exceção')  "
      ],
      "execution_count": null,
      "outputs": [
        {
          "output_type": "stream",
          "text": [
            "Executa quando não ocorre exceção\n"
          ],
          "name": "stdout"
        }
      ]
    },
    {
      "cell_type": "code",
      "metadata": {
        "colab": {
          "base_uri": "https://localhost:8080/"
        },
        "id": "5yHastZ1rnmW",
        "outputId": "f9f918f4-825a-4429-b56f-48f18643e323"
      },
      "source": [
        "#exceção personalizada\n",
        "while True:\n",
        "  try:\n",
        "    x = int(input('Entre com uma nota de 0 a 10: '))\n",
        "    break\n",
        "  except ValueError:\n",
        "    print( 'Valor inválido. Deve-se digitar apenas números' )"
      ],
      "execution_count": null,
      "outputs": [
        {
          "output_type": "stream",
          "text": [
            "Entre com uma nota de 0 a 10: a\n",
            "Valor inválido. Deve-se digitar apenas números\n",
            "Entre com uma nota de 0 a 10: 5\n"
          ],
          "name": "stdout"
        }
      ]
    },
    {
      "cell_type": "code",
      "metadata": {
        "colab": {
          "base_uri": "https://localhost:8080/"
        },
        "id": "X2XTdMYgvEOF",
        "outputId": "c796e358-1a2d-49c4-9f2a-22da02bc65a7"
      },
      "source": [
        "#classe de exceção\n",
        "\n",
        "class Error(Exception):\n",
        "  pass\n",
        "\n",
        "class InputError(Error):\n",
        "  def __init__(self, message):\n",
        "    self.message = message\n",
        "while True:\n",
        "  try:\n",
        "    x = int(input('Entre com uma nota de 0 a 10: '))\n",
        "    if x > 10:\n",
        "      raise InputError('Nota não pode ser maior que 10')\n",
        "    elif x < 0:\n",
        "      raise InputError('Nota não pode ser menor que 0')  \n",
        "    break\n",
        "  except ValueError:\n",
        "    print( 'Valor inválido. Deve-se digitar apenas números' )    \n",
        "  except InputError as ex:\n",
        "    print(ex)  "
      ],
      "execution_count": null,
      "outputs": [
        {
          "output_type": "stream",
          "text": [
            "Entre com uma nota de 0 a 10: -1\n",
            "Nota não pode ser menor que 0\n",
            "Entre com uma nota de 0 a 10: 11\n",
            "Nota não pode ser maior que 10\n",
            "Entre com uma nota de 0 a 10: a\n",
            "Valor inválido. Deve-se digitar apenas números\n",
            "Entre com uma nota de 0 a 10: 8\n"
          ],
          "name": "stdout"
        }
      ]
    },
    {
      "cell_type": "markdown",
      "metadata": {
        "id": "qhCZsozcj5Ot"
      },
      "source": [
        "#Pacotes e requisições com requests\n",
        "---\n",
        "\n",
        "\n",
        "\n",
        "*   O que são pacotes\n",
        "*   O que e o instalador de pacotes do Python (PIP)\n",
        "*   Como instalar um pacote no Python\n",
        "*   Como listar pacotes instalados no Python\n",
        "*   Como utilizar um pacote\n",
        "*   Instalar nosso primeiro pacote(Request)\n",
        "*   Realizar uma requisição http com requests \n",
        "\n",
        "\n",
        "\n",
        "\n",
        "\n"
      ]
    },
    {
      "cell_type": "markdown",
      "metadata": {
        "id": "rrfgxBsRAUgJ"
      },
      "source": [
        "https://docs.python-requests.org/en/master/"
      ]
    },
    {
      "cell_type": "code",
      "metadata": {
        "colab": {
          "base_uri": "https://localhost:8080/"
        },
        "id": "BJNmlDxm9vKr",
        "outputId": "115c1a97-5342-4e35-fecb-acaa64cdfbc7"
      },
      "source": [
        "pip --version"
      ],
      "execution_count": null,
      "outputs": [
        {
          "output_type": "stream",
          "text": [
            "pip 19.3.1 from /usr/local/lib/python3.7/dist-packages/pip (python 3.7)\n"
          ],
          "name": "stdout"
        }
      ]
    },
    {
      "cell_type": "code",
      "metadata": {
        "colab": {
          "base_uri": "https://localhost:8080/"
        },
        "id": "i-t3Zw_I-2EC",
        "outputId": "ccefd76c-e7ec-463c-8a45-c16fa958cccc"
      },
      "source": [
        "#lista os pacotes instalados no notebook\n",
        "pip list"
      ],
      "execution_count": null,
      "outputs": [
        {
          "output_type": "stream",
          "text": [
            "Package                       Version       \n",
            "----------------------------- --------------\n",
            "absl-py                       0.12.0        \n",
            "alabaster                     0.7.12        \n",
            "albumentations                0.1.12        \n",
            "altair                        4.1.0         \n",
            "appdirs                       1.4.4         \n",
            "argon2-cffi                   20.1.0        \n",
            "astor                         0.8.1         \n",
            "astropy                       4.2           \n",
            "astunparse                    1.6.3         \n",
            "async-generator               1.10          \n",
            "atari-py                      0.2.6         \n",
            "atomicwrites                  1.4.0         \n",
            "attrs                         20.3.0        \n",
            "audioread                     2.1.9         \n",
            "autograd                      1.3           \n",
            "Babel                         2.9.0         \n",
            "backcall                      0.2.0         \n",
            "beautifulsoup4                4.6.3         \n",
            "bleach                        3.3.0         \n",
            "blis                          0.4.1         \n",
            "bokeh                         2.3.0         \n",
            "Bottleneck                    1.3.2         \n",
            "branca                        0.4.2         \n",
            "bs4                           0.0.1         \n",
            "CacheControl                  0.12.6        \n",
            "cachetools                    4.2.1         \n",
            "catalogue                     1.0.0         \n",
            "certifi                       2020.12.5     \n",
            "cffi                          1.14.5        \n",
            "chainer                       7.4.0         \n",
            "chardet                       3.0.4         \n",
            "click                         7.1.2         \n",
            "cloudpickle                   1.3.0         \n",
            "cmake                         3.12.0        \n",
            "cmdstanpy                     0.9.5         \n",
            "colorcet                      2.0.6         \n",
            "colorlover                    0.3.0         \n",
            "community                     1.0.0b1       \n",
            "contextlib2                   0.5.5         \n",
            "convertdate                   2.3.2         \n",
            "coverage                      3.7.1         \n",
            "coveralls                     0.5           \n",
            "crcmod                        1.7           \n",
            "cufflinks                     0.17.3        \n",
            "cvxopt                        1.2.6         \n",
            "cvxpy                         1.0.31        \n",
            "cycler                        0.10.0        \n",
            "cymem                         2.0.5         \n",
            "Cython                        0.29.22       \n",
            "daft                          0.0.4         \n",
            "dask                          2.12.0        \n",
            "datascience                   0.10.6        \n",
            "debugpy                       1.0.0         \n",
            "decorator                     4.4.2         \n",
            "defusedxml                    0.7.1         \n",
            "descartes                     1.1.0         \n",
            "dill                          0.3.3         \n",
            "distributed                   1.25.3        \n",
            "dlib                          19.18.0       \n",
            "dm-tree                       0.1.5         \n",
            "docopt                        0.6.2         \n",
            "docutils                      0.16          \n",
            "dopamine-rl                   1.0.5         \n",
            "earthengine-api               0.1.258       \n",
            "easydict                      1.9           \n",
            "ecos                          2.0.7.post1   \n",
            "editdistance                  0.5.3         \n",
            "en-core-web-sm                2.2.5         \n",
            "entrypoints                   0.3           \n",
            "ephem                         3.7.7.1       \n",
            "et-xmlfile                    1.0.1         \n",
            "fa2                           0.3.5         \n",
            "fancyimpute                   0.4.3         \n",
            "fastai                        1.0.61        \n",
            "fastdtw                       0.3.4         \n",
            "fastprogress                  1.0.0         \n",
            "fastrlock                     0.6           \n",
            "fbprophet                     0.7.1         \n",
            "feather-format                0.4.1         \n",
            "filelock                      3.0.12        \n",
            "firebase-admin                4.4.0         \n",
            "fix-yahoo-finance             0.0.22        \n",
            "Flask                         1.1.2         \n",
            "flatbuffers                   1.12          \n",
            "folium                        0.8.3         \n",
            "future                        0.16.0        \n",
            "gast                          0.3.3         \n",
            "GDAL                          2.2.2         \n",
            "gdown                         3.6.4         \n",
            "gensim                        3.6.0         \n",
            "geographiclib                 1.50          \n",
            "geopy                         1.17.0        \n",
            "gin-config                    0.4.0         \n",
            "glob2                         0.7           \n",
            "google                        2.0.3         \n",
            "google-api-core               1.26.2        \n",
            "google-api-python-client      1.12.8        \n",
            "google-auth                   1.28.0        \n",
            "google-auth-httplib2          0.0.4         \n",
            "google-auth-oauthlib          0.4.3         \n",
            "google-cloud-bigquery         1.21.0        \n",
            "google-cloud-bigquery-storage 1.1.0         \n",
            "google-cloud-core             1.0.3         \n",
            "google-cloud-datastore        1.8.0         \n",
            "google-cloud-firestore        1.7.0         \n",
            "google-cloud-language         1.2.0         \n",
            "google-cloud-storage          1.18.1        \n",
            "google-cloud-translate        1.5.0         \n",
            "google-colab                  1.0.0         \n",
            "google-pasta                  0.2.0         \n",
            "google-resumable-media        0.4.1         \n",
            "googleapis-common-protos      1.53.0        \n",
            "googledrivedownloader         0.4           \n",
            "graphviz                      0.10.1        \n",
            "greenlet                      1.0.0         \n",
            "grpcio                        1.32.0        \n",
            "gspread                       3.0.1         \n",
            "gspread-dataframe             3.0.8         \n",
            "gym                           0.17.3        \n",
            "h5py                          2.10.0        \n",
            "HeapDict                      1.0.1         \n",
            "hijri-converter               2.1.1         \n",
            "holidays                      0.10.5.2      \n",
            "holoviews                     1.14.2        \n",
            "html5lib                      1.0.1         \n",
            "httpimport                    0.5.18        \n",
            "httplib2                      0.17.4        \n",
            "httplib2shim                  0.0.3         \n",
            "humanize                      0.5.1         \n",
            "hyperopt                      0.1.2         \n",
            "ideep4py                      2.0.0.post3   \n",
            "idna                          2.10          \n",
            "imageio                       2.4.1         \n",
            "imagesize                     1.2.0         \n",
            "imbalanced-learn              0.4.3         \n",
            "imblearn                      0.0           \n",
            "imgaug                        0.2.9         \n",
            "importlib-metadata            3.8.1         \n",
            "importlib-resources           5.1.2         \n",
            "imutils                       0.5.4         \n",
            "inflect                       2.1.0         \n",
            "iniconfig                     1.1.1         \n",
            "intel-openmp                  2021.2.0      \n",
            "intervaltree                  2.1.0         \n",
            "ipykernel                     4.10.1        \n",
            "ipython                       5.5.0         \n",
            "ipython-genutils              0.2.0         \n",
            "ipython-sql                   0.3.9         \n",
            "ipywidgets                    7.6.3         \n",
            "itsdangerous                  1.1.0         \n",
            "jax                           0.2.11        \n",
            "jaxlib                        0.1.64+cuda110\n",
            "jdcal                         1.4.1         \n",
            "jedi                          0.18.0        \n",
            "jieba                         0.42.1        \n",
            "Jinja2                        2.11.3        \n",
            "joblib                        1.0.1         \n",
            "jpeg4py                       0.1.4         \n",
            "jsonschema                    2.6.0         \n",
            "jupyter                       1.0.0         \n",
            "jupyter-client                5.3.5         \n",
            "jupyter-console               5.2.0         \n",
            "jupyter-core                  4.7.1         \n",
            "jupyterlab-pygments           0.1.2         \n",
            "jupyterlab-widgets            1.0.0         \n",
            "kaggle                        1.5.12        \n",
            "kapre                         0.1.3.1       \n",
            "Keras                         2.4.3         \n",
            "Keras-Preprocessing           1.1.2         \n",
            "keras-vis                     0.4.1         \n",
            "kiwisolver                    1.3.1         \n",
            "knnimpute                     0.1.0         \n",
            "korean-lunar-calendar         0.2.1         \n",
            "librosa                       0.8.0         \n",
            "lightgbm                      2.2.3         \n",
            "llvmlite                      0.34.0        \n",
            "lmdb                          0.99          \n",
            "LunarCalendar                 0.0.9         \n",
            "lxml                          4.2.6         \n",
            "Markdown                      3.3.4         \n",
            "MarkupSafe                    1.1.1         \n",
            "matplotlib                    3.2.2         \n",
            "matplotlib-venn               0.11.6        \n",
            "missingno                     0.4.2         \n",
            "mistune                       0.8.4         \n",
            "mizani                        0.6.0         \n",
            "mkl                           2019.0        \n",
            "mlxtend                       0.14.0        \n",
            "more-itertools                8.7.0         \n",
            "moviepy                       0.2.3.5       \n",
            "mpmath                        1.2.1         \n",
            "msgpack                       1.0.2         \n",
            "multiprocess                  0.70.11.1     \n",
            "multitasking                  0.0.9         \n",
            "murmurhash                    1.0.5         \n",
            "music21                       5.5.0         \n",
            "natsort                       5.5.0         \n",
            "nbclient                      0.5.3         \n",
            "nbconvert                     5.6.1         \n",
            "nbformat                      5.1.2         \n",
            "nest-asyncio                  1.5.1         \n",
            "networkx                      2.5           \n",
            "nibabel                       3.0.2         \n",
            "nltk                          3.2.5         \n",
            "notebook                      5.3.1         \n",
            "np-utils                      0.5.12.1      \n",
            "numba                         0.51.2        \n",
            "numexpr                       2.7.3         \n",
            "numpy                         1.19.5        \n",
            "nvidia-ml-py3                 7.352.0       \n",
            "oauth2client                  4.1.3         \n",
            "oauthlib                      3.1.0         \n",
            "okgrade                       0.4.3         \n",
            "opencv-contrib-python         4.1.2.30      \n",
            "opencv-python                 4.1.2.30      \n",
            "openpyxl                      2.5.9         \n",
            "opt-einsum                    3.3.0         \n",
            "osqp                          0.6.2.post0   \n",
            "packaging                     20.9          \n",
            "palettable                    3.3.0         \n",
            "pandas                        1.1.5         \n",
            "pandas-datareader             0.9.0         \n",
            "pandas-gbq                    0.13.3        \n",
            "pandas-profiling              1.4.1         \n",
            "pandocfilters                 1.4.3         \n",
            "panel                         0.11.1        \n",
            "param                         1.10.1        \n",
            "parso                         0.8.2         \n",
            "pathlib                       1.0.1         \n",
            "patsy                         0.5.1         \n",
            "pexpect                       4.8.0         \n",
            "pickleshare                   0.7.5         \n",
            "Pillow                        7.1.2         \n",
            "pip                           19.3.1        \n",
            "pip-tools                     4.5.1         \n",
            "plac                          1.1.3         \n",
            "plotly                        4.4.1         \n",
            "plotnine                      0.6.0         \n",
            "pluggy                        0.7.1         \n",
            "pooch                         1.3.0         \n",
            "portpicker                    1.3.1         \n",
            "prefetch-generator            1.0.1         \n",
            "preshed                       3.0.5         \n",
            "prettytable                   2.1.0         \n",
            "progressbar2                  3.38.0        \n",
            "prometheus-client             0.10.0        \n",
            "promise                       2.3           \n",
            "prompt-toolkit                1.0.18        \n",
            "protobuf                      3.12.4        \n",
            "psutil                        5.4.8         \n",
            "psycopg2                      2.7.6.1       \n",
            "ptyprocess                    0.7.0         \n",
            "py                            1.10.0        \n",
            "pyarrow                       3.0.0         \n",
            "pyasn1                        0.4.8         \n",
            "pyasn1-modules                0.2.8         \n",
            "pycocotools                   2.0.2         \n",
            "pycparser                     2.20          \n",
            "pyct                          0.4.8         \n",
            "pydata-google-auth            1.1.0         \n",
            "pydot                         1.3.0         \n",
            "pydot-ng                      2.0.0         \n",
            "pydotplus                     2.0.2         \n",
            "PyDrive                       1.3.1         \n",
            "pyemd                         0.5.1         \n",
            "pyerfa                        1.7.2         \n",
            "pyglet                        1.5.0         \n",
            "Pygments                      2.6.1         \n",
            "pygobject                     3.26.1        \n",
            "pymc3                         3.7           \n",
            "PyMeeus                       0.5.11        \n",
            "pymongo                       3.11.3        \n",
            "pymystem3                     0.2.0         \n",
            "PyOpenGL                      3.1.5         \n",
            "pyparsing                     2.4.7         \n",
            "pyrsistent                    0.17.3        \n",
            "pysndfile                     1.3.8         \n",
            "PySocks                       1.7.1         \n",
            "pystan                        2.19.1.1      \n",
            "pytest                        3.6.4         \n",
            "python-apt                    0.0.0         \n",
            "python-chess                  0.23.11       \n",
            "python-dateutil               2.8.1         \n",
            "python-louvain                0.15          \n",
            "python-slugify                4.0.1         \n",
            "python-utils                  2.5.6         \n",
            "pytz                          2018.9        \n",
            "pyviz-comms                   2.0.1         \n",
            "PyWavelets                    1.1.1         \n",
            "PyYAML                        3.13          \n",
            "pyzmq                         22.0.3        \n",
            "qdldl                         0.1.5.post0   \n",
            "qtconsole                     5.0.3         \n",
            "QtPy                          1.9.0         \n",
            "regex                         2019.12.20    \n",
            "requests                      2.23.0        \n",
            "requests-oauthlib             1.3.0         \n",
            "resampy                       0.2.2         \n",
            "retrying                      1.3.3         \n",
            "rpy2                          3.4.3         \n",
            "rsa                           4.7.2         \n",
            "scikit-image                  0.16.2        \n",
            "scikit-learn                  0.22.2.post1  \n",
            "scipy                         1.4.1         \n",
            "screen-resolution-extra       0.0.0         \n",
            "scs                           2.1.2         \n",
            "seaborn                       0.11.1        \n",
            "Send2Trash                    1.5.0         \n",
            "setuptools                    54.2.0        \n",
            "setuptools-git                1.2           \n",
            "Shapely                       1.7.1         \n",
            "simplegeneric                 0.8.1         \n",
            "six                           1.15.0        \n",
            "sklearn                       0.0           \n",
            "sklearn-pandas                1.8.0         \n",
            "smart-open                    4.2.0         \n",
            "snowballstemmer               2.1.0         \n",
            "sortedcontainers              2.3.0         \n",
            "SoundFile                     0.10.3.post1  \n",
            "spacy                         2.2.4         \n",
            "Sphinx                        1.8.5         \n",
            "sphinxcontrib-serializinghtml 1.1.4         \n",
            "sphinxcontrib-websupport      1.2.4         \n",
            "SQLAlchemy                    1.4.3         \n",
            "sqlparse                      0.4.1         \n",
            "srsly                         1.0.5         \n",
            "statsmodels                   0.10.2        \n",
            "sympy                         1.7.1         \n",
            "tables                        3.4.4         \n",
            "tabulate                      0.8.9         \n",
            "tblib                         1.7.0         \n",
            "tensorboard                   2.4.1         \n",
            "tensorboard-plugin-wit        1.8.0         \n",
            "tensorflow                    2.4.1         \n",
            "tensorflow-datasets           4.0.1         \n",
            "tensorflow-estimator          2.4.0         \n",
            "tensorflow-gcs-config         2.4.0         \n",
            "tensorflow-hub                0.11.0        \n",
            "tensorflow-metadata           0.29.0        \n",
            "tensorflow-probability        0.12.1        \n",
            "termcolor                     1.1.0         \n",
            "terminado                     0.9.3         \n",
            "testpath                      0.4.4         \n",
            "text-unidecode                1.3           \n",
            "textblob                      0.15.3        \n",
            "textgenrnn                    1.4.1         \n",
            "Theano                        1.0.5         \n",
            "thinc                         7.4.0         \n",
            "tifffile                      2021.3.31     \n",
            "toml                          0.10.2        \n",
            "toolz                         0.11.1        \n",
            "torch                         1.8.1+cu101   \n",
            "torchsummary                  1.5.1         \n",
            "torchtext                     0.9.1         \n",
            "torchvision                   0.9.1+cu101   \n",
            "tornado                       5.1.1         \n",
            "tqdm                          4.41.1        \n",
            "traitlets                     5.0.5         \n",
            "tweepy                        3.10.0        \n",
            "typeguard                     2.7.1         \n",
            "typing-extensions             3.7.4.3       \n",
            "tzlocal                       1.5.1         \n",
            "uritemplate                   3.0.1         \n",
            "urllib3                       1.24.3        \n",
            "vega-datasets                 0.9.0         \n",
            "wasabi                        0.8.2         \n",
            "wcwidth                       0.2.5         \n",
            "webencodings                  0.5.1         \n",
            "Werkzeug                      1.0.1         \n",
            "wheel                         0.36.2        \n",
            "widgetsnbextension            3.5.1         \n",
            "wordcloud                     1.5.0         \n",
            "wrapt                         1.12.1        \n",
            "xarray                        0.15.1        \n",
            "xgboost                       0.90          \n",
            "xkit                          0.0.0         \n",
            "xlrd                          1.1.0         \n",
            "xlwt                          1.3.0         \n",
            "yellowbrick                   0.9.1         \n",
            "zict                          2.0.0         \n",
            "zipp                          3.4.1         \n"
          ],
          "name": "stdout"
        }
      ]
    },
    {
      "cell_type": "code",
      "metadata": {
        "colab": {
          "base_uri": "https://localhost:8080/"
        },
        "id": "78zOg5pB-1bk",
        "outputId": "fbb92dac-86cb-44eb-ef42-3bc66c268bbc"
      },
      "source": [
        "pip freeze"
      ],
      "execution_count": null,
      "outputs": [
        {
          "output_type": "stream",
          "text": [
            "absl-py==0.12.0\n",
            "alabaster==0.7.12\n",
            "albumentations==0.1.12\n",
            "altair==4.1.0\n",
            "appdirs==1.4.4\n",
            "argon2-cffi==20.1.0\n",
            "astor==0.8.1\n",
            "astropy==4.2\n",
            "astunparse==1.6.3\n",
            "async-generator==1.10\n",
            "atari-py==0.2.6\n",
            "atomicwrites==1.4.0\n",
            "attrs==20.3.0\n",
            "audioread==2.1.9\n",
            "autograd==1.3\n",
            "Babel==2.9.0\n",
            "backcall==0.2.0\n",
            "beautifulsoup4==4.6.3\n",
            "bleach==3.3.0\n",
            "blis==0.4.1\n",
            "bokeh==2.3.0\n",
            "Bottleneck==1.3.2\n",
            "branca==0.4.2\n",
            "bs4==0.0.1\n",
            "CacheControl==0.12.6\n",
            "cachetools==4.2.1\n",
            "catalogue==1.0.0\n",
            "certifi==2020.12.5\n",
            "cffi==1.14.5\n",
            "chainer==7.4.0\n",
            "chardet==3.0.4\n",
            "click==7.1.2\n",
            "cloudpickle==1.3.0\n",
            "cmake==3.12.0\n",
            "cmdstanpy==0.9.5\n",
            "colorcet==2.0.6\n",
            "colorlover==0.3.0\n",
            "community==1.0.0b1\n",
            "contextlib2==0.5.5\n",
            "convertdate==2.3.2\n",
            "coverage==3.7.1\n",
            "coveralls==0.5\n",
            "crcmod==1.7\n",
            "cufflinks==0.17.3\n",
            "cvxopt==1.2.6\n",
            "cvxpy==1.0.31\n",
            "cycler==0.10.0\n",
            "cymem==2.0.5\n",
            "Cython==0.29.22\n",
            "daft==0.0.4\n",
            "dask==2.12.0\n",
            "datascience==0.10.6\n",
            "debugpy==1.0.0\n",
            "decorator==4.4.2\n",
            "defusedxml==0.7.1\n",
            "descartes==1.1.0\n",
            "dill==0.3.3\n",
            "distributed==1.25.3\n",
            "dlib==19.18.0\n",
            "dm-tree==0.1.5\n",
            "docopt==0.6.2\n",
            "docutils==0.16\n",
            "dopamine-rl==1.0.5\n",
            "earthengine-api==0.1.258\n",
            "easydict==1.9\n",
            "ecos==2.0.7.post1\n",
            "editdistance==0.5.3\n",
            "en-core-web-sm==2.2.5\n",
            "entrypoints==0.3\n",
            "ephem==3.7.7.1\n",
            "et-xmlfile==1.0.1\n",
            "fa2==0.3.5\n",
            "fancyimpute==0.4.3\n",
            "fastai==1.0.61\n",
            "fastdtw==0.3.4\n",
            "fastprogress==1.0.0\n",
            "fastrlock==0.6\n",
            "fbprophet==0.7.1\n",
            "feather-format==0.4.1\n",
            "filelock==3.0.12\n",
            "firebase-admin==4.4.0\n",
            "fix-yahoo-finance==0.0.22\n",
            "Flask==1.1.2\n",
            "flatbuffers==1.12\n",
            "folium==0.8.3\n",
            "future==0.16.0\n",
            "gast==0.3.3\n",
            "GDAL==2.2.2\n",
            "gdown==3.6.4\n",
            "gensim==3.6.0\n",
            "geographiclib==1.50\n",
            "geopy==1.17.0\n",
            "gin-config==0.4.0\n",
            "glob2==0.7\n",
            "google==2.0.3\n",
            "google-api-core==1.26.2\n",
            "google-api-python-client==1.12.8\n",
            "google-auth==1.28.0\n",
            "google-auth-httplib2==0.0.4\n",
            "google-auth-oauthlib==0.4.3\n",
            "google-cloud-bigquery==1.21.0\n",
            "google-cloud-bigquery-storage==1.1.0\n",
            "google-cloud-core==1.0.3\n",
            "google-cloud-datastore==1.8.0\n",
            "google-cloud-firestore==1.7.0\n",
            "google-cloud-language==1.2.0\n",
            "google-cloud-storage==1.18.1\n",
            "google-cloud-translate==1.5.0\n",
            "google-colab==1.0.0\n",
            "google-pasta==0.2.0\n",
            "google-resumable-media==0.4.1\n",
            "googleapis-common-protos==1.53.0\n",
            "googledrivedownloader==0.4\n",
            "graphviz==0.10.1\n",
            "greenlet==1.0.0\n",
            "grpcio==1.32.0\n",
            "gspread==3.0.1\n",
            "gspread-dataframe==3.0.8\n",
            "gym==0.17.3\n",
            "h5py==2.10.0\n",
            "HeapDict==1.0.1\n",
            "hijri-converter==2.1.1\n",
            "holidays==0.10.5.2\n",
            "holoviews==1.14.2\n",
            "html5lib==1.0.1\n",
            "httpimport==0.5.18\n",
            "httplib2==0.17.4\n",
            "httplib2shim==0.0.3\n",
            "humanize==0.5.1\n",
            "hyperopt==0.1.2\n",
            "ideep4py==2.0.0.post3\n",
            "idna==2.10\n",
            "imageio==2.4.1\n",
            "imagesize==1.2.0\n",
            "imbalanced-learn==0.4.3\n",
            "imblearn==0.0\n",
            "imgaug==0.2.9\n",
            "importlib-metadata==3.8.1\n",
            "importlib-resources==5.1.2\n",
            "imutils==0.5.4\n",
            "inflect==2.1.0\n",
            "iniconfig==1.1.1\n",
            "intel-openmp==2021.2.0\n",
            "intervaltree==2.1.0\n",
            "ipykernel==4.10.1\n",
            "ipython==5.5.0\n",
            "ipython-genutils==0.2.0\n",
            "ipython-sql==0.3.9\n",
            "ipywidgets==7.6.3\n",
            "itsdangerous==1.1.0\n",
            "jax==0.2.11\n",
            "jaxlib==0.1.64+cuda110\n",
            "jdcal==1.4.1\n",
            "jedi==0.18.0\n",
            "jieba==0.42.1\n",
            "Jinja2==2.11.3\n",
            "joblib==1.0.1\n",
            "jpeg4py==0.1.4\n",
            "jsonschema==2.6.0\n",
            "jupyter==1.0.0\n",
            "jupyter-client==5.3.5\n",
            "jupyter-console==5.2.0\n",
            "jupyter-core==4.7.1\n",
            "jupyterlab-pygments==0.1.2\n",
            "jupyterlab-widgets==1.0.0\n",
            "kaggle==1.5.12\n",
            "kapre==0.1.3.1\n",
            "Keras==2.4.3\n",
            "Keras-Preprocessing==1.1.2\n",
            "keras-vis==0.4.1\n",
            "kiwisolver==1.3.1\n",
            "knnimpute==0.1.0\n",
            "korean-lunar-calendar==0.2.1\n",
            "librosa==0.8.0\n",
            "lightgbm==2.2.3\n",
            "llvmlite==0.34.0\n",
            "lmdb==0.99\n",
            "LunarCalendar==0.0.9\n",
            "lxml==4.2.6\n",
            "Markdown==3.3.4\n",
            "MarkupSafe==1.1.1\n",
            "matplotlib==3.2.2\n",
            "matplotlib-venn==0.11.6\n",
            "missingno==0.4.2\n",
            "mistune==0.8.4\n",
            "mizani==0.6.0\n",
            "mkl==2019.0\n",
            "mlxtend==0.14.0\n",
            "more-itertools==8.7.0\n",
            "moviepy==0.2.3.5\n",
            "mpmath==1.2.1\n",
            "msgpack==1.0.2\n",
            "multiprocess==0.70.11.1\n",
            "multitasking==0.0.9\n",
            "murmurhash==1.0.5\n",
            "music21==5.5.0\n",
            "natsort==5.5.0\n",
            "nbclient==0.5.3\n",
            "nbconvert==5.6.1\n",
            "nbformat==5.1.2\n",
            "nest-asyncio==1.5.1\n",
            "networkx==2.5\n",
            "nibabel==3.0.2\n",
            "nltk==3.2.5\n",
            "notebook==5.3.1\n",
            "np-utils==0.5.12.1\n",
            "numba==0.51.2\n",
            "numexpr==2.7.3\n",
            "numpy==1.19.5\n",
            "nvidia-ml-py3==7.352.0\n",
            "oauth2client==4.1.3\n",
            "oauthlib==3.1.0\n",
            "okgrade==0.4.3\n",
            "opencv-contrib-python==4.1.2.30\n",
            "opencv-python==4.1.2.30\n",
            "openpyxl==2.5.9\n",
            "opt-einsum==3.3.0\n",
            "osqp==0.6.2.post0\n",
            "packaging==20.9\n",
            "palettable==3.3.0\n",
            "pandas==1.1.5\n",
            "pandas-datareader==0.9.0\n",
            "pandas-gbq==0.13.3\n",
            "pandas-profiling==1.4.1\n",
            "pandocfilters==1.4.3\n",
            "panel==0.11.1\n",
            "param==1.10.1\n",
            "parso==0.8.2\n",
            "pathlib==1.0.1\n",
            "patsy==0.5.1\n",
            "pexpect==4.8.0\n",
            "pickleshare==0.7.5\n",
            "Pillow==7.1.2\n",
            "pip-tools==4.5.1\n",
            "plac==1.1.3\n",
            "plotly==4.4.1\n",
            "plotnine==0.6.0\n",
            "pluggy==0.7.1\n",
            "pooch==1.3.0\n",
            "portpicker==1.3.1\n",
            "prefetch-generator==1.0.1\n",
            "preshed==3.0.5\n",
            "prettytable==2.1.0\n",
            "progressbar2==3.38.0\n",
            "prometheus-client==0.10.0\n",
            "promise==2.3\n",
            "prompt-toolkit==1.0.18\n",
            "protobuf==3.12.4\n",
            "psutil==5.4.8\n",
            "psycopg2==2.7.6.1\n",
            "ptyprocess==0.7.0\n",
            "py==1.10.0\n",
            "pyarrow==3.0.0\n",
            "pyasn1==0.4.8\n",
            "pyasn1-modules==0.2.8\n",
            "pycocotools==2.0.2\n",
            "pycparser==2.20\n",
            "pyct==0.4.8\n",
            "pydata-google-auth==1.1.0\n",
            "pydot==1.3.0\n",
            "pydot-ng==2.0.0\n",
            "pydotplus==2.0.2\n",
            "PyDrive==1.3.1\n",
            "pyemd==0.5.1\n",
            "pyerfa==1.7.2\n",
            "pyglet==1.5.0\n",
            "Pygments==2.6.1\n",
            "pygobject==3.26.1\n",
            "pymc3==3.7\n",
            "PyMeeus==0.5.11\n",
            "pymongo==3.11.3\n",
            "pymystem3==0.2.0\n",
            "PyOpenGL==3.1.5\n",
            "pyparsing==2.4.7\n",
            "pyrsistent==0.17.3\n",
            "pysndfile==1.3.8\n",
            "PySocks==1.7.1\n",
            "pystan==2.19.1.1\n",
            "pytest==3.6.4\n",
            "python-apt==0.0.0\n",
            "python-chess==0.23.11\n",
            "python-dateutil==2.8.1\n",
            "python-louvain==0.15\n",
            "python-slugify==4.0.1\n",
            "python-utils==2.5.6\n",
            "pytz==2018.9\n",
            "pyviz-comms==2.0.1\n",
            "PyWavelets==1.1.1\n",
            "PyYAML==3.13\n",
            "pyzmq==22.0.3\n",
            "qdldl==0.1.5.post0\n",
            "qtconsole==5.0.3\n",
            "QtPy==1.9.0\n",
            "regex==2019.12.20\n",
            "requests==2.23.0\n",
            "requests-oauthlib==1.3.0\n",
            "resampy==0.2.2\n",
            "retrying==1.3.3\n",
            "rpy2==3.4.3\n",
            "rsa==4.7.2\n",
            "scikit-image==0.16.2\n",
            "scikit-learn==0.22.2.post1\n",
            "scipy==1.4.1\n",
            "screen-resolution-extra==0.0.0\n",
            "scs==2.1.2\n",
            "seaborn==0.11.1\n",
            "Send2Trash==1.5.0\n",
            "setuptools-git==1.2\n",
            "Shapely==1.7.1\n",
            "simplegeneric==0.8.1\n",
            "six==1.15.0\n",
            "sklearn==0.0\n",
            "sklearn-pandas==1.8.0\n",
            "smart-open==4.2.0\n",
            "snowballstemmer==2.1.0\n",
            "sortedcontainers==2.3.0\n",
            "SoundFile==0.10.3.post1\n",
            "spacy==2.2.4\n",
            "Sphinx==1.8.5\n",
            "sphinxcontrib-serializinghtml==1.1.4\n",
            "sphinxcontrib-websupport==1.2.4\n",
            "SQLAlchemy==1.4.3\n",
            "sqlparse==0.4.1\n",
            "srsly==1.0.5\n",
            "statsmodels==0.10.2\n",
            "sympy==1.7.1\n",
            "tables==3.4.4\n",
            "tabulate==0.8.9\n",
            "tblib==1.7.0\n",
            "tensorboard==2.4.1\n",
            "tensorboard-plugin-wit==1.8.0\n",
            "tensorflow==2.4.1\n",
            "tensorflow-datasets==4.0.1\n",
            "tensorflow-estimator==2.4.0\n",
            "tensorflow-gcs-config==2.4.0\n",
            "tensorflow-hub==0.11.0\n",
            "tensorflow-metadata==0.29.0\n",
            "tensorflow-probability==0.12.1\n",
            "termcolor==1.1.0\n",
            "terminado==0.9.3\n",
            "testpath==0.4.4\n",
            "text-unidecode==1.3\n",
            "textblob==0.15.3\n",
            "textgenrnn==1.4.1\n",
            "Theano==1.0.5\n",
            "thinc==7.4.0\n",
            "tifffile==2021.3.31\n",
            "toml==0.10.2\n",
            "toolz==0.11.1\n",
            "torch==1.8.1+cu101\n",
            "torchsummary==1.5.1\n",
            "torchtext==0.9.1\n",
            "torchvision==0.9.1+cu101\n",
            "tornado==5.1.1\n",
            "tqdm==4.41.1\n",
            "traitlets==5.0.5\n",
            "tweepy==3.10.0\n",
            "typeguard==2.7.1\n",
            "typing-extensions==3.7.4.3\n",
            "tzlocal==1.5.1\n",
            "uritemplate==3.0.1\n",
            "urllib3==1.24.3\n",
            "vega-datasets==0.9.0\n",
            "wasabi==0.8.2\n",
            "wcwidth==0.2.5\n",
            "webencodings==0.5.1\n",
            "Werkzeug==1.0.1\n",
            "widgetsnbextension==3.5.1\n",
            "wordcloud==1.5.0\n",
            "wrapt==1.12.1\n",
            "xarray==0.15.1\n",
            "xgboost==0.90\n",
            "xkit==0.0.0\n",
            "xlrd==1.1.0\n",
            "xlwt==1.3.0\n",
            "yellowbrick==0.9.1\n",
            "zict==2.0.0\n",
            "zipp==3.4.1\n"
          ],
          "name": "stdout"
        }
      ]
    },
    {
      "cell_type": "code",
      "metadata": {
        "colab": {
          "base_uri": "https://localhost:8080/"
        },
        "id": "AC8xEXpC_90I",
        "outputId": "eb18d867-43f8-47f6-a4cf-29674827ec32"
      },
      "source": [
        "import requests\n",
        "response = requests.get('https://viacep.com.br/ws/01001000/json')\n",
        "print(response.status_code)\n",
        "print(response.text)\n",
        "print(type(response.text))\n",
        "print(response.json())\n",
        "print(type(response.json))\n",
        "dados_cep = response.json()\n",
        "print(dados_cep['logradouro'])"
      ],
      "execution_count": null,
      "outputs": [
        {
          "output_type": "stream",
          "text": [
            "200\n",
            "{\n",
            "  \"cep\": \"01001-000\",\n",
            "  \"logradouro\": \"Praça da Sé\",\n",
            "  \"complemento\": \"lado ímpar\",\n",
            "  \"bairro\": \"Sé\",\n",
            "  \"localidade\": \"São Paulo\",\n",
            "  \"uf\": \"SP\",\n",
            "  \"ibge\": \"3550308\",\n",
            "  \"gia\": \"1004\",\n",
            "  \"ddd\": \"11\",\n",
            "  \"siafi\": \"7107\"\n",
            "}\n",
            "<class 'str'>\n",
            "{'cep': '01001-000', 'logradouro': 'Praça da Sé', 'complemento': 'lado ímpar', 'bairro': 'Sé', 'localidade': 'São Paulo', 'uf': 'SP', 'ibge': '3550308', 'gia': '1004', 'ddd': '11', 'siafi': '7107'}\n",
            "<class 'method'>\n",
            "Praça da Sé\n"
          ],
          "name": "stdout"
        }
      ]
    },
    {
      "cell_type": "code",
      "metadata": {
        "colab": {
          "base_uri": "https://localhost:8080/"
        },
        "id": "0LoYOG_8DGis",
        "outputId": "00560926-64e1-40cd-993e-e899693cab91"
      },
      "source": [
        "import requests\n",
        "response = requests.get('https://viacep.com.br/ws/13045410/json')\n",
        "print(response.status_code)\n",
        "print(response.text)\n",
        "print(type(response.text))\n",
        "print(response.json())\n",
        "print(type(response.json))\n",
        "dados_cep = response.json()\n",
        "print(dados_cep['logradouro'])"
      ],
      "execution_count": null,
      "outputs": [
        {
          "output_type": "stream",
          "text": [
            "200\n",
            "{\n",
            "  \"cep\": \"13045-410\",\n",
            "  \"logradouro\": \"Rua Professora Maria Pilar Bórgia\",\n",
            "  \"complemento\": \"\",\n",
            "  \"bairro\": \"Vila Carminha\",\n",
            "  \"localidade\": \"Campinas\",\n",
            "  \"uf\": \"SP\",\n",
            "  \"ibge\": \"3509502\",\n",
            "  \"gia\": \"2446\",\n",
            "  \"ddd\": \"19\",\n",
            "  \"siafi\": \"6291\"\n",
            "}\n",
            "<class 'str'>\n",
            "{'cep': '13045-410', 'logradouro': 'Rua Professora Maria Pilar Bórgia', 'complemento': '', 'bairro': 'Vila Carminha', 'localidade': 'Campinas', 'uf': 'SP', 'ibge': '3509502', 'gia': '2446', 'ddd': '19', 'siafi': '6291'}\n",
            "<class 'method'>\n",
            "Rua Professora Maria Pilar Bórgia\n"
          ],
          "name": "stdout"
        }
      ]
    },
    {
      "cell_type": "code",
      "metadata": {
        "colab": {
          "base_uri": "https://localhost:8080/"
        },
        "id": "y3BCNENODTt2",
        "outputId": "d7bdee66-5ed3-45d7-9f16-20b5ca83b0f9"
      },
      "source": [
        "import requests\n",
        "\n",
        "def retorna_dados_cep(cep):\n",
        "  response = requests.get('https://viacep.com.br/ws/{}/json' .format(cep))\n",
        "  print(response.status_code)\n",
        "  print(response.json())\n",
        "  print(type(response.json))\n",
        "  dados_cep = response.json()\n",
        "  print(dados_cep['logradouro'])\n",
        "  print(dados_cep['localidade']) \n",
        "  return dados_cep\n",
        "\n",
        "\n",
        "def retorna_response(url):\n",
        "  response = requests.get(url)\n",
        "  return response.text\n",
        "\n",
        "\n",
        "if __name__ =='__main__':\n",
        "  retorna_dados_cep('13045410')\n",
        "  response = retorna_response('https://www.alura.com.br/')\n",
        "  print(response)"
      ],
      "execution_count": null,
      "outputs": [
        {
          "output_type": "stream",
          "text": [
            "200\n",
            "{'cep': '13045-410', 'logradouro': 'Rua Professora Maria Pilar Bórgia', 'complemento': '', 'bairro': 'Vila Carminha', 'localidade': 'Campinas', 'uf': 'SP', 'ibge': '3509502', 'gia': '2446', 'ddd': '19', 'siafi': '6291'}\n",
            "<class 'method'>\n",
            "Rua Professora Maria Pilar Bórgia\n",
            "Campinas\n",
            "<!DOCTYPE html><html\n",
            "lang=\"pt-BR\"><head><meta\n",
            "charset=\"UTF-8\"><meta\n",
            "name=\"viewport\" content=\"width=device-width,initial-scale=1,minimum-scale=1.0\"><title>Alura | Cursos online de Tecnologia</title><meta\n",
            "name=\"description\" content=\"Aprenda Programação, Front-end, Data Science, UX, DevOps, Marketing, Inovação e Gestão na maior plataforma de tecnologia do Brasil\"><link\n",
            "rel=\"canonical\" href=\"https://www.alura.com.br\"><link\n",
            "href=\"https://fonts.googleapis.com/css?display=swap&family=Inter:wght@400;700;900\" rel=\"stylesheet\" crossorigin><link\n",
            "rel=\"preconnect\" href=\"https://fonts.gstatic.com/\" crossorigin><link\n",
            "rel=\"stylesheet\" href=\"/bundle,base/_reset,base/base,base/buttons,base/colors,base/titulos.1617815782.css\"><link\n",
            "rel=\"stylesheet\" href=\"/bundle,home/homeNova/career-colors,home/homeNova/careers,home/homeNova/companies,home/homeNova/features,home/homeNova/home,home/homeNova/mobile,home/homeNova/testimonies.1618246789.css\"><link\n",
            "rel=\"stylesheet\" href=\"/assets/css/block/elasticMedia.1616501197.css\"><meta\n",
            "property=\"og:locale\" content=\"pt_BR\"><meta\n",
            "property=\"og:description\" content=\"Aprenda Programação, Front-end, Data Science, UX, DevOps, Marketing, Inovação e Gestão na maior plataforma de tecnologia do Brasil\"><meta\n",
            "property=\"og:title\" content=\"Alura | Cursos online de Tecnologia\"><meta\n",
            "property=\"og:site_name\" content=\"Alura\"><meta\n",
            "property=\"og:url\" content=\"https://www.alura.com.br/\"><meta\n",
            "property=\"og:image\" content=\"https://www.alura.com.br/assets/img/alura-share.1617727198.png\"><meta\n",
            "property=\"og:image:alt\" content=\"Alura logo\"><meta\n",
            "property=\"fb:app_id\" content=\"140078819399376\"><meta\n",
            "property=\"og:type\" content=\"website\"><meta\n",
            "name=\"twitter:card\" content=\"summary_large_image\"><meta\n",
            "name=\"theme-color\" content=\"#2A7AE4\"> <script>;(function(w,d,s,l,i){w[l]=w[l]||[];w[l].push({'gtm.start':\n",
            "                    new Date().getTime(),event:'gtm.js'});var f=d.getElementsByTagName(s)[0],\n",
            "                j=d.createElement(s),dl=l!='dataLayer'?'&l='+l:'';j.async=true;j.src=\n",
            "                'https://www.googletagmanager.com/gtm.js?id='+i+dl;f.parentNode.insertBefore(j,f);\n",
            "            })(window,document,'script','dataLayer','GTM-TN542JN');</script> <script>!function (a) { var b, c = \"soclminer-jssdk\", d = a.getElementsByTagName(\"script\")[0]; a.getElementById(c) || (b = a.createElement(\"script\"), b.src = \"https://plugins.soclminer.com.br/v3/sdk/all.min.js\", d.parentNode.insertBefore(b, d)) }(document), window.soclInit = function () { socl.start(\"49a525fa-18fe-4032-ab66-f63315c9b1a6\") };</script> <script>window.setTimeout(function(){var e=/(smcid|smid_|smpid_|smpushoptin_|smtp|soclId|onsiteview_).*/g;function t(e){for(var t=e+\"=\",i=decodeURIComponent(document.cookie).split(\";\"),o=0;o<i.length;o++){for(var a=i[o];\" \"==a.charAt(0);)a=a.substring(1);if(0==a.indexOf(t))return a.substring(t.length,a.length)}return\"\"}function i(e,i,o){var a=\"\",n=new Date;n.setTime(n.getTime()+864e5*o);var r=t(e);if(\"\"==r)a=e+\"=\"+i+\";path=/;expires=\"+n.toGMTString()+\";domain=\"+/\\..*/.exec(window.location.host)[0];else{var s=JSON.parse(r),c=JSON.parse(i),m=Object.assign(s,c);a=e+\"=\"+JSON.stringify(m)+\";path=/;expires=\"+n.toGMTString()+\";domain=\"+/\\..*/.exec(window.location.host)[0]}document.cookie=a}var o={};try{for(var a=0,n=localStorage.length;a<n;a++){var r=localStorage.key(a);r.match(e)&&(o[r]=localStorage[r])}}catch(e){o={}}var s={};try{var c=document.cookie.match(/(^|;) ?(smClosedOnSite_.*?|smClickOnSite_.*?|pagesview_.*?|onsiteview_.*?|onsiteview_.*?|onsiteview_.*?|smViewOnSite|smClickOnSite|smViewedPushOptin|smClosedPushOptin|smpushoptin_.*?)=([^;]*)(;|$)/g);c&&(s=c.map(function(e){return[e.match(/(^|;) ?.*=/)[0].replace(/^; /,\"\").replace(/=$/,\"\"),e.match(/=.*/)[0].replace(/;$/,\"\").replace(/^=/,\"\")]}).reduce(function(e,t){return e[t[0]]=t[1],e},{}))}catch(e){s={}}i(\"smDataLocalStorageCart\",JSON.stringify(o),2),i(\"smDataCookieCart\",JSON.stringify(s),2),function(e){var i=JSON.parse(t(e));if(i)for(var o in i)localStorage.getItem(o)||localStorage.setItem(o,i[o])}(\"smDataLocalStorageCart\")},2e3);</script> </head><body\n",
            "class=\"\">\n",
            "<noscript><iframe\n",
            "src=\"https://www.googletagmanager.com/ns.html?id=GTM-TN542JN\" height=\"0\" width=\"0\" style=\"display:none;visibility:hidden\"></iframe></noscript> <script>!function(f,b,e,v,n,t,s) {if(f.fbq)return;n=f.fbq=function(){n.callMethod? n.callMethod.apply(n,arguments):n.queue.push(arguments)}; if(!f._fbq)f._fbq=n;n.push=n;n.loaded=!0;n.version='2.0'; n.queue=[];t=b.createElement(e);t.async=!0; t.src=v;s=b.getElementsByTagName(e)[0]; s.parentNode.insertBefore(t,s)}(window, document,'script', 'https://connect.facebook.net/en_US/fbevents.js'); fbq('init', '1067810189950610'); fbq('track', 'PageView');</script>  <script type=\"application/ld+json\">{\n",
            "      \"@context\": \"http://schema.org\",\n",
            "      \"@type\": \"BreadcrumbList\",\n",
            "\n",
            "      \"itemListElement\": [{\n",
            "        \"@type\": \"ListItem\",\n",
            "        \"position\": 1,\n",
            "        \"item\": {\n",
            "          \"@id\": \"https://www.alura.com.br\",\n",
            "          \"name\": \"Alura\"\n",
            "        }\n",
            "      }   \n",
            "            ]\n",
            "    }</script>  <script type=\"application/ld+json\">{\n",
            "    \"@context\": \"https://schema.org\",\n",
            "    \"@type\": \"WebSite\",\n",
            "    \"url\": \"https://www.alura.com.br\",\n",
            "    \"potentialAction\": {\n",
            "      \"@type\": \"SearchAction\",\n",
            "      \"target\": \"http://www.alura.com.br/busca?query={query}\",\n",
            "      \"query-input\": \"required name=query\"\n",
            "    }\n",
            "}</script> <script>window.dataLayer.push({\n",
            "                event: 'view_item_list',\n",
            "                value: 3540.00,\n",
            "                items: [{\"id\":\"formacao-android\",\"google_business_vertical\":\"education\"},{\"id\":\"formacao-arquiteto-android\",\"google_business_vertical\":\"education\"},{\"id\":\"formacao-flutter\",\"google_business_vertical\":\"education\"},{\"id\":\"formacao-ios\",\"google_business_vertical\":\"education\"},{\"id\":\"formacao-xamarin\",\"google_business_vertical\":\"education\"},{\"id\":\"formacao-testes-automatizados-android\",\"google_business_vertical\":\"education\"},{\"id\":\"formacao-arquiteto-php\",\"google_business_vertical\":\"education\"},{\"id\":\"formacao-arquitetura-design-projetos-java\",\"google_business_vertical\":\"education\"},{\"id\":\"formacao-dotnet\",\"google_business_vertical\":\"education\"},{\"id\":\"formacao-c-sharp-orientacao-objetos\",\"google_business_vertical\":\"education\"},{\"id\":\"formacao-certificacao-csharp\",\"google_business_vertical\":\"education\"},{\"id\":\"formacao-certificacao-java\",\"google_business_vertical\":\"education\"},{\"id\":\"formacao-clojure\",\"google_business_vertical\":\"education\"},{\"id\":\"formacao-django\",\"google_business_vertical\":\"education\"},{\"id\":\"formacao-programacao\",\"google_business_vertical\":\"education\"},{\"id\":\"formacao-integracao-aplicacoes-java\",\"google_business_vertical\":\"education\"},{\"id\":\"formacao-java\",\"google_business_vertical\":\"education\"},{\"id\":\"formacao-java-ee\",\"google_business_vertical\":\"education\"},{\"id\":\"formacao-jogos-unity\",\"google_business_vertical\":\"education\"},{\"id\":\"formacao-kotlin\",\"google_business_vertical\":\"education\"},{\"id\":\"formacao-linguagem-c-plus-plus\",\"google_business_vertical\":\"education\"},{\"id\":\"formacao-node-js-12\",\"google_business_vertical\":\"education\"},{\"id\":\"formacao-desenvolvedor-php\",\"google_business_vertical\":\"education\"},{\"id\":\"formacao-Python-linguagem\",\"google_business_vertical\":\"education\"},{\"id\":\"formacao-spring-framework\",\"google_business_vertical\":\"education\"},{\"id\":\"formacao-vb-net\",\"google_business_vertical\":\"education\"},{\"id\":\"formacao-windows-forms-csharp\",\"google_business_vertical\":\"education\"},{\"id\":\"formacao-wordpress\",\"google_business_vertical\":\"education\"},{\"id\":\"formacao-acessibilidade-web\",\"google_business_vertical\":\"education\"},{\"id\":\"formacao-angular\",\"google_business_vertical\":\"education\"},{\"id\":\"formacao-front-end\",\"google_business_vertical\":\"education\"},{\"id\":\"formacao-html-e-css\",\"google_business_vertical\":\"education\"},{\"id\":\"formacao-react-js\",\"google_business_vertical\":\"education\"},{\"id\":\"formacao-vuejs\",\"google_business_vertical\":\"education\"},{\"id\":\"formacao-redes\",\"google_business_vertical\":\"education\"},{\"id\":\"formacao-amazon-web-services\",\"google_business_vertical\":\"education\"},{\"id\":\"formacao-kafka\",\"google_business_vertical\":\"education\"},{\"id\":\"formacao-aws-certified-cloud-practitioner\",\"google_business_vertical\":\"education\"},{\"id\":\"formacao-aws-certified-solutions-architect-associate\",\"google_business_vertical\":\"education\"},{\"id\":\"formacao-docker-dca\",\"google_business_vertical\":\"education\"},{\"id\":\"formacao-certificacao-lpi-linux-essentials\",\"google_business_vertical\":\"education\"},{\"id\":\"formacao-devops\",\"google_business_vertical\":\"education\"},{\"id\":\"formacao-internet-das-coisas-iot\",\"google_business_vertical\":\"education\"},{\"id\":\"formacao-microcontroladores-eletronica-aplicada\",\"google_business_vertical\":\"education\"},{\"id\":\"formacao-owasp\",\"google_business_vertical\":\"education\"},{\"id\":\"formacao-raspberry-pi\",\"google_business_vertical\":\"education\"},{\"id\":\"formacao-seguranca-de-aplicacoes\",\"google_business_vertical\":\"education\"},{\"id\":\"formacao-ui-adobe-xd\",\"google_business_vertical\":\"education\"},{\"id\":\"formacao-blender\",\"google_business_vertical\":\"education\"},{\"id\":\"formacao-desenhohumano-photoshop\",\"google_business_vertical\":\"education\"},{\"id\":\"formacao-design-de-jogos\",\"google_business_vertical\":\"education\"},{\"id\":\"formacao-design-grafico\",\"google_business_vertical\":\"education\"},{\"id\":\"formacao-editor-video\",\"google_business_vertical\":\"education\"},{\"id\":\"formacao-estatistica-para-ux-research\",\"google_business_vertical\":\"education\"},{\"id\":\"formacao-figma\",\"google_business_vertical\":\"education\"},{\"id\":\"formacao-fotografia\",\"google_business_vertical\":\"education\"},{\"id\":\"formacao-hq-narrativa-sequencial\",\"google_business_vertical\":\"education\"},{\"id\":\"formacao-identidadevisual\",\"google_business_vertical\":\"education\"},{\"id\":\"formacao-identidade-visual-softwares-free\",\"google_business_vertical\":\"education\"},{\"id\":\"formacao-ilustra-publicitaria\",\"google_business_vertical\":\"education\"},{\"id\":\"formacao-producao-indesign\",\"google_business_vertical\":\"education\"},{\"id\":\"formacao-motion-design\",\"google_business_vertical\":\"education\"},{\"id\":\"formacao-osteologia\",\"google_business_vertical\":\"education\"},{\"id\":\"formacao-ux-research-qualitativo\",\"google_business_vertical\":\"education\"},{\"id\":\"formacao-pinturadigital-photoshop\",\"google_business_vertical\":\"education\"},{\"id\":\"formacao-producao-com-photoshop\",\"google_business_vertical\":\"education\"},{\"id\":\"formacao-procucao-premiere\",\"google_business_vertical\":\"education\"},{\"id\":\"formacao-grafica-illustrator\",\"google_business_vertical\":\"education\"},{\"id\":\"formacao-props-para-games\",\"google_business_vertical\":\"education\"},{\"id\":\"formacao-ui-sketch\",\"google_business_vertical\":\"education\"},{\"id\":\"formacao-tratamento-de-imagem\",\"google_business_vertical\":\"education\"},{\"id\":\"formacao-unreal-engine\",\"google_business_vertical\":\"education\"},{\"id\":\"formacao-ux\",\"google_business_vertical\":\"education\"},{\"id\":\"formacao-ux-research\",\"google_business_vertical\":\"education\"},{\"id\":\"formacao-business-intelligence-data-warehouse-pentaho\",\"google_business_vertical\":\"education\"},{\"id\":\"formacao-business-intelligence-data-warehouse\",\"google_business_vertical\":\"education\"},{\"id\":\"formacao-data-science\",\"google_business_vertical\":\"education\"},{\"id\":\"formacao-datomic\",\"google_business_vertical\":\"education\"},{\"id\":\"formacao-estatistica-python\",\"google_business_vertical\":\"education\"},{\"id\":\"formacao-excel-vba\",\"google_business_vertical\":\"education\"},{\"id\":\"formacao-machine-learning\",\"google_business_vertical\":\"education\"},{\"id\":\"formacao-machine-learning-avancada\",\"google_business_vertical\":\"education\"},{\"id\":\"formacao-machine-learning-negocios-digitais\",\"google_business_vertical\":\"education\"},{\"id\":\"formacao-matematica-programacao-data-science\",\"google_business_vertical\":\"education\"},{\"id\":\"formacao-modelagem-dados\",\"google_business_vertical\":\"education\"},{\"id\":\"formacao-power-bi\",\"google_business_vertical\":\"education\"},{\"id\":\"formacao-python-data-science\",\"google_business_vertical\":\"education\"},{\"id\":\"formacao-oracle-database-sql-plsql\",\"google_business_vertical\":\"education\"},{\"id\":\"formacao-microsoft-sql-server-2017\",\"google_business_vertical\":\"education\"},{\"id\":\"formacao-oracle-mysql\",\"google_business_vertical\":\"education\"},{\"id\":\"formacao-postgresql\",\"google_business_vertical\":\"education\"},{\"id\":\"formacao-business-agility\",\"google_business_vertical\":\"education\"},{\"id\":\"formacao-certificacao-cobit-5\",\"google_business_vertical\":\"education\"},{\"id\":\"formacao-certificacao-itil-foundation\",\"google_business_vertical\":\"education\"},{\"id\":\"formacao-certificacao-pmp-capm-pmi\",\"google_business_vertical\":\"education\"},{\"id\":\"formacao-comunicacao\",\"google_business_vertical\":\"education\"},{\"id\":\"formacao-curriculos\",\"google_business_vertical\":\"education\"},{\"id\":\"formacao-desenvolvimento-pessoal\",\"google_business_vertical\":\"education\"},{\"id\":\"formacao-digital-e-agile-thinking\",\"google_business_vertical\":\"education\"},{\"id\":\"formacao-e-commerce\",\"google_business_vertical\":\"education\"},{\"id\":\"formacao-empreendedorismo-digital\",\"google_business_vertical\":\"education\"},{\"id\":\"formacao-gerente-agil\",\"google_business_vertical\":\"education\"},{\"id\":\"formacao-marketing-digital\",\"google_business_vertical\":\"education\"},{\"id\":\"formacao-minha-carreira\",\"google_business_vertical\":\"education\"},{\"id\":\"formacao-minha-primeira-lideranca\",\"google_business_vertical\":\"education\"},{\"id\":\"formacao-produtividade\",\"google_business_vertical\":\"education\"},{\"id\":\"formacao-rh-4-0-digital-agile-transforming-business-partner\",\"google_business_vertical\":\"education\"},{\"id\":\"formacao-seo\",\"google_business_vertical\":\"education\"},{\"id\":\"formacao-social-media\",\"google_business_vertical\":\"education\"},{\"id\":\"formacao-vendas-de-alta-performance\",\"google_business_vertical\":\"education\"}]});</script> <div\n",
            "class=\"home\"><div\n",
            "class=\"home__header\"><link\n",
            "rel=\"stylesheet\" href=\"/assets/css/block/header.1617922988.css\"><link\n",
            "rel=\"stylesheet\" href=\"/assets/css/block/dia-do-programador.1617916014.css\"><link\n",
            "rel=\"stylesheet\" href=\"/assets/css/block/countdown.1616501197.css\"><link\n",
            "rel=\"stylesheet\" href=\"/assets/css/block/headerHome.1617923336.css\"><style>@media (min-width: 1100px) {\n",
            "\t\t\t\t.header-navegacao-cursos-lista {\n",
            "\t\t\t\t\tdisplay: none;\n",
            "\t\t\t\t}\n",
            "\t\t\t\t.header__nav {\n",
            "\t\t\t\t\tborder: none;\n",
            "\t\t\t\t\tmargin-top:10px;\n",
            "\t\t\t\t}\n",
            "\t\t\t\t.header {\n",
            "\t\t\t\t\tpadding-bottom: 0;\n",
            "\t\t\t\t}\n",
            "\t\t\t}</style><header\n",
            "class=\"header--home \"><div\n",
            "class=\"container\"><nav\n",
            "class=\"header__nav--home\">\n",
            "<a\n",
            "href=\"/\" class=\"header__nav__link--home header__nav__link--logo\">\n",
            "<img\n",
            "class=\"header__nav__link__logo\" alt=\"Alura\"\n",
            "src=\"/assets/img/home/alura-logo.1616501197.svg\">\n",
            "</a><div\n",
            "class=\"header__nav__wrapper--home header__nav__wrapper--ctas--home\">\n",
            "<a\n",
            "href=\"https://cursos.alura.com.br/loginForm?urlAfterLogin=https://cursos.alura.com.br/dashboard\" class=\"header__nav__link--home header__nav__link--entrar--home\">Entrar</a>\n",
            "<a\n",
            "href=\"/planos-cursos-online\" class=\"header__nav__link--home header__nav__link--cta--home\">Matricule-se</a></div><div\n",
            "class=\"header-barraBusca header-barraBusca--home\"><form\n",
            "action=\"/busca\" class=\"header-barraBusca-form\">\n",
            "<label\n",
            "for=\"header-barraBusca-form-campoBusca\">Qual curso procura?</label>\n",
            "<input\n",
            "type=\"search\" id=\"header-barraBusca-form-campoBusca\" name=\"query\"\n",
            "class=\"header-barraBusca-form-serch-input header-barra-busca--home\" placeholder=\"O que você quer aprender?\">\n",
            "<button\n",
            "class=\"header-barraBusca-form-submit\" type=\"submit\"></button></form></div><div\n",
            "class=\"header__nav__wrapper--home header__nav__wrapper--menu header__nav__wrapper--menu--home\">\n",
            "<a\n",
            "href=\"/formacoes\" class=\"nav__courses__link--home header__menu-options--home\">\n",
            "<span>\n",
            "Nossas\n",
            "</span>\n",
            "<span>\n",
            "Formações\n",
            "</span>\n",
            "</a>\n",
            "<a\n",
            "href=\"/empresas\" class=\"nav__courses__link--home header__menu-options--home\">\n",
            "<span>\n",
            "Para\n",
            "</span>\n",
            "<span>\n",
            "Empresas\n",
            "</span>\n",
            "</a>\n",
            "<a\n",
            "href=\"/dev-em-t\" class=\"nav__courses__link--home header__menu-options--home\">\n",
            "<span>\n",
            "Dev\n",
            "</span>\n",
            "<span>\n",
            "em  &lt;T&gt;\n",
            "</span>\n",
            "</a></div><ul\n",
            "class=\"header-navegacao-cursos-lista container header__menu-allcourses--home\"><li\n",
            "class=\"header-cursos-lista-categoria \">\n",
            "<a\n",
            "href=\"/cursos-online-mobile\" class=\"unlinkify\">\n",
            "<svg\n",
            "class=\"header-cursos-lista-categoria--icon\" style=\"fill: #ffffff\" xmlns:xlink=\"http://www.w3.org/1999/xlink\">\n",
            "<use\n",
            "xlink:href=\"/svg,1617662393/categorias#icon-categorias-mobile\"/>\n",
            "</svg><div\n",
            "class=\"header-lista-categoria-nome--home\">\n",
            "<span>Mobile</span></div>\n",
            "</a></li><li\n",
            "class=\"header-cursos-lista-categoria \">\n",
            "<a\n",
            "href=\"/cursos-online-programacao\" class=\"unlinkify\">\n",
            "<svg\n",
            "class=\"header-cursos-lista-categoria--icon\" style=\"fill: #ffffff\" xmlns:xlink=\"http://www.w3.org/1999/xlink\">\n",
            "<use\n",
            "xlink:href=\"/svg,1617662393/categorias#icon-categorias-programacao\"/>\n",
            "</svg><div\n",
            "class=\"header-lista-categoria-nome--home\">\n",
            "<span>Programação</span></div>\n",
            "</a></li><li\n",
            "class=\"header-cursos-lista-categoria \">\n",
            "<a\n",
            "href=\"/cursos-online-front-end\" class=\"unlinkify\">\n",
            "<svg\n",
            "class=\"header-cursos-lista-categoria--icon\" style=\"fill: #ffffff\" xmlns:xlink=\"http://www.w3.org/1999/xlink\">\n",
            "<use\n",
            "xlink:href=\"/svg,1617662393/categorias#icon-categorias-front-end\"/>\n",
            "</svg><div\n",
            "class=\"header-lista-categoria-nome--home\">\n",
            "<span>Front-end</span></div>\n",
            "</a></li><li\n",
            "class=\"header-cursos-lista-categoria \">\n",
            "<a\n",
            "href=\"/cursos-online-devops\" class=\"unlinkify\">\n",
            "<svg\n",
            "class=\"header-cursos-lista-categoria--icon\" style=\"fill: #ffffff\" xmlns:xlink=\"http://www.w3.org/1999/xlink\">\n",
            "<use\n",
            "xlink:href=\"/svg,1617662393/categorias#icon-categorias-devops\"/>\n",
            "</svg><div\n",
            "class=\"header-lista-categoria-nome--home\">\n",
            "<span>DevOps</span></div>\n",
            "</a></li><li\n",
            "class=\"header-cursos-lista-categoria \">\n",
            "<a\n",
            "href=\"/cursos-online-design-ux\" class=\"unlinkify\">\n",
            "<svg\n",
            "class=\"header-cursos-lista-categoria--icon\" style=\"fill: #ffffff\" xmlns:xlink=\"http://www.w3.org/1999/xlink\">\n",
            "<use\n",
            "xlink:href=\"/svg,1617662393/categorias#icon-categorias-design-ux\"/>\n",
            "</svg><div\n",
            "class=\"header-lista-categoria-nome--home\">\n",
            "<span>Design & UX</span></div>\n",
            "</a></li><li\n",
            "class=\"header-cursos-lista-categoria \">\n",
            "<a\n",
            "href=\"/cursos-online-data-science\" class=\"unlinkify\">\n",
            "<svg\n",
            "class=\"header-cursos-lista-categoria--icon\" style=\"fill: #ffffff\" xmlns:xlink=\"http://www.w3.org/1999/xlink\">\n",
            "<use\n",
            "xlink:href=\"/svg,1617662393/categorias#icon-categorias-data-science\"/>\n",
            "</svg><div\n",
            "class=\"header-lista-categoria-nome--home\">\n",
            "<span>Data Science</span></div>\n",
            "</a></li><li\n",
            "class=\"header-cursos-lista-categoria \">\n",
            "<a\n",
            "href=\"/cursos-online-inovacao-gestao\" class=\"unlinkify\">\n",
            "<svg\n",
            "class=\"header-cursos-lista-categoria--icon\" style=\"fill: #ffffff\" xmlns:xlink=\"http://www.w3.org/1999/xlink\">\n",
            "<use\n",
            "xlink:href=\"/svg,1617662393/categorias#icon-categorias-inovacao-gestao\"/>\n",
            "</svg><div\n",
            "class=\"header-lista-categoria-nome--home\">\n",
            "<span>Inovação & Gestão</span></div>\n",
            "</a></li></ul></nav></div></header><div\n",
            "class=\"container\"><div\n",
            "class=\"home--background\"><div\n",
            "class=\"home__titles\"><h1 class=\"home__titles__main-title\">Mergulhe em Tecnologia!</h1><p\n",
            "class=\"home__titles__sub-title\">Você vai estudar, praticar, discutir e se aprofundar em uma plataforma que respira tecnologia.</p></div></div><link\n",
            "rel=\"stylesheet\" href=\"/assets/css/block/categories.1617999638.css\"><link\n",
            "rel=\"stylesheet\" href=\"/assets/css/block/navCategoriasHome.1617924382.css\"><link\n",
            "rel=\"stylesheet\" href=\"/assets/css/block/navCategoriasHome.1617924382.css\"> <script>window.dataLayer.push({\n",
            "                event: 'view_item_list',\n",
            "                value: 3540.00,\n",
            "                items: [{\"id\":\"cursos-online-mobile\",\"google_business_vertical\":\"education\"},{\"id\":\"cursos-online-programacao\",\"google_business_vertical\":\"education\"},{\"id\":\"cursos-online-front-end\",\"google_business_vertical\":\"education\"},{\"id\":\"cursos-online-devops\",\"google_business_vertical\":\"education\"},{\"id\":\"cursos-online-design-ux\",\"google_business_vertical\":\"education\"},{\"id\":\"cursos-online-data-science\",\"google_business_vertical\":\"education\"},{\"id\":\"cursos-online-inovacao-gestao\",\"google_business_vertical\":\"education\"}]});</script> <nav\n",
            "class=\"categories--home\"><div\n",
            "class=\"categories__elements--home\"><div\n",
            "class=\"categories__wrapper__links--home --mobile\" style=\"--color-var: #ffba05\">\n",
            "<a\n",
            "class=\"categories__link--home\" href=\"/cursos-online-mobile\"><div\n",
            "class=\"categories__link-wrapper--home\"><div\n",
            "class=\"categories__svg-wrapper--home\" style=\"background:#ffba0552;\">\n",
            "<svg\n",
            "class=\"pagina-categoria__svg--home categories__svg--home\" style=\"fill:#ffba05\" xmlns:xlink=\"http://www.w3.org/1999/xlink\">\n",
            "<use\n",
            "xlink:href=\"/svg,1617662393/categorias#icon-categorias-mobile\"/>\n",
            "</svg></div><div\n",
            "class=\"categories__texts\" style=\"color:#ffba05;\">\n",
            "<span\n",
            "class=\"categories__link__text\">Escola</span><h4 class=\"categories__link__category-name\">Mobile</h4></div></div>\n",
            "</a><nav\n",
            "class=\"categories__calls--home\">\n",
            "<a\n",
            "href=\"/cursos-online-mobile/multiplataforma\"\n",
            "class=\"categories__calls__description--home\">Flutter, React Native</a><span\n",
            "class=\"categories__calls__description-separator\">, </span>\n",
            "<a\n",
            "href=\"/cursos-online-mobile/ios\"\n",
            "class=\"categories__calls__description--home\">iOS e Swift</a><span\n",
            "class=\"categories__calls__description-separator\">, </span>\n",
            "<a\n",
            "href=\"/cursos-online-mobile/android\"\n",
            "class=\"categories__calls__description--home\">Android, Kotlin</a><span\n",
            "class=\"categories__calls__description-separator\">, </span>\n",
            "<a\n",
            "href=\"/cursos-online-mobile/jogos\"\n",
            "class=\"categories__calls__description--home\">Jogos</a><span\n",
            "class=\"categories__calls__description-separator\"></span>\n",
            "<a\n",
            "href=\"/cursos-online-mobile\"\n",
            "class=\"categories__calls__link-see-more--home\">e mais...</a></nav></div><div\n",
            "class=\"categories__wrapper__links--home --programacao\" style=\"--color-var: #00c86f\">\n",
            "<a\n",
            "class=\"categories__link--home\" href=\"/cursos-online-programacao\"><div\n",
            "class=\"categories__link-wrapper--home\"><div\n",
            "class=\"categories__svg-wrapper--home\" style=\"background:#00c86f52;\">\n",
            "<svg\n",
            "class=\"pagina-categoria__svg--home categories__svg--home\" style=\"fill:#00c86f\" xmlns:xlink=\"http://www.w3.org/1999/xlink\">\n",
            "<use\n",
            "xlink:href=\"/svg,1617662393/categorias#icon-categorias-programacao\"/>\n",
            "</svg></div><div\n",
            "class=\"categories__texts\" style=\"color:#00c86f;\">\n",
            "<span\n",
            "class=\"categories__link__text\">Escola</span><h4 class=\"categories__link__category-name\">Programação</h4></div></div>\n",
            "</a><nav\n",
            "class=\"categories__calls--home\">\n",
            "<a\n",
            "href=\"/cursos-online-programacao/logica\"\n",
            "class=\"categories__calls__description--home\">Lógica</a><span\n",
            "class=\"categories__calls__description-separator\">, </span>\n",
            "<a\n",
            "href=\"/cursos-online-programacao/python\"\n",
            "class=\"categories__calls__description--home\">Python</a><span\n",
            "class=\"categories__calls__description-separator\">, </span>\n",
            "<a\n",
            "href=\"/cursos-online-programacao/php\"\n",
            "class=\"categories__calls__description--home\">PHP</a><span\n",
            "class=\"categories__calls__description-separator\">, </span>\n",
            "<a\n",
            "href=\"/cursos-online-programacao/java\"\n",
            "class=\"categories__calls__description--home\">Java</a><span\n",
            "class=\"categories__calls__description-separator\">, </span>\n",
            "<a\n",
            "href=\"/cursos-online-programacao/dotnet\"\n",
            "class=\"categories__calls__description--home\">.NET</a><span\n",
            "class=\"categories__calls__description-separator\">, </span>\n",
            "<a\n",
            "href=\"/cursos-online-programacao/node-js\"\n",
            "class=\"categories__calls__description--home\">Node JS</a><span\n",
            "class=\"categories__calls__description-separator\">, </span>\n",
            "<a\n",
            "href=\"/cursos-online-programacao/linguagem-c\"\n",
            "class=\"categories__calls__description--home\">C</a><span\n",
            "class=\"categories__calls__description-separator\">, </span>\n",
            "<a\n",
            "href=\"/cursos-online-programacao/computacao\"\n",
            "class=\"categories__calls__description--home\">Computação</a><span\n",
            "class=\"categories__calls__description-separator\">, </span>\n",
            "<a\n",
            "href=\"/cursos-online-programacao/jogos\"\n",
            "class=\"categories__calls__description--home\">Jogos</a><span\n",
            "class=\"categories__calls__description-separator\"></span>\n",
            "<a\n",
            "href=\"/cursos-online-programacao\"\n",
            "class=\"categories__calls__link-see-more--home\">e mais...</a></nav></div><div\n",
            "class=\"categories__wrapper__links--home --front-end\" style=\"--color-var: #6bd1ff\">\n",
            "<a\n",
            "class=\"categories__link--home\" href=\"/cursos-online-front-end\"><div\n",
            "class=\"categories__link-wrapper--home\"><div\n",
            "class=\"categories__svg-wrapper--home\" style=\"background:#6bd1ff52;\">\n",
            "<svg\n",
            "class=\"pagina-categoria__svg--home categories__svg--home\" style=\"fill:#6bd1ff\" xmlns:xlink=\"http://www.w3.org/1999/xlink\">\n",
            "<use\n",
            "xlink:href=\"/svg,1617662393/categorias#icon-categorias-front-end\"/>\n",
            "</svg></div><div\n",
            "class=\"categories__texts\" style=\"color:#6bd1ff;\">\n",
            "<span\n",
            "class=\"categories__link__text\">Escola</span><h4 class=\"categories__link__category-name\">Front-end</h4></div></div>\n",
            "</a><nav\n",
            "class=\"categories__calls--home\">\n",
            "<a\n",
            "href=\"/cursos-online-front-end/front-end\"\n",
            "class=\"categories__calls__description--home\">HTML, CSS</a><span\n",
            "class=\"categories__calls__description-separator\">, </span>\n",
            "<a\n",
            "href=\"/cursos-online-front-end/reactjs\"\n",
            "class=\"categories__calls__description--home\">React</a><span\n",
            "class=\"categories__calls__description-separator\">, </span>\n",
            "<a\n",
            "href=\"/cursos-online-front-end/angular\"\n",
            "class=\"categories__calls__description--home\">Angular</a><span\n",
            "class=\"categories__calls__description-separator\">, </span>\n",
            "<a\n",
            "href=\"/cursos-online-front-end/javascript\"\n",
            "class=\"categories__calls__description--home\">JavaScript</a><span\n",
            "class=\"categories__calls__description-separator\">, </span>\n",
            "<a\n",
            "href=\"/cursos-online-front-end/jquery\"\n",
            "class=\"categories__calls__description--home\">jQuery</a><span\n",
            "class=\"categories__calls__description-separator\"></span>\n",
            "<a\n",
            "href=\"/cursos-online-front-end\"\n",
            "class=\"categories__calls__link-see-more--home\">e mais...</a></nav></div><div\n",
            "class=\"categories__wrapper__links--home --devops\" style=\"--color-var: #f16165\">\n",
            "<a\n",
            "class=\"categories__link--home\" href=\"/cursos-online-devops\"><div\n",
            "class=\"categories__link-wrapper--home\"><div\n",
            "class=\"categories__svg-wrapper--home\" style=\"background:#f1616552;\">\n",
            "<svg\n",
            "class=\"pagina-categoria__svg--home categories__svg--home\" style=\"fill:#f16165\" xmlns:xlink=\"http://www.w3.org/1999/xlink\">\n",
            "<use\n",
            "xlink:href=\"/svg,1617662393/categorias#icon-categorias-devops\"/>\n",
            "</svg></div><div\n",
            "class=\"categories__texts\" style=\"color:#f16165;\">\n",
            "<span\n",
            "class=\"categories__link__text\">Escola</span><h4 class=\"categories__link__category-name\">DevOps</h4></div></div>\n",
            "</a><nav\n",
            "class=\"categories__calls--home\">\n",
            "<a\n",
            "href=\"/cursos-online-devops/seguranca\"\n",
            "class=\"categories__calls__description--home\">Segurança</a><span\n",
            "class=\"categories__calls__description-separator\">, </span>\n",
            "<a\n",
            "href=\"/cursos-online-devops/cloud-computing\"\n",
            "class=\"categories__calls__description--home\">Cloud</a><span\n",
            "class=\"categories__calls__description-separator\">, </span>\n",
            "<a\n",
            "href=\"/cursos-online-devops/linux-comandos-e-processos\"\n",
            "class=\"categories__calls__description--home\">Linux</a><span\n",
            "class=\"categories__calls__description-separator\">, </span>\n",
            "<a\n",
            "href=\"/cursos-online-devops/internet-das-coisas\"\n",
            "class=\"categories__calls__description--home\">IoT</a><span\n",
            "class=\"categories__calls__description-separator\">, </span>\n",
            "<a\n",
            "href=\"/cursos-online-devops/redes\"\n",
            "class=\"categories__calls__description--home\">Redes</a><span\n",
            "class=\"categories__calls__description-separator\"></span>\n",
            "<a\n",
            "href=\"/cursos-online-devops\"\n",
            "class=\"categories__calls__link-see-more--home\">e mais...</a></nav></div><div\n",
            "class=\"categories__wrapper__links--home --design-ux\" style=\"--color-var: #dc6ebe\">\n",
            "<a\n",
            "class=\"categories__link--home\" href=\"/cursos-online-design-ux\"><div\n",
            "class=\"categories__link-wrapper--home\"><div\n",
            "class=\"categories__svg-wrapper--home\" style=\"background:#dc6ebe52;\">\n",
            "<svg\n",
            "class=\"pagina-categoria__svg--home categories__svg--home\" style=\"fill:#dc6ebe\" xmlns:xlink=\"http://www.w3.org/1999/xlink\">\n",
            "<use\n",
            "xlink:href=\"/svg,1617662393/categorias#icon-categorias-design-ux\"/>\n",
            "</svg></div><div\n",
            "class=\"categories__texts\" style=\"color:#dc6ebe;\">\n",
            "<span\n",
            "class=\"categories__link__text\">Escola</span><h4 class=\"categories__link__category-name\">Design & UX</h4></div></div>\n",
            "</a><nav\n",
            "class=\"categories__calls--home\">\n",
            "<a\n",
            "href=\"/cursos-online-design-ux/wwww\"\n",
            "class=\"categories__calls__description--home\">Photoshop e Illustrator</a><span\n",
            "class=\"categories__calls__description-separator\">, </span>\n",
            "<a\n",
            "href=\"/cursos-online-design-ux/ux\"\n",
            "class=\"categories__calls__description--home\">Usabilidade e UX</a><span\n",
            "class=\"categories__calls__description-separator\">, </span>\n",
            "<a\n",
            "href=\"/cursos-online-design-ux/video\"\n",
            "class=\"categories__calls__description--home\">Vídeo e Motion</a><span\n",
            "class=\"categories__calls__description-separator\">, </span>\n",
            "<a\n",
            "href=\"/cursos-online-design-ux/3d\"\n",
            "class=\"categories__calls__description--home\">3D</a><span\n",
            "class=\"categories__calls__description-separator\"></span>\n",
            "<a\n",
            "href=\"/cursos-online-design-ux\"\n",
            "class=\"categories__calls__link-see-more--home\">e mais...</a></nav></div><div\n",
            "class=\"categories__wrapper__links--home --data-science\" style=\"--color-var: #9cd33b\">\n",
            "<a\n",
            "class=\"categories__link--home\" href=\"/cursos-online-data-science\"><div\n",
            "class=\"categories__link-wrapper--home\"><div\n",
            "class=\"categories__svg-wrapper--home\" style=\"background:#9cd33b52;\">\n",
            "<svg\n",
            "class=\"pagina-categoria__svg--home categories__svg--home\" style=\"fill:#9cd33b\" xmlns:xlink=\"http://www.w3.org/1999/xlink\">\n",
            "<use\n",
            "xlink:href=\"/svg,1617662393/categorias#icon-categorias-data-science\"/>\n",
            "</svg></div><div\n",
            "class=\"categories__texts\" style=\"color:#9cd33b;\">\n",
            "<span\n",
            "class=\"categories__link__text\">Escola</span><h4 class=\"categories__link__category-name\">Data Science</h4></div></div>\n",
            "</a><nav\n",
            "class=\"categories__calls--home\">\n",
            "<a\n",
            "href=\"/cursos-online-data-science/sql\"\n",
            "class=\"categories__calls__description--home\">SQL e Banco de Dados</a><span\n",
            "class=\"categories__calls__description-separator\">, </span>\n",
            "<a\n",
            "href=\"/cursos-online-data-science/nosql\"\n",
            "class=\"categories__calls__description--home\">NoSQL</a><span\n",
            "class=\"categories__calls__description-separator\">, </span>\n",
            "<a\n",
            "href=\"/cursos-online-data-science/data-science\"\n",
            "class=\"categories__calls__description--home\">Data Science</a><span\n",
            "class=\"categories__calls__description-separator\">, </span>\n",
            "<a\n",
            "href=\"/cursos-online-data-science/machine-learning\"\n",
            "class=\"categories__calls__description--home\">Machine Learning</a><span\n",
            "class=\"categories__calls__description-separator\">, </span>\n",
            "<a\n",
            "href=\"/cursos-online-data-science/business-intelligence\"\n",
            "class=\"categories__calls__description--home\">BI</a><span\n",
            "class=\"categories__calls__description-separator\">, </span>\n",
            "<a\n",
            "href=\"/cursos-online-data-science/estatistica\"\n",
            "class=\"categories__calls__description--home\">Estatística</a><span\n",
            "class=\"categories__calls__description-separator\">, </span>\n",
            "<a\n",
            "href=\"/cursos-online-data-science/excel\"\n",
            "class=\"categories__calls__description--home\">Excel</a><span\n",
            "class=\"categories__calls__description-separator\"></span>\n",
            "<a\n",
            "href=\"/cursos-online-data-science\"\n",
            "class=\"categories__calls__link-see-more--home\">e mais...</a></nav></div><div\n",
            "class=\"categories__wrapper__links--home --inovacao-gestao\" style=\"--color-var: #ff8c2a\">\n",
            "<a\n",
            "class=\"categories__link--home\" href=\"/cursos-online-inovacao-gestao\"><div\n",
            "class=\"categories__link-wrapper--home\"><div\n",
            "class=\"categories__svg-wrapper--home\" style=\"background:#ff8c2a52;\">\n",
            "<svg\n",
            "class=\"pagina-categoria__svg--home categories__svg--home\" style=\"fill:#ff8c2a\" xmlns:xlink=\"http://www.w3.org/1999/xlink\">\n",
            "<use\n",
            "xlink:href=\"/svg,1617662393/categorias#icon-categorias-inovacao-gestao\"/>\n",
            "</svg></div><div\n",
            "class=\"categories__texts\" style=\"color:#ff8c2a;\">\n",
            "<span\n",
            "class=\"categories__link__text\">Escola</span><h4 class=\"categories__link__category-name\">Inovação & Gestão</h4></div></div>\n",
            "</a><nav\n",
            "class=\"categories__calls--home\">\n",
            "<a\n",
            "href=\"/cursos-online-inovacao-gestao/agilidade\"\n",
            "class=\"categories__calls__description--home\">Métodos Ágeis</a><span\n",
            "class=\"categories__calls__description-separator\">, </span>\n",
            "<a\n",
            "href=\"/cursos-online-inovacao-gestao/softskills-carreira\"\n",
            "class=\"categories__calls__description--home\">Softskills</a><span\n",
            "class=\"categories__calls__description-separator\">, </span>\n",
            "<a\n",
            "href=\"/cursos-online-inovacao-gestao/gestao-corporativa\"\n",
            "class=\"categories__calls__description--home\">Liderança e Gestão</a><span\n",
            "class=\"categories__calls__description-separator\">, </span>\n",
            "<a\n",
            "href=\"/cursos-online-inovacao-gestao/startup-empreendedorismo\"\n",
            "class=\"categories__calls__description--home\">Startups</a><span\n",
            "class=\"categories__calls__description-separator\">, </span>\n",
            "<a\n",
            "href=\"/cursos-online-inovacao-gestao/vendas\"\n",
            "class=\"categories__calls__description--home\">Vendas</a><span\n",
            "class=\"categories__calls__description-separator\"></span>\n",
            "<a\n",
            "href=\"/cursos-online-inovacao-gestao\"\n",
            "class=\"categories__calls__link-see-more--home\">e mais...</a></nav></div></div></nav></div></div></div><main\n",
            "class=\"home__main-content\"><section\n",
            "class=\"features container\"><aside\n",
            "class=\"features__video\"><div\n",
            "class=\"features__video-wrapper\"><div\n",
            "class=\"home-diferenciais-video\"><div\n",
            "class=\"home-diferenciais-video-wrapper\"><div\n",
            "class=\"elasticMedia-container\" data-src=\"//player.vimeo.com/video/434809925\">\n",
            "<noscript>\n",
            "<iframe\n",
            "class=\"elasticMedia\" src=\"//player.vimeo.com/video/434809925\" frameborder=\"0\" webkitallowfullscreen\n",
            "mozallowfullscreen allowfullscreen></iframe>\n",
            "</noscript></div></div></div></div>\n",
            "<a\n",
            "class=\"features__video__link features--desktop\" href=\"/como-funciona\">Veja como funciona</a></aside><aside\n",
            "class=\"features__info\"><h2 class=\"features__info__title\">A maior plataforma brasileira de cursos de tecnologia.</h2>\n",
            "<span\n",
            "class=\"features__info__subtitle\">Mergulhe com profundidade e navegue em outras áreas de Tecnologia. Profissional em &lt;T&gt;. </span>\n",
            "<a\n",
            "class=\"features__video__link features--mobile\" href=\"/como-funciona\">Veja como funciona</a></aside></section><section\n",
            "class=\"alura-benefits\"><div\n",
            "class=\"container\"><ul\n",
            "class=\"alura-benefits-list\"><li>\n",
            "<img\n",
            "src=\"/assets/img/home/icon-home-farol.1617662393.svg\"><h2>Navegue sua carreira</h2><p>São <strong>1265 cursos</strong> e novos lançamentos toda semana, além de atualizações e melhorias constantes.</p></li><li>\n",
            "<img\n",
            "src=\"/assets/img/home/icon-home-snorkel.1617662393.svg\"><h2>Aprofunde-se de vez</h2><p>Garantimos conhecimento com profundidade e diversidade, para se tornar um profissional em T!</p></li><li>\n",
            "<img\n",
            "src=\"/assets/img/home/icon-home-onda.1617662393.svg\"><h2>Conteúdo imersivo</h2><p>Faça parte de uma comunidade de apaixonados por tudo que é digital. Mergulhe na comunidade Alura.</p></li></ul></div></section><section\n",
            "class=\"degrees-list\"><div\n",
            "class=\"container --titles\"><h3>Nossas Formações, Seu Guia</h3><h2>Sequências de cursos organizados em Formações</h2><p>Formações com conteúdo do mercado de trabalho: sequências de cursos e conteúdo para você se capacitar em tecnologia e negócios digitais.</p></div><div\n",
            "class=\"container --items\"><ul\n",
            "class=\"careers__list\"><style type=\"text/css\">.career-mobile-title:after {\n",
            "                                background-color:#ffba05;\n",
            "                            }</style><li\n",
            "class=\"careers__list__item --mobile \" style=\"color:#ffba05;\"><div\n",
            "class=\"careers__list__item__title-wrapper\"><div\n",
            "class=\"categories__svg-wrapper\" style=\"background-color:#ffba0552;\">\n",
            "<svg\n",
            "class=\"pagina-categoria__svg svgFill-mobile categories__svg\" style=\"fill: #ffba05;\" xmlns:xlink=\"http://www.w3.org/1999/xlink\">\n",
            "<use\n",
            "xlink:href=\"/svg,1617662393/categorias#icon-categorias-mobile\"/>\n",
            "</svg></div><h3 class=\"careers__list__item__title\">Mobile</h3></div><ul\n",
            "class=\"careers__list__item__list careers__list__item__list--formacoes\"><li\n",
            "class=\"careers__list__item__list__item\">\n",
            "<a\n",
            "class=\"careers__list__item__list__item__link\" href=\"/formacao-android\">\n",
            "Android                                        </a></li><li\n",
            "class=\"careers__list__item__list__item\">\n",
            "<a\n",
            "class=\"careers__list__item__list__item__link\" href=\"/formacao-arquiteto-android\">\n",
            "Arquitetura Android                                        </a></li><li\n",
            "class=\"careers__list__item__list__item\">\n",
            "<a\n",
            "class=\"careers__list__item__list__item__link\" href=\"/formacao-flutter\">\n",
            "Flutter                                        </a></li><li\n",
            "class=\"careers__list__item__list__item\">\n",
            "<a\n",
            "class=\"careers__list__item__list__item__link\" href=\"/formacao-ios\">\n",
            "iOS                                        </a></li><li\n",
            "class=\"careers__list__item__list__item\">\n",
            "<a\n",
            "class=\"careers__list__item__list__item__link\" href=\"/formacao-xamarin\">\n",
            "Multiplataforma mobile Xamarin                                        </a></li><li\n",
            "class=\"careers__list__item__list__item\">\n",
            "<a\n",
            "class=\"careers__list__item__list__item__link\" href=\"/formacao-testes-automatizados-android\">\n",
            "Testes automatizados no Android                                        </a></li><li\n",
            "class=\"careers__list__item__see-more\">\n",
            "<a\n",
            "href=\"/cursos-online-mobile\" class=\"careers__list__item__see-more__link\">ver todas</a></li></ul></li><style type=\"text/css\">.career-programacao-title:after {\n",
            "                                background-color:#00c86f;\n",
            "                            }</style><li\n",
            "class=\"careers__list__item --programacao \" style=\"color:#00c86f;\"><div\n",
            "class=\"careers__list__item__title-wrapper\"><div\n",
            "class=\"categories__svg-wrapper\" style=\"background-color:#00c86f52;\">\n",
            "<svg\n",
            "class=\"pagina-categoria__svg svgFill-programacao categories__svg\" style=\"fill: #00c86f;\" xmlns:xlink=\"http://www.w3.org/1999/xlink\">\n",
            "<use\n",
            "xlink:href=\"/svg,1617662393/categorias#icon-categorias-programacao\"/>\n",
            "</svg></div><h3 class=\"careers__list__item__title\">Programação</h3></div><ul\n",
            "class=\"careers__list__item__list careers__list__item__list--formacoes\"><li\n",
            "class=\"careers__list__item__list__item\">\n",
            "<a\n",
            "class=\"careers__list__item__list__item__link\" href=\"/formacao-arquiteto-php\">\n",
            "Arquiteto PHP                                        </a></li><li\n",
            "class=\"careers__list__item__list__item\">\n",
            "<a\n",
            "class=\"careers__list__item__list__item__link\" href=\"/formacao-arquitetura-design-projetos-java\">\n",
            "Arquitetura e Design de Projetos Java                                        </a></li><li\n",
            "class=\"careers__list__item__list__item\">\n",
            "<a\n",
            "class=\"careers__list__item__list__item__link\" href=\"/formacao-dotnet\">\n",
            "ASP.NET Core REST APIs                                        </a></li><li\n",
            "class=\"careers__list__item__list__item\">\n",
            "<a\n",
            "class=\"careers__list__item__list__item__link\" href=\"/formacao-c-sharp-orientacao-objetos\">\n",
            "C# e orientação a objetos                                        </a></li><li\n",
            "class=\"careers__list__item__list__item\">\n",
            "<a\n",
            "class=\"careers__list__item__list__item__link\" href=\"/formacao-certificacao-csharp\">\n",
            "Certificação C# Programming                                        </a></li><li\n",
            "class=\"careers__list__item__list__item\">\n",
            "<a\n",
            "class=\"careers__list__item__list__item__link\" href=\"/formacao-certificacao-java\">\n",
            "Certificação Java                                        </a></li><li\n",
            "class=\"careers__list__item__list__item\">\n",
            "<a\n",
            "class=\"careers__list__item__list__item__link\" href=\"/formacao-clojure\">\n",
            "Clojure                                        </a></li><li\n",
            "class=\"careers__list__item__list__item\">\n",
            "<a\n",
            "class=\"careers__list__item__list__item__link\" href=\"/formacao-django\">\n",
            "Django                                        </a></li><li\n",
            "class=\"careers__list__item__see-more\">\n",
            "<a\n",
            "href=\"/cursos-online-programacao\" class=\"careers__list__item__see-more__link\">ver todas</a></li></ul></li><style type=\"text/css\">.career-front-end-title:after {\n",
            "                                background-color:#6bd1ff;\n",
            "                            }</style><li\n",
            "class=\"careers__list__item --front-end \" style=\"color:#6bd1ff;\"><div\n",
            "class=\"careers__list__item__title-wrapper\"><div\n",
            "class=\"categories__svg-wrapper\" style=\"background-color:#6bd1ff52;\">\n",
            "<svg\n",
            "class=\"pagina-categoria__svg svgFill-front-end categories__svg\" style=\"fill: #6bd1ff;\" xmlns:xlink=\"http://www.w3.org/1999/xlink\">\n",
            "<use\n",
            "xlink:href=\"/svg,1617662393/categorias#icon-categorias-front-end\"/>\n",
            "</svg></div><h3 class=\"careers__list__item__title\">Front-end</h3></div><ul\n",
            "class=\"careers__list__item__list careers__list__item__list--formacoes\"><li\n",
            "class=\"careers__list__item__list__item\">\n",
            "<a\n",
            "class=\"careers__list__item__list__item__link\" href=\"/formacao-acessibilidade-web\">\n",
            "Acessibilidade Web                                        </a></li><li\n",
            "class=\"careers__list__item__list__item\">\n",
            "<a\n",
            "class=\"careers__list__item__list__item__link\" href=\"/formacao-angular\">\n",
            "Angular                                        </a></li><li\n",
            "class=\"careers__list__item__list__item\">\n",
            "<a\n",
            "class=\"careers__list__item__list__item__link\" href=\"/formacao-front-end\">\n",
            "Front-end                                        </a></li><li\n",
            "class=\"careers__list__item__list__item\">\n",
            "<a\n",
            "class=\"careers__list__item__list__item__link\" href=\"/formacao-html-e-css\">\n",
            "HTML e CSS                                        </a></li><li\n",
            "class=\"careers__list__item__list__item\">\n",
            "<a\n",
            "class=\"careers__list__item__list__item__link\" href=\"/formacao-react-js\">\n",
            "React JS                                        </a></li><li\n",
            "class=\"careers__list__item__list__item\">\n",
            "<a\n",
            "class=\"careers__list__item__list__item__link\" href=\"/formacao-vuejs\">\n",
            "Vue.js                                        </a></li><li\n",
            "class=\"careers__list__item__see-more\">\n",
            "<a\n",
            "href=\"/cursos-online-front-end\" class=\"careers__list__item__see-more__link\">ver todas</a></li></ul></li><style type=\"text/css\">.career-devops-title:after {\n",
            "                                background-color:#f16165;\n",
            "                            }</style><li\n",
            "class=\"careers__list__item --devops \" style=\"color:#f16165;\"><div\n",
            "class=\"careers__list__item__title-wrapper\"><div\n",
            "class=\"categories__svg-wrapper\" style=\"background-color:#f1616552;\">\n",
            "<svg\n",
            "class=\"pagina-categoria__svg svgFill-devops categories__svg\" style=\"fill: #f16165;\" xmlns:xlink=\"http://www.w3.org/1999/xlink\">\n",
            "<use\n",
            "xlink:href=\"/svg,1617662393/categorias#icon-categorias-devops\"/>\n",
            "</svg></div><h3 class=\"careers__list__item__title\">DevOps</h3></div><ul\n",
            "class=\"careers__list__item__list careers__list__item__list--formacoes\"><li\n",
            "class=\"careers__list__item__list__item\">\n",
            "<a\n",
            "class=\"careers__list__item__list__item__link\" href=\"/formacao-redes\">\n",
            "Administrador de Redes                                        </a></li><li\n",
            "class=\"careers__list__item__list__item\">\n",
            "<a\n",
            "class=\"careers__list__item__list__item__link\" href=\"/formacao-amazon-web-services\">\n",
            "Amazon Web Services                                        </a></li><li\n",
            "class=\"careers__list__item__list__item\">\n",
            "<a\n",
            "class=\"careers__list__item__list__item__link\" href=\"/formacao-kafka\">\n",
            "Apache Kafka                                        </a></li><li\n",
            "class=\"careers__list__item__list__item\">\n",
            "<a\n",
            "class=\"careers__list__item__list__item__link\" href=\"/formacao-aws-certified-cloud-practitioner\">\n",
            "AWS Certified Cloud Practitioner                                        </a></li><li\n",
            "class=\"careers__list__item__list__item\">\n",
            "<a\n",
            "class=\"careers__list__item__list__item__link\" href=\"/formacao-aws-certified-solutions-architect-associate\">\n",
            "AWS Certified Solutions Architect - Associate                                        </a></li><li\n",
            "class=\"careers__list__item__list__item\">\n",
            "<a\n",
            "class=\"careers__list__item__list__item__link\" href=\"/formacao-docker-dca\">\n",
            "Certificação Docker DCA                                        </a></li><li\n",
            "class=\"careers__list__item__list__item\">\n",
            "<a\n",
            "class=\"careers__list__item__list__item__link\" href=\"/formacao-certificacao-lpi-linux-essentials\">\n",
            "Certificação LPI Linux Essentials                                        </a></li><li\n",
            "class=\"careers__list__item__list__item\">\n",
            "<a\n",
            "class=\"careers__list__item__list__item__link\" href=\"/formacao-devops\">\n",
            "DevOps                                        </a></li><li\n",
            "class=\"careers__list__item__see-more\">\n",
            "<a\n",
            "href=\"/cursos-online-devops\" class=\"careers__list__item__see-more__link\">ver todas</a></li></ul></li><style type=\"text/css\">.career-design-ux-title:after {\n",
            "                                background-color:#dc6ebe;\n",
            "                            }</style><li\n",
            "class=\"careers__list__item --design-ux \" style=\"color:#dc6ebe;\"><div\n",
            "class=\"careers__list__item__title-wrapper\"><div\n",
            "class=\"categories__svg-wrapper\" style=\"background-color:#dc6ebe52;\">\n",
            "<svg\n",
            "class=\"pagina-categoria__svg svgFill-design-ux categories__svg\" style=\"fill: #dc6ebe;\" xmlns:xlink=\"http://www.w3.org/1999/xlink\">\n",
            "<use\n",
            "xlink:href=\"/svg,1617662393/categorias#icon-categorias-design-ux\"/>\n",
            "</svg></div><h3 class=\"careers__list__item__title\">UX & Design</h3></div><ul\n",
            "class=\"careers__list__item__list careers__list__item__list--formacoes\"><li\n",
            "class=\"careers__list__item__list__item\">\n",
            "<a\n",
            "class=\"careers__list__item__list__item__link\" href=\"/formacao-ui-adobe-xd\">\n",
            "Adobe XD                                        </a></li><li\n",
            "class=\"careers__list__item__list__item\">\n",
            "<a\n",
            "class=\"careers__list__item__list__item__link\" href=\"/formacao-blender\">\n",
            "Blender                                        </a></li><li\n",
            "class=\"careers__list__item__list__item\">\n",
            "<a\n",
            "class=\"careers__list__item__list__item__link\" href=\"/formacao-desenhohumano-photoshop\">\n",
            "Desenho básico                                        </a></li><li\n",
            "class=\"careers__list__item__list__item\">\n",
            "<a\n",
            "class=\"careers__list__item__list__item__link\" href=\"/formacao-design-de-jogos\">\n",
            "Design de Jogos                                        </a></li><li\n",
            "class=\"careers__list__item__list__item\">\n",
            "<a\n",
            "class=\"careers__list__item__list__item__link\" href=\"/formacao-design-grafico\">\n",
            "Design Gráfico                                        </a></li><li\n",
            "class=\"careers__list__item__list__item\">\n",
            "<a\n",
            "class=\"careers__list__item__list__item__link\" href=\"/formacao-editor-video\">\n",
            "Edição de vídeo                                        </a></li><li\n",
            "class=\"careers__list__item__list__item\">\n",
            "<a\n",
            "class=\"careers__list__item__list__item__link\" href=\"/formacao-estatistica-para-ux-research\">\n",
            "Estatística para UX Research                                        </a></li><li\n",
            "class=\"careers__list__item__list__item\">\n",
            "<a\n",
            "class=\"careers__list__item__list__item__link\" href=\"/formacao-figma\">\n",
            "Figma                                        </a></li><li\n",
            "class=\"careers__list__item__see-more\">\n",
            "<a\n",
            "href=\"/cursos-online-design-ux\" class=\"careers__list__item__see-more__link\">ver todas</a></li></ul></li><style type=\"text/css\">.career-data-science-title:after {\n",
            "                                background-color:#9cd33b;\n",
            "                            }</style><li\n",
            "class=\"careers__list__item --data-science \" style=\"color:#9cd33b;\"><div\n",
            "class=\"careers__list__item__title-wrapper\"><div\n",
            "class=\"categories__svg-wrapper\" style=\"background-color:#9cd33b52;\">\n",
            "<svg\n",
            "class=\"pagina-categoria__svg svgFill-data-science categories__svg\" style=\"fill: #9cd33b;\" xmlns:xlink=\"http://www.w3.org/1999/xlink\">\n",
            "<use\n",
            "xlink:href=\"/svg,1617662393/categorias#icon-categorias-data-science\"/>\n",
            "</svg></div><h3 class=\"careers__list__item__title\">Data Science</h3></div><ul\n",
            "class=\"careers__list__item__list careers__list__item__list--formacoes\"><li\n",
            "class=\"careers__list__item__list__item\">\n",
            "<a\n",
            "class=\"careers__list__item__list__item__link\" href=\"/formacao-business-intelligence-data-warehouse-pentaho\">\n",
            "BI e Data Warehouse com Pentaho                                        </a></li><li\n",
            "class=\"careers__list__item__list__item\">\n",
            "<a\n",
            "class=\"careers__list__item__list__item__link\" href=\"/formacao-business-intelligence-data-warehouse\">\n",
            "BI e Data Warehouse com SQL Server e Power BI                                        </a></li><li\n",
            "class=\"careers__list__item__list__item\">\n",
            "<a\n",
            "class=\"careers__list__item__list__item__link\" href=\"/formacao-data-science\">\n",
            "Data Science                                        </a></li><li\n",
            "class=\"careers__list__item__list__item\">\n",
            "<a\n",
            "class=\"careers__list__item__list__item__link\" href=\"/formacao-datomic\">\n",
            "Datomic                                        </a></li><li\n",
            "class=\"careers__list__item__list__item\">\n",
            "<a\n",
            "class=\"careers__list__item__list__item__link\" href=\"/formacao-estatistica-python\">\n",
            "Estatística com Python                                        </a></li><li\n",
            "class=\"careers__list__item__list__item\">\n",
            "<a\n",
            "class=\"careers__list__item__list__item__link\" href=\"/formacao-excel-vba\">\n",
            "Excel VBA                                        </a></li><li\n",
            "class=\"careers__list__item__list__item\">\n",
            "<a\n",
            "class=\"careers__list__item__list__item__link\" href=\"/formacao-machine-learning\">\n",
            "Machine Learning                                        </a></li><li\n",
            "class=\"careers__list__item__list__item\">\n",
            "<a\n",
            "class=\"careers__list__item__list__item__link\" href=\"/formacao-machine-learning-avancada\">\n",
            "Machine Learning Avançada                                        </a></li><li\n",
            "class=\"careers__list__item__see-more\">\n",
            "<a\n",
            "href=\"/cursos-online-data-science\" class=\"careers__list__item__see-more__link\">ver todas</a></li></ul></li><style type=\"text/css\">.career-inovacao-gestao-title:after {\n",
            "                                background-color:#ff8c2a;\n",
            "                            }</style><li\n",
            "class=\"careers__list__item --inovacao-gestao \" style=\"color:#ff8c2a;\"><div\n",
            "class=\"careers__list__item__title-wrapper\"><div\n",
            "class=\"categories__svg-wrapper\" style=\"background-color:#ff8c2a52;\">\n",
            "<svg\n",
            "class=\"pagina-categoria__svg svgFill-inovacao-gestao categories__svg\" style=\"fill: #ff8c2a;\" xmlns:xlink=\"http://www.w3.org/1999/xlink\">\n",
            "<use\n",
            "xlink:href=\"/svg,1617662393/categorias#icon-categorias-inovacao-gestao\"/>\n",
            "</svg></div><h3 class=\"careers__list__item__title\">Inovação & Gestão</h3></div><ul\n",
            "class=\"careers__list__item__list careers__list__item__list--formacoes\"><li\n",
            "class=\"careers__list__item__list__item\">\n",
            "<a\n",
            "class=\"careers__list__item__list__item__link\" href=\"/formacao-business-agility\">\n",
            "Business Agility                                        </a></li><li\n",
            "class=\"careers__list__item__list__item\">\n",
            "<a\n",
            "class=\"careers__list__item__list__item__link\" href=\"/formacao-certificacao-cobit-5\">\n",
            "Certificação Cobit 5                                        </a></li><li\n",
            "class=\"careers__list__item__list__item\">\n",
            "<a\n",
            "class=\"careers__list__item__list__item__link\" href=\"/formacao-certificacao-itil-foundation\">\n",
            "Certificação ITIL Foundation v3                                        </a></li><li\n",
            "class=\"careers__list__item__list__item\">\n",
            "<a\n",
            "class=\"careers__list__item__list__item__link\" href=\"/formacao-certificacao-pmp-capm-pmi\">\n",
            "Certificação PMP e CAPM do PMI                                        </a></li><li\n",
            "class=\"careers__list__item__list__item\">\n",
            "<a\n",
            "class=\"careers__list__item__list__item__link\" href=\"/formacao-comunicacao\">\n",
            "Comunicação                                        </a></li><li\n",
            "class=\"careers__list__item__list__item\">\n",
            "<a\n",
            "class=\"careers__list__item__list__item__link\" href=\"/formacao-curriculos\">\n",
            "Currículos                                        </a></li><li\n",
            "class=\"careers__list__item__list__item\">\n",
            "<a\n",
            "class=\"careers__list__item__list__item__link\" href=\"/formacao-desenvolvimento-pessoal\">\n",
            "Desenvolvimento Pessoal                                        </a></li><li\n",
            "class=\"careers__list__item__list__item\">\n",
            "<a\n",
            "class=\"careers__list__item__list__item__link\" href=\"/formacao-digital-e-agile-thinking\">\n",
            "Digital & Agile Thinking                                        </a></li><li\n",
            "class=\"careers__list__item__see-more\">\n",
            "<a\n",
            "href=\"/cursos-online-inovacao-gestao\" class=\"careers__list__item__see-more__link\">ver todas</a></li></ul></li></ul></div></section><link\n",
            "rel=\"stylesheet\" href=\"/assets/css/block/destaqueAlunos.1616501197.css\"><section\n",
            "class=\"depoimentos-alunos\"><div\n",
            "class=\"container\"><div\n",
            "class=\"depoimentos-area\"><div\n",
            "class=\"titles\"><h3>Nossos mergulhadores</h3><h2>A maior plataforma brasileira de cursos de tecnologia.</h2><p>São 1265 cursos, 100% em português. E novos lançamentos todas as semanas.</p></div><div\n",
            "class=\"depoimentos-wrapper b2c\"><ul><li>\n",
            "<img\n",
            "src=\"/assets/img/aluno-destaque/genilton-souza.1616501197.jpg\"/><p\n",
            "class=\"depoimento__text\">Se você não sabe a ordem do que deve aprender e praticar para dominar uma tecnologia, <strong>a forma como os cursos estão organizados e estruturados na Alura ajuda muito</strong>. Aprendi C# aqui e pago minhas contas com isso hoje em dia.</p><p\n",
            "class=\"depoimento__author\">Genilton Souza</p></li><li>\n",
            "<img\n",
            "src=\"/assets/img/aluno-destaque/leandro-silva.1616501197.jpg\" /><p\n",
            "class=\"depoimento__text\">Passei dois anos e meio desempregado e foi onde conheci os cursos da Alura. <strong>Consegui fazer uma mudança de carreira em uma área muito disputada e estou muito feliz</strong>: passei em um processo seletivo como Agente de Inovação, e muito do que aprendi tanto para a prova quanto para a etapa presencial foi graças a Alura.</p><p\n",
            "class=\"depoimento__author\">Leandro da Silva</p></li><li>\n",
            "<img\n",
            "src=\"/assets/img/aluno-destaque/nadia-oliveira.1616501197.jpg\" /><p\n",
            "class=\"depoimento__text\">A plataforma é incrível. Além das metodologias do curso serem de alcance para quem está começando ou quem já está avançado em alguma tecnologia, no fórum de dúvidas sempre algum instrutor ou aluno te responde em um curto espaço de tempo. <strong>Na Alura, seu conhecimento é prioridade</strong>.</p><p\n",
            "class=\"depoimento__author\">Nádia Oliveira</p></li></ul></div></div></div></section><section\n",
            "class=\"depoimentos-empresas\"><div\n",
            "class=\"container\">\n",
            "<img\n",
            "src=\"/assets/img/home/alura-para-empresas.1616501197.svg\" class=\"aluracorp-logo\"><div\n",
            "class=\"depoimentos-empresas__wrapper\"><div\n",
            "class=\"depoimentos-empressas__header\"><h3>Alura na medida</h3><h2>Para a sua Empresa</h2><p>Capacite suas equipes com formações continuadas, lançamentos semanais, dashboards e\n",
            "relatórios de engajamento além de guias de estudos customizados de acordo com sua necessidade.</p><p>Conheça nossa proposta para sua empresa:</p>\n",
            "<a\n",
            "href=\"/empresas\" class=\"depoimentos__buttons --desktop\">Conheça os recursos</a></div><div\n",
            "class=\"depoimentos-wrapper b2b\"><ul><li>\n",
            "<img\n",
            "src=\"/assets/img/home/homeNova/testimonies/getninjas.1616501197.png\"/><p\n",
            "class=\"depoimento__text\">O time conseguiu aprender muito e um dos diferenciais para nós foi a língua, com conteúdo de qualidade em português. Na Alura, a equipe conseguiu estudar pela plataforma online e aplicar tudo de maneira estruturada.</p><p\n",
            "class=\"depoimento__author\">Lucas Souza <span\n",
            "class=\"depoimento__company\">- GetNinjas</span></p></li><li>\n",
            "<img\n",
            "src=\"/assets/img/home/homeNova/testimonies/grendene.1616501197.png\"/><p\n",
            "class=\"depoimento__text\">Temos um padrão mínimo de conhecimento para atuar na empresa. Este padrão é garantido aos nossos profissionais pelos cursos de nivelamento que disponibilizamos com a Alura.</p><p\n",
            "class=\"depoimento__author\">Vladimir Giovani Ferreira <span\n",
            "class=\"depoimento__company\">- Grendene</span></p></li><li>\n",
            "<img\n",
            "src=\"/assets/img/home/homeNova/testimonies/sompo-seguros.1616501197.png\"/><p\n",
            "class=\"depoimento__text\">A experiência com a Alura é muito boa: a equipe consegue estar sempre atualizada sobre as novas tecnologias, agregar conhecimentos e se aperfeiçoar. O acompanhamento mensal da equipe ajudou bastante, tanto como os relatórios gerenciais da plataforma.</p><p\n",
            "class=\"depoimento__author\">Marcelo Poubel Tatagiba <span\n",
            "class=\"depoimento__company\">- SOMPO Seguros</span></p></li>\n",
            "<a\n",
            "href=\"/empresas\" class=\"depoimentos__buttons --mobile\">Conheça os recursos</a></ul></div></div></div></section><section\n",
            "class=\"companies__using-alura\"><div\n",
            "class=\"container\"><ul\n",
            "class=\"companies__using-alura__list\"><li\n",
            "class=\"companies__using-alura__list__item\">\n",
            "<img\n",
            "class=\"companies__using-alura__list__item__image\"\n",
            "src=\"/assets/img/home/homeNova/logo-empresas/logo-sulamerica.1616501197.svg\" alt=\"Amil\"></li><li\n",
            "class=\"companies__using-alura__list__item\">\n",
            "<img\n",
            "class=\"companies__using-alura__list__item__image\"\n",
            "src=\"/assets/img/home/homeNova/logo-empresas/logo-empresa-samsung.1616501197.svg\" alt=\"Samsung\"></li><li\n",
            "class=\"companies__using-alura__list__item\">\n",
            "<img\n",
            "class=\"companies__using-alura__list__item__image\"\n",
            "src=\"/assets/img/home/homeNova/logo-empresas/logo-empresa-santander.1616501197.svg\" alt=\"Santander\"></li><li\n",
            "class=\"companies__using-alura__list__item\">\n",
            "<img\n",
            "class=\"companies__using-alura__list__item__image\"\n",
            "src=\"/assets/img/home/homeNova/logo-empresas/logo-mercadolivre.1616501197.svg\" alt=\"Cielo\"></li><li\n",
            "class=\"companies__using-alura__list__item\">\n",
            "<img\n",
            "class=\"companies__using-alura__list__item__image\"\n",
            "src=\"/assets/img/home/homeNova/logo-empresas/logo-empresa-algar.1616501197.svg\" alt=\"Algar\"></li><li\n",
            "class=\"companies__using-alura__list__item\">\n",
            "<img\n",
            "class=\"companies__using-alura__list__item__image\"\n",
            "src=\"/assets/img/home/homeNova/logo-empresas/logo-empresa-caixa.1616501197.svg\" alt=\"Caixa\"></li><li\n",
            "class=\"companies__using-alura__list__item\">\n",
            "<img\n",
            "class=\"companies__using-alura__list__item__image\"\n",
            "src=\"/assets/img/home/homeNova/logo-empresas/logo-empresa-globo.1616501197.svg\" alt=\"Globo.com\"></li><li\n",
            "class=\"companies__using-alura__list__item\">\n",
            "<img\n",
            "class=\"companies__using-alura__list__item__image\"\n",
            "src=\"/assets/img/home/homeNova/logo-empresas/logo-nubank.1616501197.png\" alt=\"Nuank\"></li><li\n",
            "class=\"companies__using-alura__list__item\">\n",
            "<img\n",
            "class=\"companies__using-alura__list__item__image\"\n",
            "src=\"/assets/img/home/homeNova/logo-empresas/logo-totvs.1616501197.png\" alt=\"Totvs\"></li><li\n",
            "class=\"companies__using-alura__list__item\">\n",
            "<img\n",
            "class=\"companies__using-alura__list__item__image\"\n",
            "src=\"/assets/img/home/homeNova/logo-empresas/logo-tw.1616501197.png\" alt=\"ThoughtWorks\"></li><li\n",
            "class=\"companies__using-alura__list__item --small-logo\">\n",
            "<img\n",
            "class=\"companies__using-alura__list__item__image\"\n",
            "src=\"/assets/img/home/homeNova/logo-empresas/logo-itau.1616501197.png\" alt=\"Itau\"></li><li\n",
            "class=\"companies__using-alura__list__item\">\n",
            "<img\n",
            "class=\"companies__using-alura__list__item__image\"\n",
            "src=\"/assets/img/home/homeNova/logo-empresas/logo-porto.1616501197.png\" alt=\"Porto Seguro\"></li><li\n",
            "class=\"companies__using-alura__list__item --small-logo\">\n",
            "<img\n",
            "class=\"companies__using-alura__list__item__image\"\n",
            "src=\"/assets/img/home/homeNova/logo-empresas/logo-brq.1616501197.png\" alt=\"BRQ Digital Solutions\"></li><li\n",
            "class=\"companies__using-alura__list__item\">\n",
            "<img\n",
            "class=\"companies__using-alura__list__item__image\"\n",
            "src=\"/assets/img/home/homeNova/logo-empresas/logo-stone.1616501197.png\" alt=\"Stone\"></li></ul></div></section><section\n",
            "class=\"mobile\"><div\n",
            "class=\"container\"><div\n",
            "class=\"mobile__wrapper-info\"><div\n",
            "class=\"mobile__info mobile__info--forum\">\n",
            "<img\n",
            "src=\"/assets/img/home/icon-home-reload.1616501197.svg\"/>\n",
            "<strong>1265 cursos</strong><p>com lançamentos toda semana e atualizações constantes</p></div><div\n",
            "class=\"mobile__info mobile__info--app\">\n",
            "<img\n",
            "src=\"/assets/img/home/icon-home-apps.1616501197.svg\"/>\n",
            "<strong>Aplicativos</strong><p>para Android e iOS, para você baixar e estudar offline.</p></div></div><nav\n",
            "class=\"mobile__apps-download\">\n",
            "<a\n",
            "href=\"https://play.google.com/store/apps/details?id=br.com.alura.mobi&hl=pt_BR\"\n",
            "class=\"mobile__apps-download__item mobile__apps-download__item--google-play\">Google\n",
            "Play</a>\n",
            "<a\n",
            "href=\"https://itunes.apple.com/br/app/alura-cursos-online/id1225776635\"\n",
            "class=\"mobile__apps-download__item mobile__apps-download__item--app-store\">App\n",
            "Store</a></nav></div></section><link\n",
            "rel=\"stylesheet\" href=\"/assets/css/block/planosPagamentoOld.1617913664.css\"><section\n",
            "class=\"planos-pagamento\" id=\"planos-cursos-online\"><h2 class=\"planos-pagamento__titulo\">\n",
            "Sabe quando você pode começar? <span\n",
            "class=\"planos-pagamento__titulo--bold\">Agora!</span></h2><div\n",
            "class=\"container\"><div\n",
            "class=\"planos-pagamento__planos \"><div\n",
            "class=\"animation-trigger --animate\"></div><ul\n",
            "class=\"planos-pagamento__vantagens-mobile\"><li\n",
            "class=\"planos-pagamento__vantagem\"><div\n",
            "class=\"planos-pagamento__wrapper planos-pagamento__wrapper--com-descricao\">\n",
            "<span\n",
            "class=\"planos-pagamento__label\">1265 cursos</span><div\n",
            "class=\"planos-pagamento__legenda-tooltip\"><p\n",
            "class=\"planos-pagamento__legenda-descricao\">Cursos de programação, UX, agilidade, data science, transformação digital, mobile, front-end, marketing e infra.</p></div></div></li><li\n",
            "class=\"planos-pagamento__vantagem\"><div\n",
            "class=\"planos-pagamento__wrapper planos-pagamento__wrapper--com-descricao\">\n",
            "<span\n",
            "class=\"planos-pagamento__label\">Certificado de participação</span><div\n",
            "class=\"planos-pagamento__legenda-tooltip\"><p\n",
            "class=\"planos-pagamento__legenda-descricao\">Certificado de que assistiu o curso e finalizou as atividades</p></div></div></li><li\n",
            "class=\"planos-pagamento__vantagem\"><div\n",
            "class=\"planos-pagamento__wrapper planos-pagamento__wrapper--com-descricao\">\n",
            "<span\n",
            "class=\"planos-pagamento__label\">App para Android e iPhone/iPad</span><div\n",
            "class=\"planos-pagamento__legenda-tooltip\"><p\n",
            "class=\"planos-pagamento__legenda-descricao\">Estude até mesmo offline através das nossas apps Android e iOS em smartphones e tablets</p></div></div></li><li\n",
            "class=\"planos-pagamento__vantagem\"><div\n",
            "class=\"planos-pagamento__wrapper planos-pagamento__wrapper--com-descricao\">\n",
            "<span\n",
            "class=\"planos-pagamento__label\">Acesso à Alura Start</span><div\n",
            "class=\"planos-pagamento__legenda-tooltip\"><p\n",
            "class=\"planos-pagamento__legenda-descricao\">Cursos de introdução a tecnologia através de games, apps e ciência</p></div></div></li><li\n",
            "class=\"planos-pagamento__vantagem\"><div\n",
            "class=\"planos-pagamento__wrapper planos-pagamento__wrapper--com-descricao\">\n",
            "<span\n",
            "class=\"planos-pagamento__label\">Acesso à Alura Língua</span><div\n",
            "class=\"planos-pagamento__legenda-tooltip\"><p\n",
            "class=\"planos-pagamento__legenda-descricao\">Reforço online de inglês e espanhol para aprimorar seu conhecimento</p></div></div></li></ul><div\n",
            "class=\"planos-pagamento__plano planos-pagamento__plano--premium\"\n",
            "data-payment-plan  data-payment-plan-price=\"900\"><div\n",
            "class=\"planos-pagamento__header\"><h4 class=\"planos-pagamento__nome\">Premium</h4></div><ul\n",
            "class=\"planos-pagamento__vantagens\"><li\n",
            "class=\"planos-pagamento__vantagem\"><div\n",
            "class=\"planos-pagamento__wrapper planos-pagamento__wrapper--com-descricao\">\n",
            "<span\n",
            "class=\"planos-pagamento__label\">1265 cursos</span><div\n",
            "class=\"planos-pagamento__legenda-tooltip\"><p\n",
            "class=\"planos-pagamento__legenda-descricao\">Cursos de programação, UX, agilidade, data science, transformação digital, mobile, front-end, marketing e infra.</p></div></div><div\n",
            "class=\"planos-pagamento__checkmark planos-pagamento__checkmark--ativo\">\n",
            "<svg><use\n",
            "xlink:href=\"/svg,1616501197/planosPagamento#icon-planosPagamento-checked\" /></svg></div></li><li\n",
            "class=\"planos-pagamento__vantagem\"><div\n",
            "class=\"planos-pagamento__wrapper planos-pagamento__wrapper--com-descricao\">\n",
            "<span\n",
            "class=\"planos-pagamento__label\">Certificado de participação</span><div\n",
            "class=\"planos-pagamento__legenda-tooltip\"><p\n",
            "class=\"planos-pagamento__legenda-descricao\">Certificado de que assistiu o curso e finalizou as atividades</p></div></div><div\n",
            "class=\"planos-pagamento__checkmark planos-pagamento__checkmark--ativo\">\n",
            "<svg><use\n",
            "xlink:href=\"/svg,1616501197/planosPagamento#icon-planosPagamento-checked\" /></svg></div></li><li\n",
            "class=\"planos-pagamento__vantagem\"><div\n",
            "class=\"planos-pagamento__wrapper planos-pagamento__wrapper--com-descricao\">\n",
            "<span\n",
            "class=\"planos-pagamento__label\">App para Android e iPhone/iPad</span><div\n",
            "class=\"planos-pagamento__legenda-tooltip\"><p\n",
            "class=\"planos-pagamento__legenda-descricao\">Estude até mesmo offline através das nossas apps Android e iOS em smartphones e tablets</p></div></div><div\n",
            "class=\"planos-pagamento__checkmark planos-pagamento__checkmark--ativo\">\n",
            "<svg><use\n",
            "xlink:href=\"/svg,1616501197/planosPagamento#icon-planosPagamento-checked\" /></svg></div></li><li\n",
            "class=\"planos-pagamento__vantagem\"><div\n",
            "class=\"planos-pagamento__wrapper planos-pagamento__wrapper--com-descricao\">\n",
            "<span\n",
            "class=\"planos-pagamento__label\">Acesso à Alura Start</span><div\n",
            "class=\"planos-pagamento__legenda-tooltip\"><p\n",
            "class=\"planos-pagamento__legenda-descricao\">Cursos de introdução a tecnologia através de games, apps e ciência</p></div></div><div\n",
            "class=\"planos-pagamento__checkmark \">\n",
            "<svg><use\n",
            "xlink:href=\"/svg,1616501197/planosPagamento#icon-planosPagamento-checked\" /></svg></div></li><li\n",
            "class=\"planos-pagamento__vantagem\"><div\n",
            "class=\"planos-pagamento__wrapper planos-pagamento__wrapper--com-descricao\">\n",
            "<span\n",
            "class=\"planos-pagamento__label\">Acesso à Alura Língua</span><div\n",
            "class=\"planos-pagamento__legenda-tooltip\"><p\n",
            "class=\"planos-pagamento__legenda-descricao\">Reforço online de inglês e espanhol para aprimorar seu conhecimento</p></div></div><div\n",
            "class=\"planos-pagamento__checkmark \">\n",
            "<svg><use\n",
            "xlink:href=\"/svg,1616501197/planosPagamento#icon-planosPagamento-checked\" /></svg></div></li></ul><div\n",
            "class=\"planos-pagamento__precos \">\n",
            "<span\n",
            "class=\"planos-pagamento__numero-parcelas\">\n",
            "12X\n",
            "</span><div\n",
            "class=\"planos-pagamento__preco-parcela\n",
            "\">\n",
            "<span\n",
            "class=\"planos-pagamento__valor-parcela\">R$75</span></div><div\n",
            "class=\"planos-pagamento__preco-vista\">\n",
            "<span\n",
            "class=\"planos-pagamento__label-vista\">à vista</span>\n",
            "<span\n",
            "class=\"planos-pagamento__valor-vista\">R$900</span></div></div><a\n",
            "class=\"planos-pagamento__cta\" href=\"/compra/premium/\">\n",
            "Matricule-se\n",
            "</a></div><div\n",
            "class=\"planos-pagamento__plano planos-pagamento__plano--premiumplus\"\n",
            "data-payment-plan  data-payment-plan-price=\"1.200\"><div\n",
            "class=\"planos-pagamento__header\"><h4 class=\"planos-pagamento__nome\">Premium Plus</h4></div><ul\n",
            "class=\"planos-pagamento__vantagens\"><li\n",
            "class=\"planos-pagamento__vantagem\"><div\n",
            "class=\"planos-pagamento__wrapper planos-pagamento__wrapper--com-descricao\">\n",
            "<span\n",
            "class=\"planos-pagamento__label\">1265 cursos</span><div\n",
            "class=\"planos-pagamento__legenda-tooltip\"><p\n",
            "class=\"planos-pagamento__legenda-descricao\">Cursos de programação, UX, agilidade, data science, transformação digital, mobile, front-end, marketing e infra.</p></div></div><div\n",
            "class=\"planos-pagamento__checkmark planos-pagamento__checkmark--ativo\">\n",
            "<svg><use\n",
            "xlink:href=\"/svg,1616501197/planosPagamento#icon-planosPagamento-checked\" /></svg></div></li><li\n",
            "class=\"planos-pagamento__vantagem\"><div\n",
            "class=\"planos-pagamento__wrapper planos-pagamento__wrapper--com-descricao\">\n",
            "<span\n",
            "class=\"planos-pagamento__label\">Certificado de participação</span><div\n",
            "class=\"planos-pagamento__legenda-tooltip\"><p\n",
            "class=\"planos-pagamento__legenda-descricao\">Certificado de que assistiu o curso e finalizou as atividades</p></div></div><div\n",
            "class=\"planos-pagamento__checkmark planos-pagamento__checkmark--ativo\">\n",
            "<svg><use\n",
            "xlink:href=\"/svg,1616501197/planosPagamento#icon-planosPagamento-checked\" /></svg></div></li><li\n",
            "class=\"planos-pagamento__vantagem\"><div\n",
            "class=\"planos-pagamento__wrapper planos-pagamento__wrapper--com-descricao\">\n",
            "<span\n",
            "class=\"planos-pagamento__label\">App para Android e iPhone/iPad</span><div\n",
            "class=\"planos-pagamento__legenda-tooltip\"><p\n",
            "class=\"planos-pagamento__legenda-descricao\">Estude até mesmo offline através das nossas apps Android e iOS em smartphones e tablets</p></div></div><div\n",
            "class=\"planos-pagamento__checkmark planos-pagamento__checkmark--ativo\">\n",
            "<svg><use\n",
            "xlink:href=\"/svg,1616501197/planosPagamento#icon-planosPagamento-checked\" /></svg></div></li><li\n",
            "class=\"planos-pagamento__vantagem\"><div\n",
            "class=\"planos-pagamento__wrapper planos-pagamento__wrapper--com-descricao\">\n",
            "<span\n",
            "class=\"planos-pagamento__label\">Acesso à Alura Start</span><div\n",
            "class=\"planos-pagamento__legenda-tooltip\"><p\n",
            "class=\"planos-pagamento__legenda-descricao\">Cursos de introdução a tecnologia através de games, apps e ciência</p></div></div><div\n",
            "class=\"planos-pagamento__checkmark planos-pagamento__checkmark--ativo\">\n",
            "<svg><use\n",
            "xlink:href=\"/svg,1616501197/planosPagamento#icon-planosPagamento-checked\" /></svg></div></li><li\n",
            "class=\"planos-pagamento__vantagem\"><div\n",
            "class=\"planos-pagamento__wrapper planos-pagamento__wrapper--com-descricao\">\n",
            "<span\n",
            "class=\"planos-pagamento__label\">Acesso à Alura Língua</span><div\n",
            "class=\"planos-pagamento__legenda-tooltip\"><p\n",
            "class=\"planos-pagamento__legenda-descricao\">Reforço online de inglês e espanhol para aprimorar seu conhecimento</p></div></div><div\n",
            "class=\"planos-pagamento__checkmark \">\n",
            "<svg><use\n",
            "xlink:href=\"/svg,1616501197/planosPagamento#icon-planosPagamento-checked\" /></svg></div></li></ul><div\n",
            "class=\"planos-pagamento__precos \">\n",
            "<span\n",
            "class=\"planos-pagamento__numero-parcelas\">\n",
            "12X\n",
            "</span><div\n",
            "class=\"planos-pagamento__preco-parcela\n",
            "\">\n",
            "<span\n",
            "class=\"planos-pagamento__valor-parcela\">R$100</span></div><div\n",
            "class=\"planos-pagamento__preco-vista\">\n",
            "<span\n",
            "class=\"planos-pagamento__label-vista\">à vista</span>\n",
            "<span\n",
            "class=\"planos-pagamento__valor-vista\">R$1.200</span></div></div><a\n",
            "class=\"planos-pagamento__cta\" href=\"/compra/premiumplus/\">\n",
            "Matricule-se\n",
            "</a></div><div\n",
            "class=\"planos-pagamento__plano planos-pagamento__plano--max\"\n",
            "data-payment-plan  data-payment-plan-price=\"1.440\"><div\n",
            "class=\"planos-pagamento__header\"><h4 class=\"planos-pagamento__nome\">Max</h4></div><ul\n",
            "class=\"planos-pagamento__vantagens\"><li\n",
            "class=\"planos-pagamento__vantagem\"><div\n",
            "class=\"planos-pagamento__wrapper planos-pagamento__wrapper--com-descricao\">\n",
            "<span\n",
            "class=\"planos-pagamento__label\">1265 cursos</span><div\n",
            "class=\"planos-pagamento__legenda-tooltip\"><p\n",
            "class=\"planos-pagamento__legenda-descricao\">Cursos de programação, UX, agilidade, data science, transformação digital, mobile, front-end, marketing e infra.</p></div></div><div\n",
            "class=\"planos-pagamento__checkmark planos-pagamento__checkmark--ativo\">\n",
            "<svg><use\n",
            "xlink:href=\"/svg,1616501197/planosPagamento#icon-planosPagamento-checked\" /></svg></div></li><li\n",
            "class=\"planos-pagamento__vantagem\"><div\n",
            "class=\"planos-pagamento__wrapper planos-pagamento__wrapper--com-descricao\">\n",
            "<span\n",
            "class=\"planos-pagamento__label\">Certificado de participação</span><div\n",
            "class=\"planos-pagamento__legenda-tooltip\"><p\n",
            "class=\"planos-pagamento__legenda-descricao\">Certificado de que assistiu o curso e finalizou as atividades</p></div></div><div\n",
            "class=\"planos-pagamento__checkmark planos-pagamento__checkmark--ativo\">\n",
            "<svg><use\n",
            "xlink:href=\"/svg,1616501197/planosPagamento#icon-planosPagamento-checked\" /></svg></div></li><li\n",
            "class=\"planos-pagamento__vantagem\"><div\n",
            "class=\"planos-pagamento__wrapper planos-pagamento__wrapper--com-descricao\">\n",
            "<span\n",
            "class=\"planos-pagamento__label\">App para Android e iPhone/iPad</span><div\n",
            "class=\"planos-pagamento__legenda-tooltip\"><p\n",
            "class=\"planos-pagamento__legenda-descricao\">Estude até mesmo offline através das nossas apps Android e iOS em smartphones e tablets</p></div></div><div\n",
            "class=\"planos-pagamento__checkmark planos-pagamento__checkmark--ativo\">\n",
            "<svg><use\n",
            "xlink:href=\"/svg,1616501197/planosPagamento#icon-planosPagamento-checked\" /></svg></div></li><li\n",
            "class=\"planos-pagamento__vantagem\"><div\n",
            "class=\"planos-pagamento__wrapper planos-pagamento__wrapper--com-descricao\">\n",
            "<span\n",
            "class=\"planos-pagamento__label\">Acesso à Alura Start</span><div\n",
            "class=\"planos-pagamento__legenda-tooltip\"><p\n",
            "class=\"planos-pagamento__legenda-descricao\">Cursos de introdução a tecnologia através de games, apps e ciência</p></div></div><div\n",
            "class=\"planos-pagamento__checkmark planos-pagamento__checkmark--ativo\">\n",
            "<svg><use\n",
            "xlink:href=\"/svg,1616501197/planosPagamento#icon-planosPagamento-checked\" /></svg></div></li><li\n",
            "class=\"planos-pagamento__vantagem\"><div\n",
            "class=\"planos-pagamento__wrapper planos-pagamento__wrapper--com-descricao\">\n",
            "<span\n",
            "class=\"planos-pagamento__label\">Acesso à Alura Língua</span><div\n",
            "class=\"planos-pagamento__legenda-tooltip\"><p\n",
            "class=\"planos-pagamento__legenda-descricao\">Reforço online de inglês e espanhol para aprimorar seu conhecimento</p></div></div><div\n",
            "class=\"planos-pagamento__checkmark planos-pagamento__checkmark--ativo\">\n",
            "<svg><use\n",
            "xlink:href=\"/svg,1616501197/planosPagamento#icon-planosPagamento-checked\" /></svg></div></li></ul><div\n",
            "class=\"planos-pagamento__precos \">\n",
            "<span\n",
            "class=\"planos-pagamento__numero-parcelas\">\n",
            "12X\n",
            "</span><div\n",
            "class=\"planos-pagamento__preco-parcela\n",
            "\">\n",
            "<span\n",
            "class=\"planos-pagamento__valor-parcela\">R$120</span></div><div\n",
            "class=\"planos-pagamento__preco-vista\">\n",
            "<span\n",
            "class=\"planos-pagamento__label-vista\">à vista</span>\n",
            "<span\n",
            "class=\"planos-pagamento__valor-vista\">R$1.440</span></div></div><a\n",
            "class=\"planos-pagamento__cta\" href=\"/compra/max/\">\n",
            "Matricule-se\n",
            "</a></div></div></div><a\n",
            "class=\"planos-pagamento__b2b\" href=\"/empresas\">\n",
            "<span>Conheça os <strong>Planos para Empresas</strong></span>\n",
            "</a><div\n",
            "class=\"planosPagamento-vantagens\"><div\n",
            "class=\"container\"><div\n",
            "class=\"planosPagamento-vantagens-vantagem acesso\">\n",
            "<img\n",
            "src=\"/assets/img/home/icon-plan-calendar.1617662393.svg\"><p>Acesso completo <br\n",
            "/> durante 1 ano</p></div><div\n",
            "class=\"planosPagamento-vantagens-vantagem horas\">\n",
            "<img\n",
            "src=\"/assets/img/home/icon-plan-moon.1617662393.svg\"><p>Estude 24h/dia <br\n",
            "/> onde e quando quiser</p></div><div\n",
            "class=\"planosPagamento-vantagens-vantagem novos\">\n",
            "<img\n",
            "src=\"/assets/img/home/icon-plan-reload.1617662393.svg\"><p>Novos cursos <br\n",
            "/> todas as semanas</p></div></div></div></section> <script src=\"/assets/js/planosPagamentoOld.1616501197.js\"></script> </main><link\n",
            "rel=\"stylesheet\" href=\"/assets/css/block/footer.1617904624.css\"><footer\n",
            "class=\"footer\"><div\n",
            "class=\"container\"><div\n",
            "class=\"footer-navegue\"><h2 class=\"footer-navegacao-titulo\">Navegação</h2><ul\n",
            "class=\"footer-navegue-lista\"><li\n",
            "class=\"footer-navegue-lista-link\"><a\n",
            "href=\"/planos-cursos-online\" gtm-data='footer_primeira_secao_053'>Planos</a></li><li\n",
            "class=\"footer-navegue-lista-link\"><a\n",
            "href=\"/cursos-online-tecnologia\" gtm-data='footer_primeira_secao_054'>Todos os cursos</a></li><li\n",
            "class=\"footer-navegue-lista-link\"><a\n",
            "href=\"/guias\">Guias de carreira</a></li><li\n",
            "class=\"footer-navegue-lista-link\"><a\n",
            "href=\"/instrutores\" gtm-data='footer_primeira_secao_056'>Instrutores</a></li><li\n",
            "class=\"footer-navegue-lista-link\"><a\n",
            "href=\"/quero-ser-instrutor\" gtm-data='footer_primeira_secao_057'>Como virar instrutor</a></li><li\n",
            "class=\"footer-navegue-lista-link\"><a\n",
            "href=\"/artigos\" gtm-data='footer_primeira_secao_058'>Artigos</a></li><li\n",
            "class=\"footer-navegue-lista-link\"><a\n",
            "href=\"/escolas\">Para Escolas</a></li><li\n",
            "class=\"footer-navegue-lista-link\"><a\n",
            "href=\"/podcasts\">Podcasts</a></li><li\n",
            "class=\"footer-navegue-lista-link\"><a\n",
            "href=\"/politica-de-privacidade\" gtm-data='footer_primeira_secao_061'>Política de Privacidade</a></li><li\n",
            "class=\"footer-navegue-lista-link\"><a\n",
            "href=\"/termos-de-uso\" gtm-data='footer_primeira_secao_062'>Termos de Uso</a></li><li\n",
            "class=\"footer-navegue-lista-link\"><a\n",
            "href=\"/sobre\" gtm-data='footer_primeira_secao_063'>Sobre nós</a></li><li\n",
            "class=\"footer-navegue-lista-link\"><a\n",
            "href=\"/como-funciona\" gtm-data='footer_primeira_secao_064'>Como Funciona</a></li><li\n",
            "class=\"footer-navegue-lista-link\"><a\n",
            "href=\"/dev-em-t\" gtm-data='footer_primeira_secao_065'>Dev em &lt;T&gt;</a></li><li\n",
            "class=\"footer-navegue-lista-link\"><a\n",
            "href=\"https://suporte.alura.com.br/\" gtm-data='footer_primeira_secao_066'>Perguntas frequentes</a></li><li\n",
            "class=\"footer-navegue-lista-link\"><a\n",
            "href=\"https://status.alura.com.br/\">Status</a></li></ul><h2 class=\"footer-navegacao-titulo\">Fale com a gente</h2><ul\n",
            "class=\"footer-navegue-lista\"><li\n",
            "class=\"footer-navegue-lista-link whatsapp-icon\"><a\n",
            "href=\"https://api.whatsapp.com/send?phone=5511984510286\">Whatsapp</a></li><li\n",
            "class=\"footer-navegue-lista-link\"><a\n",
            "href=\"https://www.alura.com.br/contato\">Email e telefone</a></li></ul></div><div\n",
            "class=\"footer-card-hotLinks social-mobile\"><h2 class=\"footer-card-hotLinks-titulo\">Nossas redes e apps</h2><div\n",
            "class=\"footer-card-hotLinks-info footer-card-redes\">\n",
            "<a\n",
            "href=\"https://www.youtube.com/alura\" gtm-data='footer_primeira_secao_065' class=\"footer-card-hotLinks-link\" target=\"_blank\" title=\"YouTube da Alura\">\n",
            "<svg\n",
            "class=\"footer-card-hotLinks-icon footer-card-hotLinks-youtube\"><use\n",
            "xlink:href=\"/svg,1617662393/footer#icon-footer-youtube\"/></svg>\n",
            "<span>YouTube</span>\n",
            "</a>\n",
            "<a\n",
            "href=\"https://www.facebook.com/AluraCursosOnline/\" gtm-data='footer_primeira_secao_066' class=\"footer-card-hotLinks-link\" target=\"_blank\" title=\"Facebook da Alura\">\n",
            "<svg\n",
            "class=\"footer-card-hotLinks-icon footer-card-hotLinks-facebook\"><use\n",
            "xlink:href=\"/svg,1617662393/footer#icon-footer-facebook\"/></svg>\n",
            "<span>Facebook</span>\n",
            "</a>\n",
            "<a\n",
            "href=\"https://twitter.com/aluraonline\" gtm-data='footer_primeira_secao_067' class=\"footer-card-hotLinks-link\" target=\"_blank\" title=\"Twitter da Alura\">\n",
            "<svg\n",
            "class=\"footer-card-hotLinks-icon footer-card-hotLinks-twitter\"><use\n",
            "xlink:href=\"/svg,1617662393/footer#icon-footer-twitter\"/></svg>\n",
            "<span>Twitter</span>\n",
            "</a>\n",
            "<a\n",
            "href=\"https://instagram.com/aluraonline\" class=\"footer-card-hotLinks-link\" gtm-data='footer_primeira_secao_073' target=\"_blank\" title=\"Instagram da Alura\">\n",
            "<svg\n",
            "class=\"footer-card-hotLinks-icon footer-card-hotLinks-instagram\"><use\n",
            "xlink:href=\"/svg,1617662393/footer#icon-footer-instagram\"/></svg>\n",
            "<span>Instagram</span>\n",
            "</a></div><div\n",
            "class=\"footer-card-hotLinks-info footer-card-mobile\">\n",
            "<a\n",
            "href=\"https://play.google.com/store/apps/details?id=br.com.alura.mobi&hl=pt_BR\" gtm-data='footer_primeira_secao_069' class=\"footer-card-hotLinks-link\" target=\"_blank\" title=\"Baixar na Google Play Store\">\n",
            "<svg\n",
            "class=\"footer-card-hotLinks-icon footer-card-hotLinks-mobile\"><use\n",
            "xlink:href=\"/svg,1617662393/footer#icon-footer-googleplay\"/></svg>\n",
            "<span>Google Play Store</span>\n",
            "</a>\n",
            "<a\n",
            "href=\"https://itunes.apple.com/br/app/alura-cursos-online/id1225776635\" gtm-data='footer_primeira_secao_070' class=\"footer-card-hotLinks-link\" target=\"_blank\" title=\"Baixar na AppStore\">\n",
            "<svg\n",
            "class=\"footer-card-hotLinks-icon footer-card-hotLinks-mobile\"><use\n",
            "xlink:href=\"/svg,1617662393/footer#icon-footer-appstore\"/></svg>\n",
            "<span>AppStore</span>\n",
            "</a></div></div><div\n",
            "class=\"footer-column footer-column-cards\"><link\n",
            "rel=\"stylesheet\" href=\"/assets/css/block/activeCampaignNewsletterForm.1617916014.css\"><div\n",
            "class=\"newsletter\"><h2 class=\"newsletter-titulo\">Novidades e Lançamentos</h2><form\n",
            "id=\"newsletter-form__activecampaign\" class=\"newsletter-form\" action=\"/api/activecampaign\" method=\"POST\"><input\n",
            "type=\"hidden\" name=\"list\" value=\"14\">\n",
            "<input\n",
            "type=\"hidden\" name=\"retorno\" value=\"/newsletter-cadastrado\"><label\n",
            "for=\"email-newsletter\">Email</label>\n",
            "<input\n",
            "type=\"email\" name=\"email\" class=\"newsletter-input\" placeholder=\"Seu e-mail\" id=\"email-newsletter\"><button\n",
            "type=\"submit\" class=\"newsletter-button buttonForm\">Receber</button>\n",
            "<span\n",
            "class=\"newsletter-message-error newsletter-message-error--disabled\">Não foi possível assinar a newsletter</span></form></div> <script>(function() {\n",
            "            function criaCampo(nome, valor, form) {\n",
            "                if (valor === null) return;\n",
            "\n",
            "                var input = document.createElement('input');\n",
            "                input.type = 'hidden';\n",
            "                input.name = nome;\n",
            "                input.value = valor;\n",
            "\n",
            "                form.appendChild(input);\n",
            "            }\n",
            "\n",
            "            function param(name) {\n",
            "                var url = location.href;\n",
            "                name = name.replace(/[\\[]/,\"\\\\\\[\").replace(/[\\]]/,\"\\\\\\]\");\n",
            "                var regexS = \"[\\\\?&]\"+name+\"=([^&#]*)\";\n",
            "                var regex = new RegExp( regexS );\n",
            "                var results = regex.exec( url );\n",
            "                return results == null ? null : results[1];\n",
            "            }\n",
            "\n",
            "            function showNewsletterError() {\n",
            "                document.querySelector('.newsletter-message-error').classList.remove('newsletter-message-error--disabled');\n",
            "            }\n",
            "\n",
            "            function valida() {\n",
            "                var isValid = true;\n",
            "                var inputList = document.querySelector('#newsletter-form__activecampaign')['list'];\n",
            "                var inputEmail = document.querySelector('#newsletter-form__activecampaign')['email'];\n",
            "\n",
            "                isValid = validaEmail(inputEmail.value) && validaList(inputList.value);\n",
            "\n",
            "                if(!isValid) {\n",
            "                    showNewsletterError();\n",
            "                }\n",
            "\n",
            "                return isValid;\n",
            "            }\n",
            "\n",
            "            function validaList(list) {\n",
            "                return list != '-1';\n",
            "            }\n",
            "\n",
            "            function validaEmail(email) {\n",
            "                var re = /^(([^<>()\\[\\]\\\\.,;:\\s@\"]+(\\.[^<>()\\[\\]\\\\.,;:\\s@\"]+)*)|(\".+\"))@((\\[[0-9]{1,3}\\.[0-9]{1,3}\\.[0-9]{1,3}\\.[0-9]{1,3}])|(([a-zA-Z\\-0-9]+\\.)+[a-zA-Z]{2,}))$/;\n",
            "                return re.test(email);\n",
            "            }\n",
            "\n",
            "            var form = document.querySelector('#newsletter-form__activecampaign');\n",
            "            if(!form) return;\n",
            "\n",
            "            criaCampo('utm_source', param('utm_source'), form);\n",
            "            criaCampo('utm_campaign', param('utm_campaign'), form);\n",
            "            criaCampo('utm_medium', param('utm_medium'), form);\n",
            "            criaCampo('utm_term', param('utm_term'), form);\n",
            "            criaCampo('utm_content', param('utm_content'), form);\n",
            "            criaCampo('full_url', location.href, form);\n",
            "            criaCampo('user_agent', navigator.userAgent, form);\n",
            "            criaCampo('referral', document.referrer, form);\n",
            "\n",
            "            form.onsubmit = valida;\n",
            "\n",
            "        })();</script> <div\n",
            "class=\"footer-navegue empresa-governo\"><h2 class=\"footer-navegacao-titulo\">Alura na sua empresa</h2><ul\n",
            "class=\"footer-navegue-lista\"><li\n",
            "class=\"footer-navegue-lista-link alura-empresas\">Desenvolva seu time com apoio da nossa solução</li><li\n",
            "class=\"footer-navegue-lista-link alura-empresas\"><a\n",
            "href=\"https://www.alura.com.br/empresas\">Conheça mais</a></li></ul><h2 class=\"footer-navegacao-titulo\">Comunidade</h2><ul\n",
            "class=\"footer-navegue-lista\"><li\n",
            "class=\"footer-navegue-lista-link\"><a\n",
            "href=\"https://www.scuba.dev.br/\" gtm-data=\"footer_primeira_secao_067\">Scuba Dev</a></li><li\n",
            "class=\"footer-navegue-lista-link\"><a\n",
            "href=\"/imersao\" gtm-data=\"footer_primeira_secao_068\">Imersões</a></li><li\n",
            "class=\"footer-navegue-lista-link\"><a\n",
            "href=\"/depoimentos\" gtm-data=\"footer_primeira_secao_069\">Depoimentos</a></li><li\n",
            "class=\"footer-navegue-lista-link\"><a\n",
            "href=\"/instrutores\" gtm-data=\"footer_primeira_secao_061\">Nossos Instrutores</a></li></ul><h2 class=\"footer-navegacao-titulo\">Parceiros</h2><ul\n",
            "class=\"footer-navegue-lista\"><li\n",
            "class=\"footer-navegue-lista-link alura-empresas\">\n",
            "<img\n",
            "src=\"/assets/img/footer/scale-up-endeavor.1617662393.png\" alt=\"Programa de aceleração Scale-Up Endeavor\" class=\"footer-navegue-lista__image\"></li><li\n",
            "class=\"footer-navegue-lista-link alura-empresas --partners\">\n",
            "Nós, da Alura, somos uma das Scale-Ups selecionadas pela Endeavor, programa de aceleração das empresas que mais crescem no país.</li></ul></div></div><div\n",
            "class=\"footer-info\"><div\n",
            "class=\"footer-logos\">\n",
            "<a\n",
            "class=\"footer-logos-home\" gtm-data='footer_primeira_secao_050' href=\"/\">\n",
            "<img\n",
            "src=\"/assets/img/home/alura-logo.1616501197.svg\" alt=\"Alura\" class=\"footer-logo\">\n",
            "</a></div><div\n",
            "class=\"footer-card-hotLinks social-desktop\"><h2 class=\"footer-card-hotLinks-titulo\">Nossas redes e apps</h2><div\n",
            "class=\"footer-card-hotLinks-info footer-card-redes\">\n",
            "<a\n",
            "href=\"https://www.youtube.com/alura\" gtm-data='footer_primeira_secao_065' class=\"footer-card-hotLinks-link\" target=\"_blank\" title=\"YouTube da Alura\">\n",
            "<svg\n",
            "class=\"footer-card-hotLinks-icon footer-card-hotLinks-youtube\"><use\n",
            "xlink:href=\"/svg,1617662393/footer#icon-footer-youtube\"/></svg>\n",
            "<span>YouTube</span>\n",
            "</a>\n",
            "<a\n",
            "href=\"https://www.facebook.com/AluraCursosOnline/\" gtm-data='footer_primeira_secao_066' class=\"footer-card-hotLinks-link\" target=\"_blank\" title=\"Facebook da Alura\">\n",
            "<svg\n",
            "class=\"footer-card-hotLinks-icon footer-card-hotLinks-facebook\"><use\n",
            "xlink:href=\"/svg,1617662393/footer#icon-footer-facebook\"/></svg>\n",
            "<span>Facebook</span>\n",
            "</a>\n",
            "<a\n",
            "href=\"https://twitter.com/aluraonline\" gtm-data='footer_primeira_secao_067' class=\"footer-card-hotLinks-link\" target=\"_blank\" title=\"Twitter da Alura\">\n",
            "<svg\n",
            "class=\"footer-card-hotLinks-icon footer-card-hotLinks-twitter\"><use\n",
            "xlink:href=\"/svg,1617662393/footer#icon-footer-twitter\"/></svg>\n",
            "<span>Twitter</span>\n",
            "</a>\n",
            "<a\n",
            "href=\"https://instagram.com/aluraonline\" class=\"footer-card-hotLinks-link\" gtm-data='footer_primeira_secao_073' target=\"_blank\" title=\"Instagram da Alura\">\n",
            "<svg\n",
            "class=\"footer-card-hotLinks-icon footer-card-hotLinks-instagram\"><use\n",
            "xlink:href=\"/svg,1617662393/footer#icon-footer-instagram\"/></svg>\n",
            "<span>Instagram</span>\n",
            "</a></div><div\n",
            "class=\"footer-card-hotLinks-info footer-card-mobile\">\n",
            "<a\n",
            "href=\"https://play.google.com/store/apps/details?id=br.com.alura.mobi&hl=pt_BR\" gtm-data='footer_primeira_secao_069' class=\"footer-card-hotLinks-link\" target=\"_blank\" title=\"Baixar na Google Play Store\">\n",
            "<svg\n",
            "class=\"footer-card-hotLinks-icon footer-card-hotLinks-mobile\"><use\n",
            "xlink:href=\"/svg,1617662393/footer#icon-footer-googleplay\"/></svg>\n",
            "<span>Google Play Store</span>\n",
            "</a>\n",
            "<a\n",
            "href=\"https://itunes.apple.com/br/app/alura-cursos-online/id1225776635\" gtm-data='footer_primeira_secao_070' class=\"footer-card-hotLinks-link\" target=\"_blank\" title=\"Baixar na AppStore\">\n",
            "<svg\n",
            "class=\"footer-card-hotLinks-icon footer-card-hotLinks-mobile\"><use\n",
            "xlink:href=\"/svg,1617662393/footer#icon-footer-appstore\"/></svg>\n",
            "<span>AppStore</span>\n",
            "</a></div></div></div></div></footer><section\n",
            "class=\"footer_categorias-formacoes\"><div\n",
            "class=\"container\"><div\n",
            "class=\"footer_categorias_wrapper\"><h2 class=\"footer_categorias_title\">Cursos</h2><div\n",
            "class=\"footer_categorias_categorias footer-navegue-lista-link\"><div\n",
            "class=\"footer_categorias_categoria\">\n",
            "<a\n",
            "href=\"/cursos-online-mobile\">Cursos de Mobile</a><div\n",
            "class=\"footer_categorias_subcategorias\">\n",
            "<a\n",
            "href=\"/cursos-online-mobile/multiplataforma\">\n",
            "Flutter, React Native                                    </a>\n",
            "|                                                                    <a\n",
            "href=\"/cursos-online-mobile/ios\">\n",
            "iOS e Swift                                    </a>\n",
            "|                                                                    <a\n",
            "href=\"/cursos-online-mobile/android\">\n",
            "Android, Kotlin                                    </a>\n",
            "|                                                                    <a\n",
            "href=\"/cursos-online-mobile/jogos\">\n",
            "Jogos                                    </a></div></div><div\n",
            "class=\"footer_categorias_categoria\">\n",
            "<a\n",
            "href=\"/cursos-online-programacao\">Cursos de Programação</a><div\n",
            "class=\"footer_categorias_subcategorias\">\n",
            "<a\n",
            "href=\"/cursos-online-programacao/logica\">\n",
            "Lógica                                    </a>\n",
            "|                                                                    <a\n",
            "href=\"/cursos-online-programacao/python\">\n",
            "Python                                    </a>\n",
            "|                                                                    <a\n",
            "href=\"/cursos-online-programacao/php\">\n",
            "PHP                                    </a>\n",
            "|                                                                    <a\n",
            "href=\"/cursos-online-programacao/java\">\n",
            "Java                                    </a>\n",
            "|                                                                    <a\n",
            "href=\"/cursos-online-programacao/dotnet\">\n",
            ".NET                                    </a>\n",
            "|                                                                    <a\n",
            "href=\"/cursos-online-programacao/node-js\">\n",
            "Node JS                                    </a>\n",
            "|                                                                    <a\n",
            "href=\"/cursos-online-programacao/linguagem-c\">\n",
            "C                                    </a>\n",
            "|                                                                    <a\n",
            "href=\"/cursos-online-programacao/computacao\">\n",
            "Computação                                    </a>\n",
            "|                                                                    <a\n",
            "href=\"/cursos-online-programacao/jogos\">\n",
            "Jogos                                    </a></div></div><div\n",
            "class=\"footer_categorias_categoria\">\n",
            "<a\n",
            "href=\"/cursos-online-front-end\">Cursos de Front-end</a><div\n",
            "class=\"footer_categorias_subcategorias\">\n",
            "<a\n",
            "href=\"/cursos-online-front-end/front-end\">\n",
            "HTML, CSS                                    </a>\n",
            "|                                                                    <a\n",
            "href=\"/cursos-online-front-end/reactjs\">\n",
            "React                                    </a>\n",
            "|                                                                    <a\n",
            "href=\"/cursos-online-front-end/angular\">\n",
            "Angular                                    </a>\n",
            "|                                                                    <a\n",
            "href=\"/cursos-online-front-end/javascript\">\n",
            "JavaScript                                    </a>\n",
            "|                                                                    <a\n",
            "href=\"/cursos-online-front-end/jquery\">\n",
            "jQuery                                    </a></div></div><div\n",
            "class=\"footer_categorias_categoria\">\n",
            "<a\n",
            "href=\"/cursos-online-devops\">Cursos de DevOps</a><div\n",
            "class=\"footer_categorias_subcategorias\">\n",
            "<a\n",
            "href=\"/cursos-online-devops/seguranca\">\n",
            "Segurança                                    </a>\n",
            "|                                                                    <a\n",
            "href=\"/cursos-online-devops/cloud-computing\">\n",
            "Cloud                                    </a>\n",
            "|                                                                    <a\n",
            "href=\"/cursos-online-devops/linux-comandos-e-processos\">\n",
            "Linux                                    </a>\n",
            "|                                                                    <a\n",
            "href=\"/cursos-online-devops/internet-das-coisas\">\n",
            "IoT                                    </a>\n",
            "|                                                                    <a\n",
            "href=\"/cursos-online-devops/redes\">\n",
            "Redes                                    </a></div></div><div\n",
            "class=\"footer_categorias_categoria\">\n",
            "<a\n",
            "href=\"/cursos-online-design-ux\">Cursos de Design & UX</a><div\n",
            "class=\"footer_categorias_subcategorias\">\n",
            "<a\n",
            "href=\"/cursos-online-design-ux/wwww\">\n",
            "Photoshop e Illustrator                                    </a>\n",
            "|                                                                    <a\n",
            "href=\"/cursos-online-design-ux/ux\">\n",
            "Usabilidade e UX                                    </a>\n",
            "|                                                                    <a\n",
            "href=\"/cursos-online-design-ux/video\">\n",
            "Vídeo e Motion                                    </a>\n",
            "|                                                                    <a\n",
            "href=\"/cursos-online-design-ux/3d\">\n",
            "3D                                    </a></div></div><div\n",
            "class=\"footer_categorias_categoria\">\n",
            "<a\n",
            "href=\"/cursos-online-data-science\">Cursos de Data Science</a><div\n",
            "class=\"footer_categorias_subcategorias\">\n",
            "<a\n",
            "href=\"/cursos-online-data-science/sql\">\n",
            "SQL e Banco de Dados                                    </a>\n",
            "|                                                                    <a\n",
            "href=\"/cursos-online-data-science/nosql\">\n",
            "NoSQL                                    </a>\n",
            "|                                                                    <a\n",
            "href=\"/cursos-online-data-science/data-science\">\n",
            "Data Science                                    </a>\n",
            "|                                                                    <a\n",
            "href=\"/cursos-online-data-science/machine-learning\">\n",
            "Machine Learning                                    </a>\n",
            "|                                                                    <a\n",
            "href=\"/cursos-online-data-science/business-intelligence\">\n",
            "BI                                    </a>\n",
            "|                                                                    <a\n",
            "href=\"/cursos-online-data-science/estatistica\">\n",
            "Estatística                                    </a>\n",
            "|                                                                    <a\n",
            "href=\"/cursos-online-data-science/excel\">\n",
            "Excel                                    </a></div></div><div\n",
            "class=\"footer_categorias_categoria\">\n",
            "<a\n",
            "href=\"/cursos-online-inovacao-gestao\">Cursos de Inovação & Gestão</a><div\n",
            "class=\"footer_categorias_subcategorias\">\n",
            "<a\n",
            "href=\"/cursos-online-inovacao-gestao/agilidade\">\n",
            "Métodos Ágeis                                    </a>\n",
            "|                                                                    <a\n",
            "href=\"/cursos-online-inovacao-gestao/softskills-carreira\">\n",
            "Softskills                                    </a>\n",
            "|                                                                    <a\n",
            "href=\"/cursos-online-inovacao-gestao/gestao-corporativa\">\n",
            "Liderança e Gestão                                    </a>\n",
            "|                                                                    <a\n",
            "href=\"/cursos-online-inovacao-gestao/startup-empreendedorismo\">\n",
            "Startups                                    </a>\n",
            "|                                                                    <a\n",
            "href=\"/cursos-online-inovacao-gestao/vendas\">\n",
            "Vendas                                    </a></div></div></div></div></div></section><style>@media not all and (min-width: 1000px){\n",
            "\t\t.grupoCaelum{\n",
            "\t\t\tdisplay: none;\n",
            "\t\t}\n",
            "\t}\n",
            "\n",
            "\t.grupoCaelum{\n",
            "\t\tbackground: #fff;\n",
            "\t\theight: 400px;\n",
            "\t\tborder-top: 1px solid #EBEBEE;\n",
            "\t}\n",
            "\n",
            "\t.grupoCaelum .container{\n",
            "\t\tdisplay: flex;\n",
            "\t\tjustify-content: space-between;\n",
            "\t\talign-items: flex-start;\n",
            "\t\tpadding-top: 0;\n",
            "\t\tpadding-bottom: 0;\n",
            "\t\theight: 100%;\n",
            "\t}\n",
            "\n",
            "\t\t.grupoCaelum-list{\n",
            "\t\t\tdisplay: flex;\n",
            "\t\t\tlist-style: none;\n",
            "\t\t\twidth: 60%;\n",
            "\t\t\tjustify-content: space-between;\n",
            "\t\t\talign-items: flex-start;\n",
            "\t\t\tmargin-top: 20px;\n",
            "\t\t}\n",
            "\n",
            "\t\t.grupoCaelum-title{\n",
            "\t\t\twidth: 20%;\n",
            "\t\t}\n",
            "\n",
            "\t\t.grupoCaelum-column {\n",
            "\t\t\tdisplay: inline-block;\n",
            "\t\t\tpadding-left: 19px;\n",
            "\t\t\twidth: 240px;\n",
            "\t\t\theight: 350px;\n",
            "\t\t\tmin-width: 160px;\n",
            "\t\t}\n",
            "\t\t\t.grupoCaelum-column-title {\n",
            "\t\t\t\tfont-size: 10px;\n",
            "\t\t\t\tcolor: #d7e0e5;\n",
            "\t\t\t\ttext-transform: uppercase;\n",
            "\t\t\t\tfont-weight: 600;\n",
            "\t\t\t\tmargin-bottom: 19px;\n",
            "\t\t\t}\n",
            "\n",
            "\t\t\t.grupoCaelum-column-list {\n",
            "\t\t\t\tlist-style: none;\n",
            "\t\t\t}\n",
            "\n",
            "\t\t\t.column-item-title {\n",
            "\t\t\t\tfont-size: 11px;\n",
            "\t\t\t\ttext-align: center;\n",
            "\t\t\t\tvertical-align: middle;\n",
            "\t\t\t\tdisplay: inline-block;\n",
            "\t\t\t\tmargin-left: 6.5px;\n",
            "\t\t\t}\n",
            "\n",
            "\t\t.grupoCaelum-column:not(:first-child) {\n",
            "\t\t\tborder-left: solid 1px #e3e9ed;\n",
            "\t\t}\n",
            "\n",
            "\t\t.grupoCaelum-title {\n",
            "\t\t\tdisplay: inline-block;\n",
            "\t\t\ttext-decoration: none;\n",
            "\t\t\tcolor: #657176;\n",
            "\t\t\tletter-spacing: normal;\n",
            "\t\t\tfont-size: 18px;\n",
            "\t\t\tmargin-top: 54px;\n",
            "\t\t}\n",
            "\n",
            "\t.column-item-logo {\n",
            "\t\twidth: 30px;\n",
            "\t\theight: 30px;\n",
            "\t\tvertical-align: middle;\n",
            "\t\tdisplay: inline-block;\n",
            "\t}\n",
            "\n",
            "\t.column-item {\n",
            "\t\tmargin-bottom: 17px;\n",
            "\t}\n",
            "\n",
            "\t.column-item a{\n",
            "\t\ttext-decoration: none;\n",
            "\t\tcolor: #657176;\n",
            "\t}</style><footer\n",
            "class=\"caelum-footer\"><div\n",
            "class=\"grupoCaelum\"><div\n",
            "class=\"container\"><p\n",
            "class=\"grupoCaelum-title\">Grupo Alura</p><ul\n",
            "class=\"grupoCaelum-list\"><li\n",
            "class=\"grupoCaelum-column\"><p\n",
            "class=\"grupoCaelum-column-title\">Educação</p><ul\n",
            "class=\"grupoCaelum-column-list\"><li\n",
            "class=\"column-item\">\n",
            "<a\n",
            "target=\"_blank\" href=\"https://www.caelum.com.br\">\n",
            "<svg\n",
            "class=\"column-item-logo\">\n",
            "<use\n",
            "xlink:href=\"/svg,1618322835/caelumFooter#icon-caelumFooter-novo-logo-caelum\">\n",
            "<span\n",
            "class=\"column-item-title\">Caelum</span>\n",
            "</svg>\n",
            "</a></li><li\n",
            "class=\"column-item\">\n",
            "<a\n",
            "target=\"_blank\" href=\"https://www.casadocodigo.com.br\">\n",
            "<svg\n",
            "class=\"column-item-logo\"><use\n",
            "xlink:href=\"/svg,1618322835/caelumFooter#icon-caelumFooter-cdc\"><span\n",
            "class=\"column-item-title\">Casa do Código</span></svg>\n",
            "</a></li></ul></li><li\n",
            "class=\"grupoCaelum-column\"><p\n",
            "class=\"grupoCaelum-column-title\">Educação Online</p><ul\n",
            "class=\"grupoCaelum-column-list\"><li\n",
            "class=\"column-item\">\n",
            "<a\n",
            "target=\"_blank\" href=\"https://www.alura.com.br\">\n",
            "<svg\n",
            "class=\"column-item-logo\"><use\n",
            "xlink:href=\"/svg,1618322835/caelumFooter#icon-caelumFooter-alura\"><span\n",
            "class=\"column-item-title\">Alura</span></svg>\n",
            "</a></li><li\n",
            "class=\"column-item\">\n",
            "<a\n",
            "target=\"_blank\" href=\"https://www.alura.com.br/empresas\">\n",
            "<svg\n",
            "class=\"column-item-logo\" style=\"fill: white;\"><use\n",
            "xlink:href=\"/svg,1618322835/caelumFooter#icon-caelumFooter-alura-empresas\"><span\n",
            "class=\"column-item-title\">Alura para Empresas</span></svg>\n",
            "</a></li><li\n",
            "class=\"column-item\">\n",
            "<a\n",
            "target=\"_blank\" href=\"https://www.aluracursos.com\">\n",
            "<svg\n",
            "class=\"column-item-logo\"><use\n",
            "xlink:href=\"/svg,1618322835/caelumFooter#icon-caelumFooter-alura\"><span\n",
            "class=\"column-item-title\">Alura LATAM</span></svg>\n",
            "</a></li><li\n",
            "class=\"column-item\">\n",
            "<a\n",
            "target=\"_blank\" href=\"https://www.alurastart.com.br\">\n",
            "<svg\n",
            "class=\"column-item-logo\"><use\n",
            "xlink:href=\"/svg,1618322835/caelumFooter#icon-caelumFooter-alurastart\"><span\n",
            "class=\"column-item-title\">Alura Start</span></svg>\n",
            "</a></li><li\n",
            "class=\"column-item\">\n",
            "<a\n",
            "target=\"_blank\" href=\"https://www.musicdot.com.br\">\n",
            "<svg\n",
            "class=\"column-item-logo\"><use\n",
            "xlink:href=\"/svg,1618322835/caelumFooter#icon-caelumFooter-musicdot\"><span\n",
            "class=\"column-item-title\">MusicDot</span></svg>\n",
            "</a></li><li\n",
            "class=\"column-item\">\n",
            "<a\n",
            "target=\"_blank\" href=\"https://www.aluralingua.com.br\">\n",
            "<svg\n",
            "class=\"column-item-logo\"><use\n",
            "xlink:href=\"/svg,1618322835/caelumFooter#icon-caelumFooter-aluralingua\"><span\n",
            "class=\"column-item-title\">Alura Língua</span></svg>\n",
            "</a></li><li\n",
            "class=\"column-item\">\n",
            "<a\n",
            "target=\"_blank\" style=\"fill: #657176\" href=\"https://www.cursospm3.com.br/\">\n",
            "<svg\n",
            "class=\"column-item-logo\"><use\n",
            "xlink:href=\"/svg,1618322835/caelumFooter#icon-caelumFooter-pm3\"><span\n",
            "class=\"column-item-title\">PM3</span></svg>\n",
            "</a></li></ul></li><li\n",
            "class=\"grupoCaelum-column\"><p\n",
            "class=\"grupoCaelum-column-title\">Comunidade</p><ul\n",
            "class=\"grupoCaelum-column-list\"><li\n",
            "class=\"column-item\">\n",
            "<a\n",
            "target=\"_blank\" href=\"https://hipsters.tech\">\n",
            "<svg\n",
            "class=\"column-item-logo\"><use\n",
            "xlink:href=\"/svg,1618322835/caelumFooter#icon-caelumFooter-hipsterstech\"><span\n",
            "class=\"column-item-title\">Hipsters ponto Tech</span></svg>\n",
            "</a></li><li\n",
            "class=\"column-item\">\n",
            "<a\n",
            "target=\"_blank\" href=\"https://scuba.dev.br\">\n",
            "<svg\n",
            "class=\"column-item-logo\" style=\"fill: #657176\"><use\n",
            "xlink:href=\"/svg,1618322835/caelumFooter#icon-caelumFooter-scubadev\"><span\n",
            "class=\"column-item-title\">Scuba Dev</span></svg>\n",
            "</a></li><li\n",
            "class=\"column-item\">\n",
            "<a\n",
            "target=\"_blank\" href=\"https://layerspontotech.com.br\">\n",
            "<svg\n",
            "class=\"column-item-logo\"><use\n",
            "xlink:href=\"/svg,1618322835/caelumFooter#icon-caelumFooter-layerstech\"><span\n",
            "class=\"column-item-title\">Layers ponto Tech</span></svg>\n",
            "</a></li><li\n",
            "class=\"column-item\">\n",
            "<a\n",
            "target=\"_blank\" href=\"https://likeaboss.com.br\">\n",
            "<svg\n",
            "class=\"column-item-logo\" style=\"fill: #657176\"><use\n",
            "xlink:href=\"/svg,1618322835/caelumFooter#icon-caelumFooter-likeaboss\"><span\n",
            "class=\"column-item-title\">Like a Boss</span></svg>\n",
            "</a></li><li\n",
            "class=\"column-item\">\n",
            "<a\n",
            "target=\"_blank\" href=\"https://hipsters.jobs\">\n",
            "<svg\n",
            "class=\"column-item-logo\"><use\n",
            "xlink:href=\"/svg,1618322835/caelumFooter#icon-caelumFooter-hipstersjobs\"><span\n",
            "class=\"column-item-title\">Hipsters ponto Jobs</span></svg>\n",
            "</a></li><li\n",
            "class=\"column-item\">\n",
            "<a\n",
            "target=\"_blank\" href=\"https://www.guj.com.br\">\n",
            "<svg\n",
            "class=\"column-item-logo\"><use\n",
            "xlink:href=\"/svg,1618322835/caelumFooter#icon-caelumFooter-guj\"><span\n",
            "class=\"column-item-title\">GUJ</span></svg>\n",
            "</a></li></ul></li></ul></div></div></footer> <script>(function(){\n",
            "    var match = location.pathname.match(/\\/(bf-|black-?friday\\/)([^\\/]+)/);\n",
            "    if (match != null) {\n",
            "        var links = document.querySelectorAll('a[href]');\n",
            "        for (var i = 0; i < links.length; i++) {\n",
            "            var href = links[i].getAttribute('href');\n",
            "            if (href[0] === '/') {\n",
            "                links[i].setAttribute('href', '/bf-' + match[2] + href);\n",
            "            }\n",
            "        }\n",
            "    }\n",
            "})();</script> <script src=\"https://ajax.googleapis.com/ajax/libs/jquery/3.5.1/jquery.min.js\"></script> <script src=\"/assets/js/lib/svg4everybody.min.1616501197.js\" async></script> <script src=\"/assets/js/header/menu.1616501197.js\" async></script> <script src=\"/assets/js/header/busca.1616501197.js\" async></script> <script src=\"/assets/js/header/cursos.1617821052.js\" async></script> <script src=\"/assets/js/detect.1616501197.js\" async></script> <script src=\"/assets/js/video.1616501197.js\" async></script> <script src=\"/assets/js/Countdown.1616501197.js\" async></script> <script>var userId = (document.cookie.match('alura.userId=([^;]+)')||[null,null])[1];\n",
            "  window.ga=window.ga||function(){(ga.q=ga.q||[]).push(arguments)};ga.l=+new Date;\n",
            "\n",
            "  \tga('create', 'UA-42101548-1', 'alura.com.br', 'tracker0', {'siteSpeedSampleRate': 50});\n",
            "\n",
            "\tif (userId) ga('tracker0.set', 'userId', userId);\n",
            "\n",
            "\tga('tracker0.require', 'displayfeatures');\n",
            "\tga('tracker0.send', 'pageview');\n",
            "  \tga('create', 'UA-42101548-9', 'alura.com.br', 'tracker1', {'siteSpeedSampleRate': 50});\n",
            "\n",
            "\tif (userId) ga('tracker1.set', 'userId', userId);\n",
            "\n",
            "\tga('tracker1.require', 'displayfeatures');\n",
            "\tga('tracker1.send', 'pageview');</script> <script async src='//www.google-analytics.com/analytics.js'></script> <script src=\"/assets/js/footer/footer.1616501197.js\" async></script> <script src=\"//cdnjs.cloudflare.com/ajax/libs/highlight.js/10.4.0/highlight.min.js\"></script> <script>hljs.initHighlightingOnLoad();</script> <script src=\"https://static.criteo.net/js/ld/ld.js\" async></script> <script>function criteoPush(event, data){\n",
            "\t\tvar isAluno = document.cookie.match('alura.userId=([^;]+)') != null;\n",
            "\t\tif(isAluno) return;\n",
            "\n",
            "\t\twindow.criteo_q = window.criteo_q || [];\n",
            "\t\t\n",
            "\t\tif (event == 'viewHome')\n",
            "\t\t\tvar dt = { event: event}\n",
            "\t\telse\n",
            "\t\t\tvar dt = { event: event, item: data};\n",
            "\n",
            "\t\twindow.criteo_q.push(\n",
            "\t\t\t{ event: \"setAccount\", account: 28037 },\n",
            "\t\t\t{ event: \"setEmail\", email: \"\" },\n",
            "\t\t\t{ event: \"setSiteType\", type: (/iPad/.test(navigator.userAgent) ? \"t\" : (/Mobile|iP(hone|od)|Android|BlackBerry|IEMobile/.test(navigator.userAgent) ? \"m\" : \"d\")) },\n",
            "\t\t\tdt\n",
            "\t\t);\t\n",
            "\t};\n",
            "\n",
            "\t\t\tcriteoPush(\"viewHome\", \"\");\n",
            "\t\t\n",
            "\t\tvar criteoIdEl = document.querySelector('[data-criteo-id]');\n",
            "\tif (criteoIdEl) {\n",
            "        var products = JSON.parse(criteoIdEl.dataset.criteoId);\n",
            "        var planos = document.querySelectorAll('[data-payment-plan]');\n",
            "\n",
            "        planos.forEach(function (plano) {\n",
            "            plano.addEventListener('click', function (event) {\n",
            "\t\t\t\tvar price = plano.dataset.paymentPlanPrice;\n",
            "                var totalProducts = products.length;\n",
            "\t\t\t\tvar productIds = '';\n",
            "\n",
            "                for(var i = 0; i < totalProducts; i++){\n",
            "                    products[i]['price'] = price;\n",
            "                    products[i]['quantity'] = 1;\n",
            "\t\t\t\t\tproductIds += ',' + products[i]['id'];\n",
            "                }\n",
            "\n",
            "\t\t\t\tproductIds = productIds.substr(1);\n",
            "\n",
            "\t\t\t\t// monta cookie pro Cart indicando quais cursos foram clicados\n",
            "        \t\tdocument.cookie = \"criteo.productIds=\" + productIds + \"; path=/; domain=.alura.com.br\";\n",
            "\n",
            "\t\t\t\t// manda pro criteo\n",
            "                criteoPush(\"viewBasket\", products);\n",
            "            });\n",
            "        });\n",
            "\n",
            "\n",
            "\t}</script> <script>(function(h,o,t,j,a,r){\n",
            "        h.hj=h.hj||function(){(h.hj.q=h.hj.q||[]).push(arguments)};\n",
            "        h._hjSettings={hjid:1029027,hjsv:6};\n",
            "        a=o.getElementsByTagName('head')[0];\n",
            "        r=o.createElement('script');r.async=1;\n",
            "        r.src=t+h._hjSettings.hjid+j+h._hjSettings.hjsv;\n",
            "        a.appendChild(r);\n",
            "    })(window,document,'https://static.hotjar.com/c/hotjar-','.js?sv=');</script> <script type=\"text/javascript\">_linkedin_partner_id = \"465017\";\n",
            "\t\t\twindow._linkedin_data_partner_ids = window._linkedin_data_partner_ids || [];\n",
            "\t\t\twindow._linkedin_data_partner_ids.push(_linkedin_partner_id);</script> <script type=\"text/javascript\">(function(){var s = document.getElementsByTagName(\"script\")[0];\n",
            "\t\t\tvar b = document.createElement(\"script\");\n",
            "\t\t\tb.type = \"text/javascript\";b.async = true;\n",
            "\t\t\tb.src = \"https://snap.licdn.com/li.lms-analytics/insight.min.js\";\n",
            "\t\t\ts.parentNode.insertBefore(b, s);})();</script> <noscript>\n",
            "<img\n",
            "height=\"1\" width=\"1\" style=\"display:none;\" alt=\"\"\n",
            "src=\"https://dc.ads.linkedin.com/collect/?pid=465017&fmt=gif\" />\n",
            "</noscript> <script src=\"/assets/js/home/animations.js\" async></script> </body></html>\n"
          ],
          "name": "stdout"
        }
      ]
    },
    {
      "cell_type": "markdown",
      "metadata": {
        "id": "YWlfucmWjFs5"
      },
      "source": [
        "#Dicionários \n",
        "\n",
        "---\n",
        "\n",
        "Um  dicionário  armazena  elementos. Vamos chamar estes  elementos  de  objetos.Cada  objeto  será  dividido  em  duas  partes:  chave  e dados. A chave é um dado único e exclusivo do elemento.Todo elemento deverá ter uma  chave.Através dela,vamos  identificar quem  é o objeto  e,consequentemente,poderemos visualizar os seus dados.\n"
      ]
    },
    {
      "cell_type": "code",
      "metadata": {
        "id": "CBp9bl2gMGng",
        "colab": {
          "base_uri": "https://localhost:8080/"
        },
        "outputId": "a7b1d6dd-b249-43dd-a603-71b7ec2113bc"
      },
      "source": [
        "usuarios = {}\n",
        "usuarios = {\n",
        "    'Chaves' : ['Chaves Silva' , '17/06/2021' , 'Recep_01'],\n",
        "    'Quico' : ['Enrico Flores' , '03/07/2021' , 'Raiox_02']\n",
        "}\n",
        "\n",
        "print(usuarios)"
      ],
      "execution_count": null,
      "outputs": [
        {
          "output_type": "stream",
          "text": [
            "{'Chaves': ['Chaves Silva', '17/06/2021', 'Recep_01'], 'Quico': ['Enrico Flores', '03/07/2021', 'Raiox_02']}\n"
          ],
          "name": "stdout"
        }
      ]
    },
    {
      "cell_type": "code",
      "metadata": {
        "colab": {
          "base_uri": "https://localhost:8080/"
        },
        "id": "apYwiSP5mDRC",
        "outputId": "cec69fd7-d58f-432f-f82a-6de98747e633"
      },
      "source": [
        "usuarios['Florinda'] = ['Florinda Flores' , '26/11/2021' , 'Recep_01']\n",
        "print(usuarios)"
      ],
      "execution_count": null,
      "outputs": [
        {
          "output_type": "stream",
          "text": [
            "{'Chaves': ['Chaves Silva', '17/06/2021', 'Recep_01'], 'Quico': ['Enrico Flores', '03/07/2021', 'Raiox_02'], 'Florinda': ['Florinda Flores', '26/11/2021', 'Recep_01']}\n"
          ],
          "name": "stdout"
        }
      ]
    },
    {
      "cell_type": "code",
      "metadata": {
        "colab": {
          "base_uri": "https://localhost:8080/"
        },
        "id": "4p27VHvYlQ4x",
        "outputId": "9d6f6d2e-181e-4b71-b434-001468859767"
      },
      "source": [
        "usuarios['Florinda'] = ['Florinda Flores' , '26/11/2020' , 'Recep_01']\n",
        "print(usuarios)"
      ],
      "execution_count": null,
      "outputs": [
        {
          "output_type": "stream",
          "text": [
            "{'Chaves': ['Chaves Silva', '17/06/2021', 'Recep_01'], 'Quico': ['Enrico Flores', '03/07/2021', 'Raiox_02'], 'Florinda': ['Florinda Flores', '26/11/2020', 'Recep_01']}\n"
          ],
          "name": "stdout"
        }
      ]
    },
    {
      "cell_type": "code",
      "metadata": {
        "colab": {
          "base_uri": "https://localhost:8080/"
        },
        "id": "Jua4vRXfm3LL",
        "outputId": "ad5f2527-7215-4e05-f382-b9448d80a262"
      },
      "source": [
        "print(usuarios)\n",
        "print('#####################===============##################')\n",
        "print('Dados: ' ,usuarios.get('Chaves'))"
      ],
      "execution_count": null,
      "outputs": [
        {
          "output_type": "stream",
          "text": [
            "{'Chaves': ['Chaves Silva', '17/06/2021', 'Recep_01'], 'Quico': ['Enrico Flores', '03/07/2021', 'Raiox_02'], 'Florinda': ['Florinda Flores', '26/11/2020', 'Recep_01']}\n",
            "#####################===============##################\n",
            "Dados:  ['Chaves Silva', '17/06/2021', 'Recep_01']\n"
          ],
          "name": "stdout"
        }
      ]
    },
    {
      "cell_type": "markdown",
      "metadata": {
        "id": "-yzL6TbOd9i-"
      },
      "source": [
        "código cru"
      ]
    },
    {
      "cell_type": "code",
      "metadata": {
        "id": "RaCdAxpZrY_k",
        "colab": {
          "base_uri": "https://localhost:8080/"
        },
        "outputId": "866592b3-76ad-4232-ad0c-9c618718bd08"
      },
      "source": [
        "#ManagerUsers v1\n",
        "usuarios = {}\n",
        "opcao=input(' O que deseja realizar?\\n' + \n",
        "              '<I> Para inserir um usuário:  \\n' +\n",
        "              '<P> Para pesquisar um usuário: \\n' +\n",
        "              '<E> Para excluir um usuário: \\n' +\n",
        "              '<L> Para listar um usuário: \\n' +\n",
        "              '<S> Para sair: ').upper()\n",
        "while opcao==\"I\" or opcao==\"P\" or opcao==\"E\" or opcao==\"L\":\n",
        "    if opcao == 'I':\n",
        "      chave=input('Digite o login: ').upper()\n",
        "      nome=input('Digite o nome: ').upper()\n",
        "      data=input('Digite a ultima data de acesso: ')\n",
        "      estacao=input('Digite a estacao acessada: ').upper()\n",
        "      usuarios[chave]=[nome, data, estacao]\n",
        "    print('Usuario cadastrado com sucesso')  \n",
        "    opcao=input(' O que deseja realizar?\\n' + \n",
        "             '<I> Para inserir um usuário:  \\n' +\n",
        "              '<P> Para pesquisar um usuário: \\n' +\n",
        "              '<E> Para excluir um usuário: \\n' +\n",
        "              '<L> Para listar um usuário: \\n' +\n",
        "              '<S> Para sair: ').upper()"
      ],
      "execution_count": null,
      "outputs": [
        {
          "output_type": "stream",
          "text": [
            " O que deseja realizar?\n",
            "<I> Para inserir um usuário:  \n",
            "<P> Para pesquisar um usuário: \n",
            "<E> Para excluir um usuário: \n",
            "<L> Para listar um usuário: \n",
            "<S> Para sair: i\n",
            "Digite o login: Edwiges\n",
            "Digite o nome: Edwiges a coruja\n",
            "Digite a ultima data de acesso: 24/07/2020\n",
            "Digite a estacao acessada: Caldeirao furado\n",
            "Usuario cadastrado com sucesso\n",
            " O que deseja realizar?\n",
            "<I> Para inserir um usuário:  \n",
            "<P> Para pesquisar um usuário: \n",
            "<E> Para excluir um usuário: \n",
            "<L> Para listar um usuário: \n",
            "<S> Para sair: i\n",
            "Digite o login: Gina\n",
            "Digite o nome: Gina weasley\n",
            "Digite a ultima data de acesso: 20/03/2021\n",
            "Digite a estacao acessada: Sala precisa\n",
            "Usuario cadastrado com sucesso\n",
            " O que deseja realizar?\n",
            "<I> Para inserir um usuário:  \n",
            "<P> Para pesquisar um usuário: \n",
            "<E> Para excluir um usuário: \n",
            "<L> Para listar um usuário: \n",
            "<S> Para sair: \n"
          ],
          "name": "stdout"
        }
      ]
    },
    {
      "cell_type": "code",
      "metadata": {
        "colab": {
          "base_uri": "https://localhost:8080/"
        },
        "id": "dNdTbtowxWh3",
        "outputId": "bca271c8-a402-4ba7-c774-8a800c12c0f0"
      },
      "source": [
        "#ManagerUsers v1.1\n",
        "usuarios = {}\n",
        "opcao=input(' O que deseja realizar?\\n' + \n",
        "             '<I> Para inserir um usuário:  \\n' +\n",
        "              '<P> Para pesquisar um usuário: \\n' +\n",
        "              '<E> Para excluir um usuário: \\n' +\n",
        "              '<L> Para listar um usuário: \\n' +\n",
        "              '<S> Para sair: ').upper()\n",
        "while opcao == 'I' or opcao =='P' or opcao =='E' or opcao == 'L':\n",
        "  if opcao == 'I':\n",
        "    chave=input('Digite o login: ').upper()\n",
        "    usuarios[chave]=[input('Digite o nome: ').upper(),\n",
        "                     input('Dgite a última data de acesso: '),\n",
        "                     input('Digite a última estação acessada: ').upper()]\n",
        "  print('Usuário cadastrado com sucesso!')                   \n",
        "  opcao=input(' O que deseja realizar?\\n' + \n",
        "             '<I> Para inserir um usuário:  \\n' +\n",
        "              '<P> Para pesquisar um usuário: \\n' +\n",
        "              '<E> Para excluir um usuário: \\n' +\n",
        "              '<L> Para listar um usuário: \\n' +\n",
        "              '<S> Para sair: ').upper()"
      ],
      "execution_count": null,
      "outputs": [
        {
          "output_type": "stream",
          "text": [
            " O que deseja realizar?\n",
            "<I> Para inserir um usuário:  \n",
            "<P> Para pesquisar um usuário: \n",
            "<E> Para excluir um usuário: \n",
            "<L> Para listar um usuário: \n",
            "<S> Para sair: i\n",
            "Digite o login: \n",
            "Digite o nome: \n",
            "Dgite a última data de acesso: \n",
            "Digite a última estação acessada: \n",
            "Usuário cadastrado com sucesso!\n",
            " O que deseja realizar?\n",
            "<I> Para inserir um usuário:  \n",
            "<P> Para pesquisar um usuário: \n",
            "<E> Para excluir um usuário: \n",
            "<L> Para listar um usuário: \n",
            "<S> Para sair: \n"
          ],
          "name": "stdout"
        }
      ]
    },
    {
      "cell_type": "code",
      "metadata": {
        "id": "auHalAVrIaI6"
      },
      "source": [
        "#pequeno teste envolvendo interação de usuário, datetime e dicionário\n",
        "from datetime import date, time, datetime, timedelta\n",
        "\n",
        "def data_cadastrada():\n",
        "  data_atual = date.today()\n",
        "  print('Cadastro realizado em :  {} '.format(data_atual))"
      ],
      "execution_count": null,
      "outputs": []
    },
    {
      "cell_type": "code",
      "metadata": {
        "colab": {
          "base_uri": "https://localhost:8080/"
        },
        "id": "KIFnvFtSIEtm",
        "outputId": "89716957-e059-4a82-cb52-4330f80b624b"
      },
      "source": [
        "#ManagerUsers v1.1.1\n",
        "usuarios = {}\n",
        "opcao=input(' O que deseja realizar?\\n' + \n",
        "              '<I> Para inserir um usuário:  \\n' +\n",
        "              '<P> Para pesquisar um usuário: \\n' +\n",
        "              '<E> Para excluir um usuário: \\n' +\n",
        "              '<L> Para listar um usuário: \\n' +\n",
        "              '<S> Para sair: ').upper()\n",
        "while opcao==\"I\" or opcao==\"P\" or opcao==\"E\" or opcao==\"L\":\n",
        "    if opcao == 'I':\n",
        "      chave=input('Digite o login: ').upper()\n",
        "      usuarios[chave]=[input('Digite o nome: ').upper(),\n",
        "                     input('Dgite a última data de acesso: '),\n",
        "                     input('Digite a última estação acessada: ').upper()]\n",
        "    print('Usuario cadastrado com sucesso') \n",
        "    data_cadastrada() \n",
        "    opcao=input(' O que deseja realizar?\\n' + \n",
        "             '<I> Para inserir um usuário:  \\n' +\n",
        "              '<P> Para pesquisar um usuário: \\n' +\n",
        "              '<E> Para excluir um usuário: \\n' +\n",
        "              '<L> Para listar um usuário: \\n' +\n",
        "              '<S> Para sair: ').upper()"
      ],
      "execution_count": null,
      "outputs": [
        {
          "output_type": "stream",
          "text": [
            " O que deseja realizar?\n",
            "<I> Para inserir um usuário:  \n",
            "<P> Para pesquisar um usuário: \n",
            "<E> Para excluir um usuário: \n",
            "<L> Para listar um usuário: \n",
            "<S> Para sair: i\n",
            "Digite o login: rayanejesus\n",
            "Digite o nome: rayane cristiana barbosa de avelar de jesus\n",
            "Dgite a última data de acesso: 20/03/2021\n",
            "Digite a última estação acessada: sala_ti\n",
            "Usuario cadastrado com sucesso\n",
            "Cadastro realizado em :  2021-04-14 \n",
            " O que deseja realizar?\n",
            "<I> Para inserir um usuário:  \n",
            "<P> Para pesquisar um usuário: \n",
            "<E> Para excluir um usuário: \n",
            "<L> Para listar um usuário: \n",
            "<S> Para sair: \n"
          ],
          "name": "stdout"
        }
      ]
    },
    {
      "cell_type": "markdown",
      "metadata": {
        "id": "pzy5A7jxeMzN"
      },
      "source": [
        "Definindo funções para melhorar a visualização e reduzir as redundâncias"
      ]
    },
    {
      "cell_type": "code",
      "metadata": {
        "id": "xs-LLXKqImlC"
      },
      "source": [
        "def pergunta():\n",
        "  return input(' O que deseja realizar?\\n' + \n",
        "             '<I> Para inserir um usuário:  \\n' +\n",
        "              '<P> Para pesquisar um usuário: \\n' +\n",
        "              '<E> Para excluir um usuário: \\n' +\n",
        "              '<L> Para listar um usuário: \\n' +\n",
        "              '<S> Para sair: ').upper()\n",
        "              "
      ],
      "execution_count": null,
      "outputs": []
    },
    {
      "cell_type": "code",
      "metadata": {
        "colab": {
          "base_uri": "https://localhost:8080/"
        },
        "id": "4ywVMZ47QrOQ",
        "outputId": "77b56671-0e8e-4ec7-c226-afa201e6ccc9"
      },
      "source": [
        "#ManagerUsers v1.1.2\n",
        "usuarios = {}\n",
        "opcao= pergunta()\n",
        "while opcao == 'I' or opcao =='P' or opcao =='E' or opcao == 'L':\n",
        "  if opcao == 'I':\n",
        "    chave=input('Digite o login: ').upper()\n",
        "    usuarios[chave]=[input('Digite o nome: ').upper(),\n",
        "                     input('Dgite a última data de acesso: '),\n",
        "                     input('Digite a última estação acessada: ').upper()]\n",
        "  print('Usuário cadastrado com sucesso!')                   \n",
        "  opcao= pergunta()"
      ],
      "execution_count": null,
      "outputs": [
        {
          "output_type": "stream",
          "text": [
            " O que deseja realizar?\n",
            "<I> Para inserir um usuário:  \n",
            "<P> Para pesquisar um usuário: \n",
            "<E> Para excluir um usuário: \n",
            "<L> Para listar um usuário: \n",
            "<S> Para sair: i\n",
            "Digite o login: rayanejesus\n",
            "Digite o nome: rayane cristiana barbosa de avelar de jesus\n",
            "Dgite a última data de acesso: 08/04/2021\n",
            "Digite a última estação acessada: home office\n",
            "Usuário cadastrado com sucesso!\n",
            " O que deseja realizar?\n",
            "<I> Para inserir um usuário:  \n",
            "<P> Para pesquisar um usuário: \n",
            "<E> Para excluir um usuário: \n",
            "<L> Para listar um usuário: \n",
            "<S> Para sair: i\n",
            "Digite o login: rafaelaladeira\n",
            "Digite o nome: rafaela aline severino ladeira\n",
            "Dgite a última data de acesso: 07/04/2021\n",
            "Digite a última estação acessada: notebook_quarto\n",
            "Usuário cadastrado com sucesso!\n",
            " O que deseja realizar?\n",
            "<I> Para inserir um usuário:  \n",
            "<P> Para pesquisar um usuário: \n",
            "<E> Para excluir um usuário: \n",
            "<L> Para listar um usuário: \n",
            "<S> Para sair: \n"
          ],
          "name": "stdout"
        }
      ]
    },
    {
      "cell_type": "code",
      "metadata": {
        "id": "M2pgR4EBRHyB"
      },
      "source": [
        "def inserir(dicionario):\n",
        "  dicionario[input('Digite o login: ').upper()] = [input('Digite o nome: ').upper(),\n",
        "                     input('Dgite a última data de acesso: '),\n",
        "                     input('Digite a última estação acessada: ').upper()]"
      ],
      "execution_count": null,
      "outputs": []
    },
    {
      "cell_type": "code",
      "metadata": {
        "colab": {
          "base_uri": "https://localhost:8080/"
        },
        "id": "XUgVew5QX_37",
        "outputId": "9057505f-f462-4fef-cae0-b4dc0af1e666"
      },
      "source": [
        "#ManagerUsers v1.2\n",
        "usuarios = {}\n",
        "opcao= pergunta()\n",
        "while opcao == 'I' or opcao =='P' or opcao =='E' or opcao == 'L':\n",
        "  if opcao == 'I':\n",
        "    inserir(usuarios)\n",
        "  print('Usuário cadastrado com sucesso: ')     \n",
        "  opcao= pergunta()"
      ],
      "execution_count": null,
      "outputs": [
        {
          "output_type": "stream",
          "text": [
            " O que deseja realizar?\n",
            "<I> Para inserir um usuário:  \n",
            "<P> Para pesquisar um usuário: \n",
            "<E> Para excluir um usuário: \n",
            "<L> Para listar um usuário: \n",
            "<S> Para sair: i\n",
            "Digite o nome: rayane cristiana barbosa de avelar de jesus\n",
            "Dgite a última data de acesso: 17/10/2020\n",
            "Digite a última estação acessada: home\n",
            "Digite o login: rayanejesus\n",
            "Usuário cadastrado com sucesso: \n",
            " O que deseja realizar?\n",
            "<I> Para inserir um usuário:  \n",
            "<P> Para pesquisar um usuário: \n",
            "<E> Para excluir um usuário: \n",
            "<L> Para listar um usuário: \n",
            "<S> Para sair: i\n",
            "Digite o nome: rafaela aline severino ladeira\n",
            "Dgite a última data de acesso: 10/02/2020\n",
            "Digite a última estação acessada: room\n",
            "Digite o login: rafaelaladeira\n",
            "Usuário cadastrado com sucesso: \n",
            " O que deseja realizar?\n",
            "<I> Para inserir um usuário:  \n",
            "<P> Para pesquisar um usuário: \n",
            "<E> Para excluir um usuário: \n",
            "<L> Para listar um usuário: \n",
            "<S> Para sair: \n"
          ],
          "name": "stdout"
        }
      ]
    },
    {
      "cell_type": "code",
      "metadata": {
        "id": "v2HrThFhY-8m"
      },
      "source": [
        "def pesquisar(dicionario, chave): \n",
        "  lista= dicionario.get(chave)\n",
        "  if lista!=None:\n",
        "      print('Nome ................: ' + lista [0])\n",
        "      print('Último acesso .......: ' + lista [1])\n",
        "      print('Última estação ......: ' + lista [2])\n",
        "\n",
        "def excluir(dicionario, chave):\n",
        "  if dicionario.get(chave)!=None:\n",
        "    del dicionario[chave]\n",
        "  print('Objeto eliminado!')\n",
        "\n",
        "def listar(dicionario):\n",
        "  for chave, valor in dicionario.items():\n",
        "      print('Objeto ......')\n",
        "      print('Login: ' , chave)\n",
        "      print('Dados: ', valor)\n",
        "        \n"
      ],
      "execution_count": null,
      "outputs": []
    },
    {
      "cell_type": "code",
      "metadata": {
        "colab": {
          "base_uri": "https://localhost:8080/"
        },
        "id": "-iADRrUbhita",
        "outputId": "b1df3748-8822-4e79-c4ef-898681acfad6"
      },
      "source": [
        "#ManagerUsers v1.3\n",
        "usuarios = {}\n",
        "opcao= pergunta()\n",
        "while opcao == 'I' or opcao =='P' or opcao =='E' or opcao == 'L':\n",
        "\n",
        "  if opcao == 'I':\n",
        "      inserir(usuarios)\n",
        "      print('Usuário cadastrado com sucesso: ')\n",
        "      \n",
        "  if opcao == 'P':\n",
        "      pesquisar(usuarios, input('Qual login deseja pesquisar? ').upper())\n",
        "  \n",
        "  if opcao == 'E':\n",
        "      excluir(usuarios, input('Qual login deseja excluir? ').upper())\n",
        "  \n",
        "  if opcao == 'L':\n",
        "      listar(usuarios)\n",
        "  opcao= pergunta()\n",
        "\n"
      ],
      "execution_count": null,
      "outputs": [
        {
          "output_type": "stream",
          "text": [
            " O que deseja realizar?\n",
            "<I> Para inserir um usuário:  \n",
            "<P> Para pesquisar um usuário: \n",
            "<E> Para excluir um usuário: \n",
            "<L> Para listar um usuário: \n",
            "<S> Para sair: i\n",
            "Digite o nome: rayane cristiana barbosa de avelar de jesus\n",
            "Dgite a última data de acesso: 15/03/2020\n",
            "Digite a última estação acessada: sala_ti\n",
            "Digite o login: rayanejesus\n",
            "Usuário cadastrado com sucesso: \n",
            " O que deseja realizar?\n",
            "<I> Para inserir um usuário:  \n",
            "<P> Para pesquisar um usuário: \n",
            "<E> Para excluir um usuário: \n",
            "<L> Para listar um usuário: \n",
            "<S> Para sair: p\n",
            "Qual login deseja pesquisar? rayanejesus\n",
            "Nome ................: RAYANE CRISTIANA BARBOSA DE AVELAR DE JESUS\n",
            "Último acesso .......: 15/03/2020\n",
            "Última estação ......: SALA_TI\n",
            " O que deseja realizar?\n",
            "<I> Para inserir um usuário:  \n",
            "<P> Para pesquisar um usuário: \n",
            "<E> Para excluir um usuário: \n",
            "<L> Para listar um usuário: \n",
            "<S> Para sair: e\n",
            "Qual login deseja excluir? rayanejesus\n",
            "Objeto eliminado!\n",
            " O que deseja realizar?\n",
            "<I> Para inserir um usuário:  \n",
            "<P> Para pesquisar um usuário: \n",
            "<E> Para excluir um usuário: \n",
            "<L> Para listar um usuário: \n",
            "<S> Para sair: p\n",
            "Qual login deseja pesquisar? rayanejesus\n",
            " O que deseja realizar?\n",
            "<I> Para inserir um usuário:  \n",
            "<P> Para pesquisar um usuário: \n",
            "<E> Para excluir um usuário: \n",
            "<L> Para listar um usuário: \n",
            "<S> Para sair: i\n",
            "Digite o nome: rafaela aline severino ladeira\n",
            "Dgite a última data de acesso: 10/02/2020\n",
            "Digite a última estação acessada: sala_professores\n",
            "Digite o login: rafaelaladeira\n",
            "Usuário cadastrado com sucesso: \n",
            " O que deseja realizar?\n",
            "<I> Para inserir um usuário:  \n",
            "<P> Para pesquisar um usuário: \n",
            "<E> Para excluir um usuário: \n",
            "<L> Para listar um usuário: \n",
            "<S> Para sair: i\n",
            "Digite o nome: rayane cristiana barbosa de avelar de jesus\n",
            "Dgite a última data de acesso: 20/03/2020\n",
            "Digite a última estação acessada: sala_ti\n",
            "Digite o login: rayanejesus\n",
            "Usuário cadastrado com sucesso: \n",
            " O que deseja realizar?\n",
            "<I> Para inserir um usuário:  \n",
            "<P> Para pesquisar um usuário: \n",
            "<E> Para excluir um usuário: \n",
            "<L> Para listar um usuário: \n",
            "<S> Para sair: l\n",
            "Objeto ......\n",
            "Login:  RAFAELALADEIRA\n",
            "Dados:  ['RAFAELA ALINE SEVERINO LADEIRA', '10/02/2020', 'SALA_PROFESSORES']\n",
            "Objeto ......\n",
            "Login:  RAYANEJESUS\n",
            "Dados:  ['RAYANE CRISTIANA BARBOSA DE AVELAR DE JESUS', '20/03/2020', 'SALA_TI']\n",
            " O que deseja realizar?\n",
            "<I> Para inserir um usuário:  \n",
            "<P> Para pesquisar um usuário: \n",
            "<E> Para excluir um usuário: \n",
            "<L> Para listar um usuário: \n",
            "<S> Para sair: \n"
          ],
          "name": "stdout"
        }
      ]
    },
    {
      "cell_type": "code",
      "metadata": {
        "id": "_gNaT_-pJb2s"
      },
      "source": [
        "#def inserir_dados(dicionario):\n",
        "\n",
        "#def pequisar_dados(dicionario, chave):\n",
        "\n",
        "#def excluir_dados(dicionario, chave):"
      ],
      "execution_count": null,
      "outputs": []
    },
    {
      "cell_type": "code",
      "metadata": {
        "colab": {
          "base_uri": "https://localhost:8080/",
          "height": 130
        },
        "id": "NWXz0EHe7jqt",
        "outputId": "51c2905f-2ed9-47b9-8494-391dde3765dd"
      },
      "source": [
        "from datetime import date, time, datetime, timedelta\n",
        "\n",
        "def perguntar():\n",
        "  return input(' O que deseja realizar?\\n' + \n",
        "             '<I> Para inserir um usuário:  \\n' +\n",
        "              '<P> Para pesquisar um usuário: \\n' +\n",
        "              '<E> Para excluir um usuário: \\n' +\n",
        "              '<L> Para listar um usuário: \\n' +\n",
        "              '<S> Para sair: ').upper()\n",
        "def inserir_dados(dicionario):\n",
        "  dicionario[('Mátricula: {}' .range(100, 999)),[input('Digite o login: ').upper()],\n",
        "                    [input('Digite o nome: ').upper(),\n",
        "                     input('Digite a última data de acesso: '),\n",
        "                     input('Digite a última estação acessada: ').upper()]\n",
        "\n",
        "def pesquisar_dados(dicionario, chave): \n",
        "  lista= dicionario.get(chave)\n",
        "  if lista!=None:\n",
        "      print('Nome ................: ' + lista [0])\n",
        "      print('Último acesso .......: ' + lista [1])\n",
        "      print('Última estação ......: ' + lista [2])\n",
        "\n",
        "def excluir_dados(dicionario, chave):\n",
        "  if dicionario.get(chave)!=None:\n",
        "    del dicionario[chave]\n",
        "  print('Objeto eliminado!')\n",
        "\n",
        "def listar_dados(dicionario):\n",
        "  for chave, valor in dicionario.items():\n",
        "      print('Objeto ......')\n",
        "      print('Login: ' , chave)\n",
        "      print('Dados: ', valor)\n",
        "\n",
        "\n",
        "def data_de_cadastro():\n",
        "  data_atual = date.today()\n",
        "  print('Cadastro realizado em :  {} '.format(data_atual))        \n"
      ],
      "execution_count": null,
      "outputs": [
        {
          "output_type": "error",
          "ename": "SyntaxError",
          "evalue": "ignored",
          "traceback": [
            "\u001b[0;36m  File \u001b[0;32m\"<ipython-input-24-13f012126cd1>\"\u001b[0;36m, line \u001b[0;32m16\u001b[0m\n\u001b[0;31m    def pesquisar_dados(dicionario, chave):\u001b[0m\n\u001b[0m      ^\u001b[0m\n\u001b[0;31mSyntaxError\u001b[0m\u001b[0;31m:\u001b[0m invalid syntax\n"
          ]
        }
      ]
    },
    {
      "cell_type": "code",
      "metadata": {
        "id": "v2UyO73M9pry"
      },
      "source": [
        ""
      ],
      "execution_count": null,
      "outputs": []
    }
  ]
}