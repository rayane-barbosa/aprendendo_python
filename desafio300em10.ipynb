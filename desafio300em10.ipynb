{
 "cells": [
  {
   "cell_type": "markdown",
   "metadata": {},
   "source": [
    "Desafio de codar por 30 dias, aprendendo diariamente com exercícios práticos, de forma a evoluir por etapas"
   ]
  },
  {
   "cell_type": "markdown",
   "metadata": {},
   "source": [
    "O conteúdo aqui disposto conta com o apoio didático do livro 300 Exercíciod resolvidos e comentados em python por Fernando Feltrin e pode ser encontrado no Kidle Amazon através do link"
   ]
  },
  {
   "cell_type": "code",
   "execution_count": null,
   "metadata": {},
   "outputs": [],
   "source": [
    "# Exercício 1: Cria 3 variáveis de tipos de dados diferentes\n",
    "\n",
    "nome = 'Fernando'\n",
    "ano = 1987  \n",
    "valor = 19.99"
   ]
  },
  {
   "cell_type": "markdown",
   "metadata": {},
   "source": [
    "Para declarar uma variável basta dar um nome para a mesma, seguido do operador de atribuição \"=\" e do conteúdo a ser atribuído a essa variável"
   ]
  },
  {
   "cell_type": "code",
   "execution_count": null,
   "metadata": {},
   "outputs": [],
   "source": [
    "# Exercício 2: Comentário simples no Python\n",
    "\n",
    "\"\"\" Contarios compostos,\n",
    "ou que podem demandar mais\n",
    "linhas, utiliza-se aspas duplas duplas.\"\"\"\n"
   ]
  },
  {
   "cell_type": "code",
   "execution_count": null,
   "metadata": {},
   "outputs": [],
   "source": [
    "#Exercício 3: Escreve um programa que mostra uma mensagem na tela: Olá Mundo!\n",
    "\n",
    "print('Olá Mundo!')"
   ]
  },
  {
   "cell_type": "code",
   "execution_count": 1,
   "metadata": {},
   "outputs": [],
   "source": [
    "# Exercício 4: Cria uma variável nome e atribui para a mesma um nome digitado pelo usuário\n",
    "\n",
    "nome = input('Nome: ')"
   ]
  },
  {
   "cell_type": "code",
   "execution_count": 1,
   "metadata": {},
   "outputs": [
    {
     "name": "stdout",
     "output_type": "stream",
     "text": [
      "1987\n",
      "<class 'int'>\n"
     ]
    }
   ],
   "source": [
    "#Exercício 5: Exibe na tela o valor e o tipo do dado\n",
    "\n",
    "num = 1987\n",
    "\n",
    "print(num)\n",
    "print(type(num))\n",
    "\n",
    "# type() função responsável por informar o tipo da variável"
   ]
  },
  {
   "cell_type": "code",
   "execution_count": 2,
   "metadata": {},
   "outputs": [],
   "source": [
    "# Exercício 6: Interação com usuário. Receba um numero e em seguida mostre na tela\n",
    "\n",
    "num = input('Digite um numero:')\n",
    "\n",
    "print(f'Numero digitado: {num}')"
   ]
  },
  {
   "cell_type": "code",
   "execution_count": null,
   "metadata": {},
   "outputs": [],
   "source": [
    "# Exercício 7: Receba um numero digitado peoo usuário e converta o mesmo em float, imprima o numero e o tipo\n",
    "\n",
    "num = input('Digite um numero:')\n",
    "num = float(num)\n",
    "\n",
    "print(num)\n",
    "print(type(num))\n"
   ]
  },
  {
   "cell_type": "code",
   "execution_count": 2,
   "metadata": {},
   "outputs": [
    {
     "name": "stdout",
     "output_type": "stream",
     "text": [
      "['Ana', 'Carlos', 'Daiane', 'Fernando', 'Maria']\n"
     ]
    }
   ],
   "source": [
    "# Exercício 8: Cria uma lista com 5 nomes\n",
    "\n",
    "nomes = ['Ana','Carlos', 'Daiane', 'Fernando','Maria'] \n",
    "\n",
    "print(nomes)"
   ]
  },
  {
   "cell_type": "code",
   "execution_count": 3,
   "metadata": {},
   "outputs": [
    {
     "name": "stdout",
     "output_type": "stream",
     "text": [
      "5\n",
      "Fernando\n"
     ]
    }
   ],
   "source": [
    " # Exercício 9: Mostra o tamanho da lista e sem seguida apenas o terceiro elemento\n",
    "\n",
    "nomes = ['Ana','Carlos', 'Daiane', 'Fernando','Maria'] \n",
    "\n",
    "print(len(nomes))\n",
    "\n",
    "print(nomes[3])\n",
    "#uso do colchete para informar qual é o elemento da lista, sendo 0 o valor inicial(Ana)"
   ]
  },
  {
   "cell_type": "code",
   "execution_count": 4,
   "metadata": {},
   "outputs": [
    {
     "name": "stdout",
     "output_type": "stream",
     "text": [
      "158\n"
     ]
    }
   ],
   "source": [
    "#Operação matemática com Python\n",
    "#Exercicio 10: Soma de dois numeros inteiros\n",
    "\n",
    "\n",
    "num1 = 52\n",
    "num2 = 106\n",
    "\n",
    "print(num1+num2)"
   ]
  },
  {
   "cell_type": "code",
   "execution_count": null,
   "metadata": {},
   "outputs": [],
   "source": [
    "# Ex - 11: Declare 2 variaveis int e uma terceira variavel para receber o resultado da soma dos dois numeros \n",
    "\n",
    "num1 = 52\n",
    "num2 = 106\n",
    "soma = num1 + num2\n",
    "\n",
    "print(soma)\n"
   ]
  },
  {
   "cell_type": "code",
   "execution_count": null,
   "metadata": {},
   "outputs": [],
   "source": [
    "# Ex - 12: Declare duas variaveis e realize a subtracao delas \n",
    "\n",
    "num1 = 52\n",
    "num2 = 106\n",
    "\n",
    "#solucao 1\n",
    "print (num1 - num2)\n",
    "\n",
    "#solucao 2 \n",
    "subtracao = num1 - num2\n",
    "\n",
    "print(subtracao)\n"
   ]
  },
  {
   "cell_type": "code",
   "execution_count": null,
   "metadata": {},
   "outputs": [],
   "source": [
    "# Ex - 13: Realize as operações de multiplicacao e divisao entre duas variaveis \n",
    "\n",
    "def multiplica(num1, num2):\n",
    "  mult = num1 * num2\n",
    "  return mult\n",
    "\n",
    "def divide(num1,num2):\n",
    "  div = num1/num2\n",
    "  return div\n",
    "\n",
    "mult = multiplica(10,50)\n",
    "print(mult)\n",
    "div = divide(50,10)\n",
    "print(div)\n"
   ]
  },
  {
   "cell_type": "code",
   "execution_count": null,
   "metadata": {},
   "outputs": [],
   "source": [
    "\n",
    "# Ex 14 - Eleve o num1 a 8 potencia\n",
    "\n",
    "#solucao 1\n",
    "num1 = 51\n",
    "print(num1 **8)\n",
    "\n",
    "#solucao 2\n",
    "def potencia(num1):\n",
    "  pot = num1 **8\n",
    "  return pot\n"
   ]
  }
 ],
 "metadata": {
  "kernelspec": {
   "display_name": "Python 3.10.5 64-bit",
   "language": "python",
   "name": "python3"
  },
  "language_info": {
   "codemirror_mode": {
    "name": "ipython",
    "version": 3
   },
   "file_extension": ".py",
   "mimetype": "text/x-python",
   "name": "python",
   "nbconvert_exporter": "python",
   "pygments_lexer": "ipython3",
   "version": "3.10.5"
  },
  "orig_nbformat": 4,
  "vscode": {
   "interpreter": {
    "hash": "369f2c481f4da34e4445cda3fffd2e751bd1c4d706f27375911949ba6bb62e1c"
   }
  }
 },
 "nbformat": 4,
 "nbformat_minor": 2
}
